{
 "cells": [
  {
   "cell_type": "code",
   "execution_count": 65,
   "metadata": {
    "collapsed": false,
    "nbpresent": {
     "id": "6412dc74-81e7-478a-9f75-c2f27b57d44c"
    },
    "slideshow": {
     "slide_type": "skip"
    }
   },
   "outputs": [],
   "source": [
    "## all imports\n",
    "from IPython.display import HTML\n",
    "import numpy as np\n",
    "import urllib2\n",
    "import bs4 #this is beautiful soup\n",
    "import time\n",
    "import operator\n",
    "import socket\n",
    "import cPickle\n",
    "import re # regular expressions\n",
    "\n",
    "from pandas import Series\n",
    "import pandas as pd\n",
    "from pandas import DataFrame\n",
    "\n",
    "import matplotlib\n",
    "import matplotlib.pyplot as plt\n",
    "%matplotlib inline\n",
    "\n",
    "import seaborn as sns\n",
    "sns.set_context(\"talk\")\n",
    "sns.set_style(\"white\")"
   ]
  },
  {
   "cell_type": "markdown",
   "metadata": {
    "nbpresent": {
     "id": "eaea7346-ac12-4e01-ba8d-5da64b3bd134"
    },
    "slideshow": {
     "slide_type": "skip"
    }
   },
   "source": [
    "API registrations\n",
    "=================\n",
    "\n",
    "If you would like to run all the examples in this notebook, you need to register for the following APIs:\n",
    "\n",
    "* Rotten Tomatoes\n",
    "\n",
    "http://developer.rottentomatoes.com/member/register\n",
    "\n",
    "* Twitter\n",
    "\n",
    "https://apps.twitter.com/app/new\n",
    "\n",
    "* Twitter instructions\n",
    "\n",
    "https://twittercommunity.com/t/how-to-get-my-api-key/7033"
   ]
  },
  {
   "cell_type": "markdown",
   "metadata": {
    "nbpresent": {
     "id": "3c0119d0-4313-46c0-9291-ab5d88dd232c"
    },
    "slideshow": {
     "slide_type": "slide"
    }
   },
   "source": [
    "CS109\n",
    "=====\n",
    "\n",
    "Verena Kaynig-Fittkau, Joe Blitzstein, Hanspeter Pfister\n",
    "\n",
    "* vkaynig@seas.harvard.edu\n",
    "* staff@cs109.org"
   ]
  },
  {
   "cell_type": "markdown",
   "metadata": {
    "nbpresent": {
     "id": "f3fb012f-eae0-4e31-a72b-02015b5f716b"
    },
    "slideshow": {
     "slide_type": "slide"
    }
   },
   "source": [
    "Announcements\n",
    "==============\n",
    "\n",
    "* Over 400 sign ups on github!\n",
    "* If you are still missing, fill out the survey, time is running out!\n",
    "* Make sure you are on Piazza!\n",
    "\n",
    "\n",
    "* More [git help](https://www.youtube.com/channel/UC0-KaiZFXBlGOFN71YsEV8g/videos)\n",
    "\n",
    "\n",
    "* HW0 is due on Thursday \n",
    "* HW1 is coming out on Thursday\n"
   ]
  },
  {
   "cell_type": "markdown",
   "metadata": {
    "nbpresent": {
     "id": "2ef962dc-1a8c-4e64-8bbe-e466c8c6fc78"
    },
    "slideshow": {
     "slide_type": "slide"
    }
   },
   "source": [
    "Todays lecture:\n",
    "===============\n",
    "\n",
    "* introduction to pandas\n",
    "    - read a table\n",
    "    - do some plots\n",
    "\n",
    "* all about data scraping\n",
    "* ***What is it? ***\n",
    "* How to do it:\n",
    "    - from a website\n",
    "    - with an API"
   ]
  },
  {
   "cell_type": "markdown",
   "metadata": {
    "nbpresent": {
     "id": "5d14846f-d5c9-421c-a3d0-6a15a049d57f"
    },
    "slideshow": {
     "slide_type": "slide"
    }
   },
   "source": [
    "IPython Notebooks:\n",
    "===================\n",
    "\n",
    "![IPython](images/ipython.png \"IPython\")"
   ]
  },
  {
   "cell_type": "markdown",
   "metadata": {
    "collapsed": true,
    "nbpresent": {
     "id": "b66046e7-4780-435a-979b-8a838c8b1d1b"
    },
    "slideshow": {
     "slide_type": "slide"
    }
   },
   "source": [
    "IPython Notebooks:\n",
    "===================\n",
    "\n",
    "* These slides are an IPython notebook!\n",
    "* https://github.com/damianavila/live_reveal"
   ]
  },
  {
   "cell_type": "code",
   "execution_count": 4,
   "metadata": {
    "collapsed": false,
    "nbpresent": {
     "id": "43c00fea-8baf-42bc-8093-a12528fd87ca"
    }
   },
   "outputs": [
    {
     "name": "stdout",
     "output_type": "stream",
     "text": [
      "Hello CS109\n",
      "I love IPython\n"
     ]
    }
   ],
   "source": [
    "print \"Hello CS109\"\n",
    "\n",
    "print \"I love IPython\"\n",
    "\n",
    "# Ipython notebook have tab completion!\n",
    "# and inbuild help\n",
    "  \n",
    "a = np.zeros(3)\n",
    "a.clip?"
   ]
  },
  {
   "cell_type": "markdown",
   "metadata": {
    "nbpresent": {
     "id": "c83405a8-3a0d-4311-9cbb-a6736dee1d2f"
    },
    "slideshow": {
     "slide_type": "slide"
    }
   },
   "source": [
    "General advice about programming\n",
    "==================================\n",
    "\n",
    "* You will find nearly everything on google\n",
    "* Try: length of a list in python\n",
    "* A programmer is someone who can turn stack overflow snippets into running code\n",
    "* Use tab completion\n",
    "* Make your variable names meaningful\n"
   ]
  },
  {
   "cell_type": "markdown",
   "metadata": {
    "nbpresent": {
     "id": "68836d7a-ea3f-45c6-9ef6-9f0b349d7ecc"
    },
    "slideshow": {
     "slide_type": "slide"
    }
   },
   "source": [
    "How to load a table\n",
    "===================\n",
    "\n",
    "* we use Pandas for this\n",
    "* Pandas can do a __lot__ more\n",
    "* more about it later"
   ]
  },
  {
   "cell_type": "markdown",
   "metadata": {
    "nbpresent": {
     "id": "5c3e6d72-fc93-45ad-9e54-635c1554992b"
    },
    "slideshow": {
     "slide_type": "slide"
    }
   },
   "source": [
    "The MovieLens data\n",
    "===================\n",
    "\n",
    "http://grouplens.org/datasets/movielens/\n",
    "\n",
    "![Grouplens](images/grouplens.jpg \"Grouplens\")\n",
    "\n",
    "Example inspired by [Greg Reda](http://www.gregreda.com/2013/10/26/using-pandas-on-the-movielens-dataset/)"
   ]
  },
  {
   "cell_type": "markdown",
   "metadata": {
    "nbpresent": {
     "id": "e17fd250-b1e9-469a-87ea-b2dd198d0997"
    },
    "slideshow": {
     "slide_type": "slide"
    }
   },
   "source": [
    "Read the user data\n",
    "=================="
   ]
  },
  {
   "cell_type": "code",
   "execution_count": 166,
   "metadata": {
    "collapsed": false,
    "nbpresent": {
     "id": "d17ff504-9779-442a-83df-b824f904756b"
    },
    "slideshow": {
     "slide_type": "-"
    }
   },
   "outputs": [
    {
     "data": {
      "text/html": [
       "<div>\n",
       "<table border=\"1\" class=\"dataframe\">\n",
       "  <thead>\n",
       "    <tr style=\"text-align: right;\">\n",
       "      <th></th>\n",
       "      <th>user_id</th>\n",
       "      <th>age</th>\n",
       "    </tr>\n",
       "  </thead>\n",
       "  <tbody>\n",
       "    <tr>\n",
       "      <th>count</th>\n",
       "      <td>943.000000</td>\n",
       "      <td>943.000000</td>\n",
       "    </tr>\n",
       "    <tr>\n",
       "      <th>mean</th>\n",
       "      <td>472.000000</td>\n",
       "      <td>34.051962</td>\n",
       "    </tr>\n",
       "    <tr>\n",
       "      <th>std</th>\n",
       "      <td>272.364951</td>\n",
       "      <td>12.192740</td>\n",
       "    </tr>\n",
       "    <tr>\n",
       "      <th>min</th>\n",
       "      <td>1.000000</td>\n",
       "      <td>7.000000</td>\n",
       "    </tr>\n",
       "    <tr>\n",
       "      <th>25%</th>\n",
       "      <td>236.500000</td>\n",
       "      <td>25.000000</td>\n",
       "    </tr>\n",
       "    <tr>\n",
       "      <th>50%</th>\n",
       "      <td>472.000000</td>\n",
       "      <td>31.000000</td>\n",
       "    </tr>\n",
       "    <tr>\n",
       "      <th>75%</th>\n",
       "      <td>707.500000</td>\n",
       "      <td>43.000000</td>\n",
       "    </tr>\n",
       "    <tr>\n",
       "      <th>max</th>\n",
       "      <td>943.000000</td>\n",
       "      <td>73.000000</td>\n",
       "    </tr>\n",
       "  </tbody>\n",
       "</table>\n",
       "</div>"
      ],
      "text/plain": [
       "          user_id         age\n",
       "count  943.000000  943.000000\n",
       "mean   472.000000   34.051962\n",
       "std    272.364951   12.192740\n",
       "min      1.000000    7.000000\n",
       "25%    236.500000   25.000000\n",
       "50%    472.000000   31.000000\n",
       "75%    707.500000   43.000000\n",
       "max    943.000000   73.000000"
      ]
     },
     "execution_count": 166,
     "metadata": {},
     "output_type": "execute_result"
    }
   ],
   "source": [
    "# pass in column names for each CSV\n",
    "u_cols = ['user_id', 'age', 'sex', 'occupation', 'zip_code']\n",
    "\n",
    "users = pd.read_csv(\n",
    "    'http://files.grouplens.org/datasets/movielens/ml-100k/u.user', \n",
    "    sep='|', names=u_cols)\n",
    "\n",
    "users.describe()"
   ]
  },
  {
   "cell_type": "markdown",
   "metadata": {
    "nbpresent": {
     "id": "54bb23c7-8411-458e-9283-e08e90dd2b36"
    },
    "slideshow": {
     "slide_type": "slide"
    }
   },
   "source": [
    "Read the ratings\n",
    "============"
   ]
  },
  {
   "cell_type": "code",
   "execution_count": 71,
   "metadata": {
    "collapsed": false,
    "nbpresent": {
     "id": "d678fe46-1a92-4b2a-aa2c-57c45d2958cd"
    }
   },
   "outputs": [
    {
     "data": {
      "text/html": [
       "<div>\n",
       "<table border=\"1\" class=\"dataframe\">\n",
       "  <thead>\n",
       "    <tr style=\"text-align: right;\">\n",
       "      <th></th>\n",
       "      <th>user_id</th>\n",
       "      <th>movie_id</th>\n",
       "      <th>rating</th>\n",
       "      <th>unix_timestamp</th>\n",
       "    </tr>\n",
       "  </thead>\n",
       "  <tbody>\n",
       "    <tr>\n",
       "      <th>0</th>\n",
       "      <td>196</td>\n",
       "      <td>242</td>\n",
       "      <td>3</td>\n",
       "      <td>881250949</td>\n",
       "    </tr>\n",
       "    <tr>\n",
       "      <th>1</th>\n",
       "      <td>186</td>\n",
       "      <td>302</td>\n",
       "      <td>3</td>\n",
       "      <td>891717742</td>\n",
       "    </tr>\n",
       "    <tr>\n",
       "      <th>2</th>\n",
       "      <td>22</td>\n",
       "      <td>377</td>\n",
       "      <td>1</td>\n",
       "      <td>878887116</td>\n",
       "    </tr>\n",
       "    <tr>\n",
       "      <th>3</th>\n",
       "      <td>244</td>\n",
       "      <td>51</td>\n",
       "      <td>2</td>\n",
       "      <td>880606923</td>\n",
       "    </tr>\n",
       "    <tr>\n",
       "      <th>4</th>\n",
       "      <td>166</td>\n",
       "      <td>346</td>\n",
       "      <td>1</td>\n",
       "      <td>886397596</td>\n",
       "    </tr>\n",
       "  </tbody>\n",
       "</table>\n",
       "</div>"
      ],
      "text/plain": [
       "   user_id  movie_id  rating  unix_timestamp\n",
       "0      196       242       3       881250949\n",
       "1      186       302       3       891717742\n",
       "2       22       377       1       878887116\n",
       "3      244        51       2       880606923\n",
       "4      166       346       1       886397596"
      ]
     },
     "execution_count": 71,
     "metadata": {},
     "output_type": "execute_result"
    }
   ],
   "source": [
    "r_cols = ['user_id', 'movie_id', 'rating', 'unix_timestamp']\n",
    "ratings = pd.read_csv(\n",
    "    'http://files.grouplens.org/datasets/movielens/ml-100k/u.data', \n",
    "    sep='\\t', names=r_cols)\n",
    "\n",
    "ratings.head() "
   ]
  },
  {
   "cell_type": "markdown",
   "metadata": {
    "nbpresent": {
     "id": "813620a7-4628-4b85-a1b5-410cce58872f"
    },
    "slideshow": {
     "slide_type": "slide"
    }
   },
   "source": [
    "Now data about the movies\n",
    "========================="
   ]
  },
  {
   "cell_type": "code",
   "execution_count": 70,
   "metadata": {
    "collapsed": false,
    "nbpresent": {
     "id": "0b8098f3-4e3b-4495-b5d0-6f89d80889e8"
    }
   },
   "outputs": [
    {
     "data": {
      "text/html": [
       "<div>\n",
       "<table border=\"1\" class=\"dataframe\">\n",
       "  <thead>\n",
       "    <tr style=\"text-align: right;\">\n",
       "      <th></th>\n",
       "      <th>movie_id</th>\n",
       "      <th>title</th>\n",
       "      <th>release_date</th>\n",
       "      <th>video_release_date</th>\n",
       "      <th>imdb_url</th>\n",
       "    </tr>\n",
       "  </thead>\n",
       "  <tbody>\n",
       "    <tr>\n",
       "      <th>0</th>\n",
       "      <td>1</td>\n",
       "      <td>Toy Story (1995)</td>\n",
       "      <td>01-Jan-1995</td>\n",
       "      <td>NaN</td>\n",
       "      <td>http://us.imdb.com/M/title-exact?Toy%20Story%2...</td>\n",
       "    </tr>\n",
       "    <tr>\n",
       "      <th>1</th>\n",
       "      <td>2</td>\n",
       "      <td>GoldenEye (1995)</td>\n",
       "      <td>01-Jan-1995</td>\n",
       "      <td>NaN</td>\n",
       "      <td>http://us.imdb.com/M/title-exact?GoldenEye%20(...</td>\n",
       "    </tr>\n",
       "    <tr>\n",
       "      <th>2</th>\n",
       "      <td>3</td>\n",
       "      <td>Four Rooms (1995)</td>\n",
       "      <td>01-Jan-1995</td>\n",
       "      <td>NaN</td>\n",
       "      <td>http://us.imdb.com/M/title-exact?Four%20Rooms%...</td>\n",
       "    </tr>\n",
       "    <tr>\n",
       "      <th>3</th>\n",
       "      <td>4</td>\n",
       "      <td>Get Shorty (1995)</td>\n",
       "      <td>01-Jan-1995</td>\n",
       "      <td>NaN</td>\n",
       "      <td>http://us.imdb.com/M/title-exact?Get%20Shorty%...</td>\n",
       "    </tr>\n",
       "    <tr>\n",
       "      <th>4</th>\n",
       "      <td>5</td>\n",
       "      <td>Copycat (1995)</td>\n",
       "      <td>01-Jan-1995</td>\n",
       "      <td>NaN</td>\n",
       "      <td>http://us.imdb.com/M/title-exact?Copycat%20(1995)</td>\n",
       "    </tr>\n",
       "  </tbody>\n",
       "</table>\n",
       "</div>"
      ],
      "text/plain": [
       "   movie_id              title release_date  video_release_date  \\\n",
       "0         1   Toy Story (1995)  01-Jan-1995                 NaN   \n",
       "1         2   GoldenEye (1995)  01-Jan-1995                 NaN   \n",
       "2         3  Four Rooms (1995)  01-Jan-1995                 NaN   \n",
       "3         4  Get Shorty (1995)  01-Jan-1995                 NaN   \n",
       "4         5     Copycat (1995)  01-Jan-1995                 NaN   \n",
       "\n",
       "                                            imdb_url  \n",
       "0  http://us.imdb.com/M/title-exact?Toy%20Story%2...  \n",
       "1  http://us.imdb.com/M/title-exact?GoldenEye%20(...  \n",
       "2  http://us.imdb.com/M/title-exact?Four%20Rooms%...  \n",
       "3  http://us.imdb.com/M/title-exact?Get%20Shorty%...  \n",
       "4  http://us.imdb.com/M/title-exact?Copycat%20(1995)  "
      ]
     },
     "execution_count": 70,
     "metadata": {},
     "output_type": "execute_result"
    }
   ],
   "source": [
    "# the movies file contains columns indicating the movie's genres\n",
    "# let's only load the first five columns of the file with usecols\n",
    "m_cols = ['movie_id', 'title', 'release_date', \n",
    "            'video_release_date', 'imdb_url']\n",
    "\n",
    "movies = pd.read_csv(\n",
    "    'http://files.grouplens.org/datasets/movielens/ml-100k/u.item', \n",
    "    sep='|', names=m_cols, usecols=range(5))\n",
    "\n",
    "movies.head()"
   ]
  },
  {
   "cell_type": "markdown",
   "metadata": {
    "nbpresent": {
     "id": "4c084f85-459c-4b01-857e-d144cc98ace2"
    },
    "slideshow": {
     "slide_type": "slide"
    }
   },
   "source": [
    "Get information about data\n",
    "======================="
   ]
  },
  {
   "cell_type": "code",
   "execution_count": 9,
   "metadata": {
    "collapsed": false,
    "nbpresent": {
     "id": "b547d2cf-da9b-4c99-980f-ae8bc92a4a08"
    }
   },
   "outputs": [
    {
     "name": "stdout",
     "output_type": "stream",
     "text": [
      "movie_id                int64\n",
      "title                  object\n",
      "release_date           object\n",
      "video_release_date    float64\n",
      "imdb_url               object\n",
      "dtype: object\n",
      "\n",
      "          movie_id  video_release_date\n",
      "count  1682.000000                 0.0\n",
      "mean    841.500000                 NaN\n",
      "std     485.695893                 NaN\n",
      "min       1.000000                 NaN\n",
      "25%     421.250000                 NaN\n",
      "50%     841.500000                 NaN\n",
      "75%    1261.750000                 NaN\n",
      "max    1682.000000                 NaN\n"
     ]
    }
   ],
   "source": [
    "print movies.dtypes\n",
    "print\n",
    "print movies.describe()\n",
    "# *** Why only those two columns? ***"
   ]
  },
  {
   "cell_type": "markdown",
   "metadata": {
    "nbpresent": {
     "id": "d7937375-4d2f-427e-937b-50aaaf08e036"
    },
    "slideshow": {
     "slide_type": "slide"
    }
   },
   "source": [
    "Selecting data\n",
    "==============\n",
    "\n",
    "* DataFrame => group of Series with shared index\n",
    "* single DataFrame column => Series"
   ]
  },
  {
   "cell_type": "code",
   "execution_count": 15,
   "metadata": {
    "collapsed": false,
    "nbpresent": {
     "id": "5221da9d-0795-4ec3-9aca-1fbc8046bd55"
    },
    "slideshow": {
     "slide_type": "slide"
    }
   },
   "outputs": [
    {
     "name": "stdout",
     "output_type": "stream",
     "text": [
      "   occupation sex\n",
      "0  technician   M\n",
      "1       other   F\n",
      "2      writer   M\n",
      "3  technician   M\n",
      "4       other   F\n",
      "   user_id  age sex  occupation zip_code\n",
      "0        1   24   M  technician    85711\n",
      "1        2   53   F       other    94043\n",
      "2        3   23   M      writer    32067\n",
      "3        4   24   M  technician    43537\n",
      "4        5   33   F       other    15213\n",
      "user_id                4\n",
      "age                   24\n",
      "sex                    M\n",
      "occupation    technician\n",
      "zip_code           43537\n",
      "Name: 3, dtype: object\n"
     ]
    }
   ],
   "source": [
    "users.head()\n",
    "users['occupation'].head()\n",
    "## *** Where did the nice design go? ***\n",
    "columns_you_want = ['occupation', 'sex'] \n",
    "\n",
    "\n",
    "print users[columns_you_want].head()\n",
    "\n",
    "print users.head()\n",
    "\n",
    "print users.iloc[3]"
   ]
  },
  {
   "cell_type": "markdown",
   "metadata": {
    "nbpresent": {
     "id": "81b68273-4598-4187-825e-9ff0216f9262"
    },
    "slideshow": {
     "slide_type": "slide"
    }
   },
   "source": [
    "Filtering data\n",
    "==============\n",
    "\n",
    "Select users older than 25"
   ]
  },
  {
   "cell_type": "code",
   "execution_count": 18,
   "metadata": {
    "collapsed": false,
    "nbpresent": {
     "id": "6ebde135-e189-49c1-b38d-831996dd3970"
    }
   },
   "outputs": [
    {
     "data": {
      "text/html": [
       "<div>\n",
       "<table border=\"1\" class=\"dataframe\">\n",
       "  <thead>\n",
       "    <tr style=\"text-align: right;\">\n",
       "      <th></th>\n",
       "      <th>user_id</th>\n",
       "      <th>age</th>\n",
       "      <th>sex</th>\n",
       "      <th>occupation</th>\n",
       "      <th>zip_code</th>\n",
       "    </tr>\n",
       "  </thead>\n",
       "  <tbody>\n",
       "    <tr>\n",
       "      <th>1</th>\n",
       "      <td>2</td>\n",
       "      <td>53</td>\n",
       "      <td>F</td>\n",
       "      <td>other</td>\n",
       "      <td>94043</td>\n",
       "    </tr>\n",
       "    <tr>\n",
       "      <th>4</th>\n",
       "      <td>5</td>\n",
       "      <td>33</td>\n",
       "      <td>F</td>\n",
       "      <td>other</td>\n",
       "      <td>15213</td>\n",
       "    </tr>\n",
       "    <tr>\n",
       "      <th>5</th>\n",
       "      <td>6</td>\n",
       "      <td>42</td>\n",
       "      <td>M</td>\n",
       "      <td>executive</td>\n",
       "      <td>98101</td>\n",
       "    </tr>\n",
       "    <tr>\n",
       "      <th>6</th>\n",
       "      <td>7</td>\n",
       "      <td>57</td>\n",
       "      <td>M</td>\n",
       "      <td>administrator</td>\n",
       "      <td>91344</td>\n",
       "    </tr>\n",
       "    <tr>\n",
       "      <th>7</th>\n",
       "      <td>8</td>\n",
       "      <td>36</td>\n",
       "      <td>M</td>\n",
       "      <td>administrator</td>\n",
       "      <td>05201</td>\n",
       "    </tr>\n",
       "  </tbody>\n",
       "</table>\n",
       "</div>"
      ],
      "text/plain": [
       "   user_id  age sex     occupation zip_code\n",
       "1        2   53   F          other    94043\n",
       "4        5   33   F          other    15213\n",
       "5        6   42   M      executive    98101\n",
       "6        7   57   M  administrator    91344\n",
       "7        8   36   M  administrator    05201"
      ]
     },
     "execution_count": 18,
     "metadata": {},
     "output_type": "execute_result"
    }
   ],
   "source": [
    "oldUsers = users[users.age > 25]\n",
    "oldUsers.head()"
   ]
  },
  {
   "cell_type": "markdown",
   "metadata": {
    "nbpresent": {
     "id": "36c77e6e-0907-4380-90db-cf92172af25b"
    },
    "slideshow": {
     "slide_type": "slide"
    }
   },
   "source": [
    "Quiz:\n",
    "=====\n",
    "\n",
    "* show users aged 40 and male\n",
    "\n",
    "* show the mean age of female programmers"
   ]
  },
  {
   "cell_type": "markdown",
   "metadata": {
    "nbpresent": {
     "id": "3f1f8257-e9d5-4b15-8202-604c0bc56f34"
    }
   },
   "source": [
    "Difference between `and` and `&` in python\n",
    "http://stackoverflow.com/questions/21415661/logic-operator-for-boolean-indexing-in-pandas\n"
   ]
  },
  {
   "cell_type": "code",
   "execution_count": 30,
   "metadata": {
    "collapsed": false,
    "nbpresent": {
     "id": "39d2c9b9-fa61-4d52-a723-46682e32d34b"
    },
    "slideshow": {
     "slide_type": "slide"
    }
   },
   "outputs": [
    {
     "data": {
      "text/html": [
       "<div>\n",
       "<table border=\"1\" class=\"dataframe\">\n",
       "  <thead>\n",
       "    <tr style=\"text-align: right;\">\n",
       "      <th></th>\n",
       "      <th>user_id</th>\n",
       "      <th>age</th>\n",
       "      <th>sex</th>\n",
       "      <th>occupation</th>\n",
       "      <th>zip_code</th>\n",
       "    </tr>\n",
       "  </thead>\n",
       "  <tbody>\n",
       "    <tr>\n",
       "      <th>18</th>\n",
       "      <td>19</td>\n",
       "      <td>40</td>\n",
       "      <td>M</td>\n",
       "      <td>librarian</td>\n",
       "      <td>02138</td>\n",
       "    </tr>\n",
       "    <tr>\n",
       "      <th>82</th>\n",
       "      <td>83</td>\n",
       "      <td>40</td>\n",
       "      <td>M</td>\n",
       "      <td>other</td>\n",
       "      <td>44133</td>\n",
       "    </tr>\n",
       "    <tr>\n",
       "      <th>115</th>\n",
       "      <td>116</td>\n",
       "      <td>40</td>\n",
       "      <td>M</td>\n",
       "      <td>healthcare</td>\n",
       "      <td>97232</td>\n",
       "    </tr>\n",
       "    <tr>\n",
       "      <th>199</th>\n",
       "      <td>200</td>\n",
       "      <td>40</td>\n",
       "      <td>M</td>\n",
       "      <td>programmer</td>\n",
       "      <td>93402</td>\n",
       "    </tr>\n",
       "    <tr>\n",
       "      <th>283</th>\n",
       "      <td>284</td>\n",
       "      <td>40</td>\n",
       "      <td>M</td>\n",
       "      <td>executive</td>\n",
       "      <td>92629</td>\n",
       "    </tr>\n",
       "  </tbody>\n",
       "</table>\n",
       "</div>"
      ],
      "text/plain": [
       "     user_id  age sex  occupation zip_code\n",
       "18        19   40   M   librarian    02138\n",
       "82        83   40   M       other    44133\n",
       "115      116   40   M  healthcare    97232\n",
       "199      200   40   M  programmer    93402\n",
       "283      284   40   M   executive    92629"
      ]
     },
     "execution_count": 30,
     "metadata": {},
     "output_type": "execute_result"
    }
   ],
   "source": [
    "# users aged 40 AND male\n",
    "# your code here\n",
    "oldMale = users[(users.age == 40) & (users.sex == 'M')]\n",
    "oldMale.head()\n"
   ]
  },
  {
   "cell_type": "code",
   "execution_count": 31,
   "metadata": {
    "collapsed": false,
    "nbpresent": {
     "id": "c1ff07ff-c15c-47b4-b679-753f030d63ab"
    },
    "slideshow": {
     "slide_type": "slide"
    }
   },
   "outputs": [
    {
     "name": "stdout",
     "output_type": "stream",
     "text": [
      "          user_id        age\n",
      "count    6.000000   6.000000\n",
      "mean   411.166667  32.166667\n",
      "std    149.987222   5.115336\n",
      "min    292.000000  26.000000\n",
      "25%    313.000000  28.250000\n",
      "50%    378.000000  32.000000\n",
      "75%    416.750000  36.500000\n",
      "max    698.000000  38.000000\n",
      "32.1666666667\n",
      "32.1666666667\n"
     ]
    }
   ],
   "source": [
    "## users who are female and programmers\n",
    "# your code here\n",
    "selected_users = users[(users.sex == 'F') & (users.occupation == 'programmer')]\n",
    "\n",
    "## show statistic summary or compute mean\n",
    "# your code here\n",
    "print selected_users.describe()\n",
    "\n",
    "## alternatives:\n",
    "print selected_users.age.mean()\n",
    "print selected_users['age'].mean()"
   ]
  },
  {
   "cell_type": "markdown",
   "metadata": {
    "nbpresent": {
     "id": "b612ac29-30e2-4e57-b3cc-3c6b87071dbd"
    },
    "slideshow": {
     "slide_type": "slide"
    }
   },
   "source": [
    "Split-apply-combine\n",
    "===================\n",
    "\n",
    "* splitting the data into groups based on some criteria\n",
    "* applying a function to each group independently\n",
    "* combining the results into a data structure"
   ]
  },
  {
   "cell_type": "markdown",
   "metadata": {
    "nbpresent": {
     "id": "02b79660-0738-4b61-a330-ae233ef28c32"
    },
    "slideshow": {
     "slide_type": "slide"
    }
   },
   "source": [
    "Split-apply-combine\n",
    "===================\n",
    "\n",
    "<img src=http://i.imgur.com/yjNkiwL.png></img>"
   ]
  },
  {
   "cell_type": "markdown",
   "metadata": {
    "nbpresent": {
     "id": "7717cdd7-d09a-47d8-8145-36c225dc49a5"
    },
    "slideshow": {
     "slide_type": "slide"
    }
   },
   "source": [
    "Find Diligent Users\n",
    "===================\n",
    "\n",
    "* split data per user ID\n",
    "* count ratings\n",
    "* combine result"
   ]
  },
  {
   "cell_type": "code",
   "execution_count": 60,
   "metadata": {
    "collapsed": false,
    "nbpresent": {
     "id": "cf363f83-dd67-4af8-93d7-4daf4822fd6d"
    },
    "slideshow": {
     "slide_type": "slide"
    }
   },
   "outputs": [
    {
     "name": "stdout",
     "output_type": "stream",
     "text": [
      "   user_id  movie_id  rating  unix_timestamp\n",
      "0      196       242       3       881250949\n",
      "1      186       302       3       891717742\n",
      "2       22       377       1       878887116\n",
      "3      244        51       2       880606923\n",
      "4      166       346       1       886397596\n"
     ]
    },
    {
     "data": {
      "text/html": [
       "<div>\n",
       "<table border=\"1\" class=\"dataframe\">\n",
       "  <thead>\n",
       "    <tr style=\"text-align: right;\">\n",
       "      <th></th>\n",
       "      <th>movie_id</th>\n",
       "      <th>rating</th>\n",
       "      <th>unix_timestamp</th>\n",
       "    </tr>\n",
       "    <tr>\n",
       "      <th>user_id</th>\n",
       "      <th></th>\n",
       "      <th></th>\n",
       "      <th></th>\n",
       "    </tr>\n",
       "  </thead>\n",
       "  <tbody>\n",
       "    <tr>\n",
       "      <th>1</th>\n",
       "      <td>272</td>\n",
       "      <td>272</td>\n",
       "      <td>272</td>\n",
       "    </tr>\n",
       "    <tr>\n",
       "      <th>2</th>\n",
       "      <td>62</td>\n",
       "      <td>62</td>\n",
       "      <td>62</td>\n",
       "    </tr>\n",
       "    <tr>\n",
       "      <th>3</th>\n",
       "      <td>54</td>\n",
       "      <td>54</td>\n",
       "      <td>54</td>\n",
       "    </tr>\n",
       "    <tr>\n",
       "      <th>4</th>\n",
       "      <td>24</td>\n",
       "      <td>24</td>\n",
       "      <td>24</td>\n",
       "    </tr>\n",
       "    <tr>\n",
       "      <th>5</th>\n",
       "      <td>175</td>\n",
       "      <td>175</td>\n",
       "      <td>175</td>\n",
       "    </tr>\n",
       "  </tbody>\n",
       "</table>\n",
       "</div>"
      ],
      "text/plain": [
       "         movie_id  rating  unix_timestamp\n",
       "user_id                                  \n",
       "1             272     272             272\n",
       "2              62      62              62\n",
       "3              54      54              54\n",
       "4              24      24              24\n",
       "5             175     175             175"
      ]
     },
     "execution_count": 60,
     "metadata": {},
     "output_type": "execute_result"
    }
   ],
   "source": [
    "print ratings.head()\n",
    "## split data according to user_id\n",
    "grouped_data = ratings.groupby('user_id')\n",
    "#grouped_data = ratings['movie_id'].groupby(ratings['user_id'])\n",
    "\n",
    "## count and combine\n",
    "ratings_per_user = grouped_data.count()\n",
    "\n",
    "ratings_per_user.head(5)\n"
   ]
  },
  {
   "cell_type": "markdown",
   "metadata": {
    "nbpresent": {
     "id": "10a0ccd5-6ce9-4be6-ad1a-0fc434457afa"
    },
    "slideshow": {
     "slide_type": "slide"
    }
   },
   "source": [
    "Quiz\n",
    "====\n",
    "\n",
    "* get the average rating per movie\n",
    "* advanced: get the movie titles with the highest average rating"
   ]
  },
  {
   "cell_type": "code",
   "execution_count": 101,
   "metadata": {
    "collapsed": false,
    "nbpresent": {
     "id": "e656554d-5d33-419d-abc5-0f55fc28db99"
    },
    "slideshow": {
     "slide_type": "slide"
    }
   },
   "outputs": [
    {
     "name": "stdout",
     "output_type": "stream",
     "text": [
      "movie_id\n",
      "1    3.878319\n",
      "2    3.206107\n",
      "3    3.033333\n",
      "4    3.550239\n",
      "5    3.302326\n",
      "Name: rating, dtype: float64\n"
     ]
    }
   ],
   "source": [
    "## split data\n",
    "# your code here\n",
    "grouped_data = ratings['rating'].groupby(ratings['movie_id'])\n",
    "\n",
    "## average and combine\n",
    "# your code here\n",
    "average_rating = grouped_data.mean()\n",
    "print average_rating.head()\n",
    "# get the maximum rating\n",
    "# your code here\n",
    "maximum_rating = average_rating.max()\n",
    "\n",
    "# get movie ids with that rating\n",
    "# your code here\n",
    "good_movie_ids = average_rating[average_rating == maximum_rating].index\n"
   ]
  },
  {
   "cell_type": "code",
   "execution_count": 99,
   "metadata": {
    "collapsed": false,
    "nbpresent": {
     "id": "341cd2c4-bacb-4ce9-a045-b227e28610a1"
    },
    "slideshow": {
     "slide_type": "slide"
    }
   },
   "outputs": [
    {
     "name": "stdout",
     "output_type": "stream",
     "text": [
      "Good movie ids:\n",
      "Int64Index([814, 1122, 1189, 1201, 1293, 1467, 1500, 1536, 1599, 1653], dtype='int64', name=u'movie_id')\n",
      "Best movie titles\n",
      "813                         Great Day in Harlem, A (1994)\n",
      "1121                       They Made Me a Criminal (1939)\n",
      "1188                                   Prefontaine (1997)\n",
      "1200           Marlene Dietrich: Shadow and Light (1996) \n",
      "1292                                      Star Kid (1997)\n",
      "1466                 Saint of Fort Washington, The (1993)\n",
      "1499                            Santa with Muscles (1996)\n",
      "1535                                 Aiqing wansui (1994)\n",
      "1598                        Someone Else's America (1995)\n",
      "1652    Entertaining Angels: The Dorothy Day Story (1996)\n",
      "Name: title, dtype: object\n",
      "\n"
     ]
    }
   ],
   "source": [
    "print \"Good movie ids:\"\n",
    "print good_movie_ids\n",
    "\n",
    "\n",
    "print \"Best movie titles\"\n",
    "print movies[movies.movie_id.isin(good_movie_ids)].title\n",
    "print"
   ]
  },
  {
   "cell_type": "code",
   "execution_count": 102,
   "metadata": {
    "collapsed": false,
    "nbpresent": {
     "id": "4840952e-ba20-4d85-982f-6612dee63bd2"
    },
    "slideshow": {
     "slide_type": "slide"
    }
   },
   "outputs": [
    {
     "name": "stdout",
     "output_type": "stream",
     "text": [
      "Number of ratings per movie\n",
      "movie_id\n",
      "814     1\n",
      "1122    1\n",
      "1189    3\n",
      "1201    1\n",
      "1293    3\n",
      "1467    2\n",
      "1500    2\n",
      "1536    1\n",
      "1599    1\n",
      "1653    1\n",
      "Name: rating, dtype: int64\n"
     ]
    }
   ],
   "source": [
    "# get number of ratings per movie\n",
    "# your code here\n",
    "how_many_ratings = grouped_data.count()\n",
    "print \"Number of ratings per movie\"\n",
    "print how_many_ratings[average_rating == maximum_rating]"
   ]
  },
  {
   "cell_type": "markdown",
   "metadata": {
    "nbpresent": {
     "id": "f634b684-d9c4-4590-ba7c-970ed43ff4fe"
    },
    "slideshow": {
     "slide_type": "slide"
    }
   },
   "source": [
    "Passing a Function\n",
    "==================\n"
   ]
  },
  {
   "cell_type": "code",
   "execution_count": 103,
   "metadata": {
    "collapsed": false,
    "nbpresent": {
     "id": "e8d6a81a-33af-496a-b142-0045371d379f"
    }
   },
   "outputs": [
    {
     "data": {
      "text/plain": [
       "movie_id\n",
       "1    3.878319\n",
       "2    3.206107\n",
       "3    3.033333\n",
       "4    3.550239\n",
       "5    3.302326\n",
       "Name: rating, dtype: float64"
      ]
     },
     "execution_count": 103,
     "metadata": {},
     "output_type": "execute_result"
    }
   ],
   "source": [
    "average_ratings = grouped_data.apply(lambda f: f.mean())\n",
    "average_ratings.head()"
   ]
  },
  {
   "cell_type": "markdown",
   "metadata": {
    "nbpresent": {
     "id": "638631ce-743f-4b1e-a437-fd02fed5cca1"
    },
    "slideshow": {
     "slide_type": "slide"
    }
   },
   "source": [
    "Quiz\n",
    "====\n",
    "\n",
    "* get the average rating per user\n",
    "* advanced: list all occupations and if they are male or female dominant"
   ]
  },
  {
   "cell_type": "code",
   "execution_count": null,
   "metadata": {
    "collapsed": false,
    "nbpresent": {
     "id": "d64f1bd1-7bcb-4ef0-948c-2c6738698b8d"
    },
    "slideshow": {
     "slide_type": "slide"
    }
   },
   "outputs": [],
   "source": [
    "# get the average rating per user\n",
    "# your code here"
   ]
  },
  {
   "cell_type": "code",
   "execution_count": null,
   "metadata": {
    "collapsed": false,
    "nbpresent": {
     "id": "2ae06179-55a6-4e67-b32b-7ff13141b701"
    },
    "slideshow": {
     "slide_type": "slide"
    }
   },
   "outputs": [],
   "source": [
    "# list all occupations and if they are male or female dominant\n",
    "# your code here"
   ]
  },
  {
   "cell_type": "code",
   "execution_count": null,
   "metadata": {
    "collapsed": false,
    "nbpresent": {
     "id": "744b5a18-1813-4268-abc4-07badc5d087f"
    },
    "slideshow": {
     "slide_type": "slide"
    }
   },
   "outputs": [],
   "source": [
    "print 'number of male users: '\n",
    "print sum(users['sex'] == 'M')\n",
    "\n",
    "print 'number of female users: '\n",
    "print sum(users['sex'] == 'F')"
   ]
  },
  {
   "cell_type": "markdown",
   "metadata": {
    "nbpresent": {
     "id": "a1aae705-9fde-4797-8add-3f9d3016853c"
    },
    "slideshow": {
     "slide_type": "slide"
    }
   },
   "source": [
    "Pandas \"wrapup\"\n",
    "==========\n",
    "\n",
    "- create data frames\n",
    "- get sub-frames\n",
    "- filter data \n",
    "- use group-by\n",
    "- apply a user defined function\n",
    "\n",
    "\n",
    "![cute panda](images/cute_panda.jpg)"
   ]
  },
  {
   "cell_type": "markdown",
   "metadata": {
    "nbpresent": {
     "id": "a83f541f-df42-42c7-b826-1576f043cab3"
    },
    "slideshow": {
     "slide_type": "slide"
    }
   },
   "source": [
    "Python data scraping\n",
    "====================\n",
    "\n",
    "* Why scrape the web?\n",
    "    - vast source of information\n",
    "    - automate tasks\n",
    "    - keep up with sites\n",
    "    - fun!\n",
    "\n",
    "** Can you think of examples ? **"
   ]
  },
  {
   "cell_type": "markdown",
   "metadata": {
    "nbpresent": {
     "id": "1886c405-2a3b-4280-9fac-7284883ef2b3"
    },
    "slideshow": {
     "slide_type": "slide"
    }
   },
   "source": [
    "Read and Tweet!\n",
    "=================\n",
    "\n",
    "![ReadTweet](http://developer.nytimes.com/files/readtweet.jpg)\n",
    "\n",
    "* by Justin Blinder\n",
    "* http://projects.justinblinder.com/We-Read-We-Tweet"
   ]
  },
  {
   "cell_type": "markdown",
   "metadata": {
    "nbpresent": {
     "id": "4b055d4f-a3cd-40a9-963d-9397520976f7"
    },
    "slideshow": {
     "slide_type": "skip"
    }
   },
   "source": [
    "“We Read, We Tweet” geographically visualizes the dissemination of New York Times articles through Twitter. Each line connects the location of a tweet to the contextual location of the New York Times article it referenced. The lines are generated in a sequence based on the time in which a tweet occurs. The project explores digital news distribution in a temporal and spatial context through the social space of Twitter."
   ]
  },
  {
   "cell_type": "markdown",
   "metadata": {
    "nbpresent": {
     "id": "6785c2d9-9efa-41ee-8d45-8607b8c6391b"
    },
    "slideshow": {
     "slide_type": "slide"
    }
   },
   "source": [
    "Twitter Sentiments\n",
    "=================\n",
    "\n",
    "![TwitterSentiments](http://www.csc.ncsu.edu/faculty/healey/tweet_viz/figs/tweet-viz-ex.png\n",
    " \"Twitter Sentiments\")\n",
    "\n",
    "* by Healey and Ramaswamy\n",
    "* http://www.csc.ncsu.edu/faculty/healey/tweet_viz/tweet_app/"
   ]
  },
  {
   "cell_type": "markdown",
   "metadata": {
    "nbpresent": {
     "id": "fa239863-03c1-4a82-b8be-c1c5ec6152a8"
    },
    "slideshow": {
     "slide_type": "skip"
    }
   },
   "source": [
    "Type a keyword into the input field, then click the Query button. Recent tweets that contain your keyword are pulled from Twitter and visualized in the Sentiment tab as circles. Hover your mouse over a tweet or click on it to see its text."
   ]
  },
  {
   "cell_type": "markdown",
   "metadata": {
    "nbpresent": {
     "id": "490d6a7c-7421-4311-87c3-5048e265775b"
    },
    "slideshow": {
     "slide_type": "slide"
    }
   },
   "source": [
    "Python data scraping\n",
    "====================\n",
    "\n",
    "* copyrights and permission:\n",
    "    - be careful and polite\n",
    "    - give credit\n",
    "    - care about media law\n",
    "    - don't be evil (no spam, overloading sites, etc.)"
   ]
  },
  {
   "cell_type": "markdown",
   "metadata": {
    "nbpresent": {
     "id": "24087ce4-b366-47ba-9c8d-e9d8135a61a6"
    },
    "slideshow": {
     "slide_type": "slide"
    }
   },
   "source": [
    "Robots.txt\n",
    "==========\n",
    "\n",
    "![Robots.txt](images/robots_txt.jpg \"Robots.txt\")"
   ]
  },
  {
   "cell_type": "markdown",
   "metadata": {
    "nbpresent": {
     "id": "655c4f07-e00e-464a-b183-2c7302944d8a"
    },
    "slideshow": {
     "slide_type": "slide"
    }
   },
   "source": [
    "Robots.txt\n",
    "==========\n",
    "\n",
    "* specified by web site owner\n",
    "* gives instructions to web robots (aka your script)\n",
    "* is located at the top-level directory of the web server\n",
    "\n",
    "http://www.example.com/robots.txt\n",
    "\n",
    "If you want you can also have a look at\n",
    "\n",
    "http://google.com/robots.txt"
   ]
  },
  {
   "cell_type": "markdown",
   "metadata": {
    "nbpresent": {
     "id": "fd44afe4-6ec5-460b-b8ec-86eac0f3236b"
    },
    "slideshow": {
     "slide_type": "slide"
    }
   },
   "source": [
    "Robots.txt\n",
    "==========\n",
    "\n",
    "*** What does this one do? ***"
   ]
  },
  {
   "cell_type": "raw",
   "metadata": {
    "nbpresent": {
     "id": "fd40182a-4c96-4edf-ae78-41128f40ccfc"
    }
   },
   "source": [
    "\n",
    "User-agent: Google\n",
    "Disallow:\n",
    "\n",
    "User-agent: *\n",
    "Disallow: /"
   ]
  },
  {
   "cell_type": "markdown",
   "metadata": {
    "nbpresent": {
     "id": "d36d385a-b1d9-4d74-b4ce-550c756565eb"
    },
    "slideshow": {
     "slide_type": "slide"
    }
   },
   "source": [
    "Things to consider:\n",
    "-------------------\n",
    "\n",
    "* can be just ignored\n",
    "* can be a security risk - *** Why? ***"
   ]
  },
  {
   "cell_type": "markdown",
   "metadata": {
    "nbpresent": {
     "id": "d0383a40-9d68-446a-8333-52e1d1be42eb"
    },
    "slideshow": {
     "slide_type": "slide"
    }
   },
   "source": [
    "Scraping with Python:\n",
    "=====================\n",
    "\n",
    "* scraping is all about HTML tags\n",
    "* bad news: \n",
    "    - need to learn about tags\n",
    "    - websites can be ugly"
   ]
  },
  {
   "cell_type": "markdown",
   "metadata": {
    "nbpresent": {
     "id": "09e4d36f-c58f-471f-bd11-d328915f9154"
    },
    "slideshow": {
     "slide_type": "slide"
    }
   },
   "source": [
    "HTML\n",
    "=====\n",
    "\n",
    "* HyperText Markup Language\n",
    "\n",
    "* standard for creating webpages\n",
    "\n",
    "* HTML tags \n",
    "    - have angle brackets\n",
    "    - typically come in pairs"
   ]
  },
  {
   "cell_type": "markdown",
   "metadata": {
    "nbpresent": {
     "id": "37fa9ccf-2a15-4cd3-ac6d-ffb9f4040ce8"
    },
    "slideshow": {
     "slide_type": "skip"
    }
   },
   "source": [
    "This is an example for a minimal webpage defined in HTML tags. The root tag is `<html>` and then you have the `<head>` tag. This part of the page typically includes the title of the page and might also have other meta information like the author or keywords that are important for search engines. The `<body>` tag marks the actual content of the page. You can play around with the `<h2>` tag trying different header levels. They range from 1 to 6. "
   ]
  },
  {
   "cell_type": "code",
   "execution_count": 104,
   "metadata": {
    "collapsed": false,
    "nbpresent": {
     "id": "6e2baaf9-f32f-4fa1-ab4d-9032aa0d4334"
    },
    "slideshow": {
     "slide_type": "slide"
    }
   },
   "outputs": [
    {
     "data": {
      "text/html": [
       "<!DOCTYPE html>\n",
       "<html>\n",
       "  <head>\n",
       "    <title>This is a title</title>\n",
       "  </head>\n",
       "  <body>\n",
       "    <h2> Test </h2>\n",
       "    <p>Hello world!</p>\n",
       "  </body>\n",
       "</html>"
      ],
      "text/plain": [
       "<IPython.core.display.HTML object>"
      ]
     },
     "execution_count": 104,
     "metadata": {},
     "output_type": "execute_result"
    }
   ],
   "source": [
    "htmlString = \"\"\"<!DOCTYPE html>\n",
    "<html>\n",
    "  <head>\n",
    "    <title>This is a title</title>\n",
    "  </head>\n",
    "  <body>\n",
    "    <h2> Test </h2>\n",
    "    <p>Hello world!</p>\n",
    "  </body>\n",
    "</html>\"\"\"\n",
    "\n",
    "htmlOutput = HTML(htmlString)\n",
    "htmlOutput"
   ]
  },
  {
   "cell_type": "markdown",
   "metadata": {
    "nbpresent": {
     "id": "dce5f60a-46ac-44e7-8390-d4664800a6b6"
    },
    "slideshow": {
     "slide_type": "slide"
    }
   },
   "source": [
    "Useful Tags\n",
    "===========\n",
    "\n",
    "* heading\n",
    "`<h1></h1> ... <h6></h6>`\n",
    "\n",
    "* paragraph\n",
    "`<p></p>` \n",
    "\n",
    "* line break\n",
    "`<br>` \n",
    "\n",
    "* link with attribute\n",
    "\n",
    "`<a href=\"http://www.example.com/\">An example link</a>`\n"
   ]
  },
  {
   "cell_type": "markdown",
   "metadata": {
    "nbpresent": {
     "id": "a7e04495-5d7a-4505-a4b8-a1eceb005efe"
    },
    "slideshow": {
     "slide_type": "slide"
    }
   },
   "source": [
    "Scraping with Python:\n",
    "=====================\n",
    "\n",
    "* example of a beautifully simple webpage:\n",
    "\n",
    "http://www.crummy.com/software/BeautifulSoup"
   ]
  },
  {
   "cell_type": "markdown",
   "metadata": {
    "nbpresent": {
     "id": "996967ed-5b84-4745-a675-0b8619c6e49d"
    },
    "slideshow": {
     "slide_type": "slide"
    }
   },
   "source": [
    "Scraping with Python:\n",
    "=====================\n",
    "\n",
    "* good news: \n",
    "    - some browsers help\n",
    "    - look for: inspect element\n",
    "    - need only basic html\n",
    "    \n",
    "** Try 'Ctrl-Shift I' in Chrome **\n",
    "\n",
    "** Try 'Command-Option I' in Safari **\n"
   ]
  },
  {
   "cell_type": "markdown",
   "metadata": {
    "nbpresent": {
     "id": "fc0cfe68-baad-407a-bc1e-d144d74da4a8"
    },
    "slideshow": {
     "slide_type": "slide"
    }
   },
   "source": [
    "Scraping with Python\n",
    "==================\n",
    "\n",
    "* different useful libraries:\n",
    "    - urllib\n",
    "    - beautifulsoup\n",
    "    - pattern\n",
    "    - soupy\n",
    "    - LXML\n",
    "    - ...\n",
    "    "
   ]
  },
  {
   "cell_type": "markdown",
   "metadata": {
    "nbpresent": {
     "id": "97d6ae3f-71e9-4202-bb64-c3e442009a56"
    },
    "slideshow": {
     "slide_type": "skip"
    }
   },
   "source": [
    "The following cell just defines a url as a string and then reads the data from that url using the `urllib` library. If you uncomment the print command you see that we got the whole HTML content of the page into the string variable source."
   ]
  },
  {
   "cell_type": "code",
   "execution_count": 105,
   "metadata": {
    "collapsed": false,
    "nbpresent": {
     "id": "182990c2-dbc6-4a99-89be-ae7320c92ccf"
    },
    "slideshow": {
     "slide_type": "slide"
    }
   },
   "outputs": [
    {
     "name": "stdout",
     "output_type": "stream",
     "text": [
      "<!DOCTYPE HTML PUBLIC \"-//W3C//DTD HTML 4.0 Transitional//EN\"\n",
      "\"http://www.w3.org/TR/REC-html40/transitional.dtd\">\n",
      "<html>\n",
      "<head>\n",
      "<meta http-equiv=\"Content-Type\" content=\"text/html; charset=utf-8\">\n",
      "<title>Beautiful Soup: We called him Tortoise because he taught us.</title>\n",
      "<link rev=\"made\" href=\"mailto:leonardr@segfault.org\">\n",
      "<link rel=\"stylesheet\" type=\"text/css\" href=\"/nb/themes/Default/nb.css\">\n",
      "<meta name=\"Description\" content=\"Beautiful Soup: a library designed for screen-scraping HTML and XML.\">\n",
      "<meta name=\"generator\" content=\"Markov Approximation 1.4 (module: leonardr)\">\n",
      "<meta name=\"author\" content=\"Leonard Richardson\">\n",
      "</head>\n",
      "<body bgcolor=\"white\" text=\"black\" link=\"blue\" vlink=\"660066\" alink=\"red\">\n",
      "<img align=\"right\" src=\"10.1.jpg\" width=\"250\"><br />\n",
      "\n",
      "<p>You didn't write that awful page. You're just trying to get some\n",
      "data out of it. Beautiful Soup is here to help. Since 2004, it's been\n",
      "saving programmers hours or days of work on quick-turnaround\n",
      "screen scraping projects.</p>\n",
      "\n",
      "<div align=\"center\">\n",
      "\n",
      "<a href=\"bs4/download/\"><h1>Beautiful Soup</h1></a>\n",
      "\n",
      "<p>\"A tremendous boon.\" -- Python411 Podcast</p>\n",
      "\n",
      "<p>[ <a href=\"#Download\">Download</a> | <a\n",
      "href=\"bs4/doc/\">Documentation</a> | <a href=\"#HallOfFame\">Hall of Fame</a> | <a href=\"https://code.launchpad.net/beautifulsoup\">Source</a> | <a href=\"https://groups.google.com/forum/?fromgroups#!forum/beautifulsoup\">Discussion group</a> ]</p>\n",
      "\n",
      "<small>If Beautiful Soup has saved you a lot of time and money, the\n",
      "best way to pay me back is to check out <a\n",
      "href=\"http://www.candlemarkandgleam.com/shop/constellation-games/\"><i>Constellation\n",
      "Games</i>, my sci-fi novel about alien video games</a>.<br />You can\n",
      "<a\n",
      "href=\"http://constellation.crummy.com/Constellation%20Games%20excerpt.html\">read\n",
      "the first two chapters for free</a>, and the full novel starts at 5\n",
      "USD. Thanks!</small> </div>\n",
      "\n",
      "<p><i>If you have questions, send them to <a\n",
      "href=\"https://groups.google.com/forum/?fromgroups#!forum/beautifulsoup\">the discussion\n",
      "group</a>. If you find a bug, <a href=\"https://bugs.launchpad.net/beautifulsoup/\">file it</a>.</i></p>\n",
      "\n",
      "<p>Beautiful Soup is a Python library designed for quick turnaround\n",
      "projects like screen-scraping. Three features make it powerful:\n",
      "\n",
      "<ol>\n",
      "\n",
      "<li>Beautiful Soup provides a few simple methods and Pythonic idioms\n",
      "for navigating, searching, and modifying a parse tree: a toolkit for\n",
      "dissecting a document and extracting what you need. It doesn't take\n",
      "much code to write an application\n",
      "\n",
      "<li>Beautiful Soup automatically converts incoming documents to\n",
      "Unicode and outgoing documents to UTF-8. You don't have to think\n",
      "about encodings, unless the document doesn't specify an encoding and\n",
      "Beautiful Soup can't detect one. Then you just have to specify the\n",
      "original encoding.\n",
      "\n",
      "<li>Beautiful Soup sits on top of popular Python parsers like <a\n",
      "href=\"http://lxml.de/\">lxml</a> and <a\n",
      "href=\"http://code.google.com/p/html5lib/\">html5lib</a>, allowing you\n",
      "to try out different parsing strategies or trade speed for\n",
      "flexibility.\n",
      "\n",
      "</ol>\n",
      "\n",
      "<p>Beautiful Soup parses anything you give it, and does the tree\n",
      "traversal stuff for you. You can tell it \"Find all the links\", or\n",
      "\"Find all the links of class <tt>externalLink</tt>\", or \"Find all the\n",
      "links whose urls match \"foo.com\", or \"Find the table heading that's\n",
      "got bold text, then give me that text.\"\n",
      "\n",
      "<p>Valuable data that was once locked up in poorly-designed websites\n",
      "is now within your reach. Projects that would have taken hours take\n",
      "only minutes with Beautiful Soup.\n",
      "\n",
      "<p>Interested? <a href=\"bs4/doc/\">Read more.</a>\n",
      "\n",
      "<a name=\"Download\"><h2>Download Beautiful Soup</h2></a>\n",
      "\n",
      "<p>The current release is <a href=\"bs4/download/\">Beautiful Soup\n",
      "4.5.1</a> (August 2, 2016). You can install Beautiful Soup 4 with\n",
      "<code>pip install beautifulsoup4</code>. It's also available as the\n",
      "<code>python-beautifulsoup4</code> package in Debian, Ubuntu, and\n",
      "Fedora.\n",
      "\n",
      "<p>Beautiful Soup 4 works on both Python 2 (2.7+) and Python 3.\n",
      "\n",
      "<p>Beautiful Soup is licensed under the MIT license, so you can also\n",
      "download the tarball, drop the <code>bs4/</code> directory into almost\n",
      "any Python application (or into your library path) and start using it\n",
      "immediately. (If you want to do this under Python 3, you will need to\n",
      "manually convert the code using <code>2to3</code>.)\n",
      "\n",
      "<h3>Beautiful Soup 3</h3>\n",
      "\n",
      "<p>Beautiful Soup 3 was the official release line of Beautiful Soup\n",
      "from May 2006 to March 2012. It is considered stable, and only\n",
      "critical security bugs will be fixed. <a\n",
      "href=\"http://www.crummy.com/software/BeautifulSoup/bs3/documentation.html\">Here's\n",
      "the Beautiful Soup 3 documentation.</a>\n",
      "\n",
      "<p>Beautiful Soup 3 works only under Python 2.x. It is licensed under\n",
      "the same license as Python itself.\n",
      "\n",
      "<p>The current release of Beautiful Soup 3 is <a\n",
      "href=\"download/3.x/BeautifulSoup-3.2.1.tar.gz\">3.2.1</a> (February 16,\n",
      "2012). You can install Beautiful Soup 3 with <code>pip install\n",
      "BeautifulSoup</code>. It's also available as\n",
      "<code>python-beautifulsoup</code> in Debian and Ubuntu, and as\n",
      "<code>python-BeautifulSoup</code> in Fedora.\n",
      "\n",
      "<p>You can also download the tarball and use\n",
      "<code>BeautifulSoup.py</code> in your project directly.\n",
      "\n",
      "\n",
      "<a name=\"HallOfFame\"><h2>Hall of Fame</h2></a>\n",
      "\n",
      "<p>Over the years, Beautiful Soup has been used in hundreds of\n",
      "different projects. There's no way I can list them all, but I want to\n",
      "highlight a few high-profile projects. Beautiful Soup isn't what makes\n",
      "these projects interesting, but it did make their completion easier:\n",
      "\n",
      "<ul>\n",
      "\n",
      "<li><a\n",
      " href=\"http://www.nytimes.com/2007/10/25/arts/design/25vide.html\">\"Movable\n",
      " Type\"</a>, a work of digital art on display in the lobby of the New\n",
      " York Times building, uses Beautiful Soup to scrape news feeds.\n",
      "\n",
      "<li>Reddit uses Beautiful Soup to <a\n",
      "href=\"https://github.com/reddit/reddit/blob/85f9cff3e2ab9bb8f19b96acd8da4ebacc079f04/r2/r2/lib/media.py\">parse\n",
      "a page that's been linked to and find a representative image</a>.\n",
      "\n",
      "<li>Alexander Harrowell uses Beautiful Soup to <a\n",
      " href=\"http://www.harrowell.org.uk/viktormap.html\">track the business\n",
      " activities</a> of an arms merchant.\n",
      "\n",
      "<li>The developers of Python itself used Beautiful Soup to <a\n",
      "href=\"http://svn.python.org/view/tracker/importer/\">migrate the Python\n",
      "bug tracker from Sourceforge to Roundup</a>.\n",
      "\n",
      "<li>The <a href=\"http://www2.ljworld.com/\">Lawrence Journal-World</a>\n",
      "uses Beautiful Soup to <A\n",
      "href=\"http://www.b-list.org/weblog/2010/nov/02/news-done-broke/\">gather\n",
      "statewide election results</a>.\n",
      "\n",
      "<li>The <a href=\"http://esrl.noaa.gov/gsd/fab/\">NOAA's Forecast\n",
      "Applications Branch</a> uses Beautiful Soup in <a\n",
      "href=\"http://laps.noaa.gov/topograbber/\">TopoGrabber</a>, a script for\n",
      "downloading \"high resolution USGS datasets.\"\n",
      "\n",
      "</ul>\n",
      "\n",
      "<p>If you've used Beautiful Soup in a project you'd like me to know\n",
      "about, please do send email to me or <a\n",
      "href=\"http://groups.google.com/group/beautifulsoup/\">the discussion\n",
      "group</a>.\n",
      "\n",
      "<h2>Development</h2>\n",
      "\n",
      "<p>Development happens at <a\n",
      "href=\"https://launchpad.net/beautifulsoup\">Launchpad</a>. You can <a\n",
      "href=\"https://code.launchpad.net/beautifulsoup/\">get the source\n",
      "code</a> or <a href=\"https://bugs.launchpad.net/beautifulsoup/\">file\n",
      "bugs</a>.<hr><table><tr><td valign=\"top\">\n",
      "<p>This document (<a href=\"/source/software/BeautifulSoup/index.bhtml\">source</a>) is part of Crummy, the webspace of <a href=\"/self/\">Leonard Richardson</a> (<a href=\"/self/contact.html\">contact information</a>). It was last modified on Wednesday, August 03 2016, 02:56:14 Nowhere Standard Time and last built on Friday, November 04 2016, 06:00:01 Nowhere Standard Time.</p><p><table class=\"licenseText\"><tr><td><a href=\"http://creativecommons.org/licenses/by-sa/2.0/\"><img border=\"0\" src=\"/nb//resources/img/somerights20.jpg\"></a></td><td valign=\"top\">Crummy is &copy; 1996-2016 Leonard Richardson. Unless otherwise noted, all text licensed under a <a href=\"http://creativecommons.org/licenses/by-sa/2.0/\">Creative Commons License</a>.</td></tr></table></span><!--<rdf:RDF xmlns=\"http://web.resource.org/cc/\" xmlns:dc=\"http://purl.org/dc/elements/1.1/\" xmlns:rdf=\"http://www.w3.org/1999/02/22-rdf-syntax-ns#\"><Work rdf:about=\"http://www.crummy.com/\"><dc:title>Crummy: The Site</dc:title><dc:rights><Agent><dc:title>Crummy: the Site</dc:title></Agent></dc:rights><dc:format>text/html</dc:format><license rdf:resource=http://creativecommons.org/licenses/by-sa/2.0//></Work><License rdf:about=\"http://creativecommons.org/licenses/by-sa/2.0/\"></License></rdf:RDF>--></p></td><td valign=top><p><b>Document tree:</b>\n",
      "<dl><dd><a href=\"http://www.crummy.com/\">http://www.crummy.com/</a><dl><dd><a href=\"http://www.crummy.com/software/\">software/</a><dl><dd><a href=\"http://www.crummy.com/software/BeautifulSoup/\">BeautifulSoup/</a></dl>\n",
      "</dl>\n",
      "</dl>\n",
      "\n",
      "\n",
      "Site Search:\n",
      "\n",
      "<form method=\"get\" action=\"/search/\">\n",
      "        <input type=\"text\" name=\"q\" maxlength=\"255\" value=\"\"></input>\n",
      "        </form>\n",
      "        </td>\n",
      "\n",
      "</tr>\n",
      "\n",
      "</table>\n",
      "</body>\n",
      "</html>\n",
      "\n"
     ]
    }
   ],
   "source": [
    "url = 'http://www.crummy.com/software/BeautifulSoup'\n",
    "source = urllib2.urlopen(url).read()\n",
    "print source"
   ]
  },
  {
   "cell_type": "markdown",
   "metadata": {
    "nbpresent": {
     "id": "90481e48-c238-4c00-8b65-0713611ecc0b"
    },
    "slideshow": {
     "slide_type": "slide"
    }
   },
   "source": [
    "Quiz :\n",
    "======\n",
    "\n",
    "* Is the word 'Alice' mentioned on the beautiful soup homepage?\n",
    "* How often does the word 'Soup' occur on the site?\n",
    "    - hint: use `.count()`\n",
    "* At what index occurs the substring 'alien video games' ?\n",
    "    - hint: use `.find()`"
   ]
  },
  {
   "cell_type": "code",
   "execution_count": 108,
   "metadata": {
    "collapsed": false,
    "nbpresent": {
     "id": "5b807702-364d-4464-a17e-b2edc4c1da42"
    },
    "slideshow": {
     "slide_type": "slide"
    }
   },
   "outputs": [
    {
     "name": "stdout",
     "output_type": "stream",
     "text": [
      "False\n",
      "41\n",
      "1639\n"
     ]
    }
   ],
   "source": [
    "## is 'Alice' in source?\n",
    "\n",
    "print 'Alice' in source\n",
    "\n",
    "## count occurences of 'Soup'\n",
    "print source.count('Soup')\n",
    "\n",
    "## find index of 'alien video games'\n",
    "position = source.find('alien video games')\n",
    "print position"
   ]
  },
  {
   "cell_type": "markdown",
   "metadata": {
    "nbpresent": {
     "id": "41f28ae0-a937-4d87-a93d-6f041f694565"
    },
    "slideshow": {
     "slide_type": "slide"
    }
   },
   "source": [
    "Beautiful Soup\n",
    "==============\n",
    "\n",
    "* designed to make your life easier\n",
    "* many good functions for parsing html code"
   ]
  },
  {
   "cell_type": "markdown",
   "metadata": {
    "nbpresent": {
     "id": "9ee3c904-e596-4fd8-8a57-6b3e7327b657"
    },
    "slideshow": {
     "slide_type": "slide"
    }
   },
   "source": [
    "Some examples\n",
    "=============\n"
   ]
  },
  {
   "cell_type": "code",
   "execution_count": 219,
   "metadata": {
    "collapsed": false,
    "nbpresent": {
     "id": "ec5d1615-d793-4b7b-b034-877a0cc15f75"
    },
    "scrolled": true
   },
   "outputs": [
    {
     "data": {
      "text/plain": [
       "[<a href=\"bs4/download/\"><h1>Beautiful Soup</h1></a>,\n",
       " <a href=\"#Download\">Download</a>,\n",
       " <a href=\"bs4/doc/\">Documentation</a>,\n",
       " <a href=\"#HallOfFame\">Hall of Fame</a>,\n",
       " <a href=\"https://code.launchpad.net/beautifulsoup\">Source</a>,\n",
       " <a href=\"https://groups.google.com/forum/?fromgroups#!forum/beautifulsoup\">Discussion group</a>,\n",
       " <a href=\"http://www.candlemarkandgleam.com/shop/constellation-games/\"><i>Constellation\\nGames</i>, my sci-fi novel about alien video games</a>,\n",
       " <a href=\"http://constellation.crummy.com/Constellation%20Games%20excerpt.html\">read\\nthe first two chapters for free</a>,\n",
       " <a href=\"https://groups.google.com/forum/?fromgroups#!forum/beautifulsoup\">the discussion\\ngroup</a>,\n",
       " <a href=\"https://bugs.launchpad.net/beautifulsoup/\">file it</a>,\n",
       " <a href=\"http://lxml.de/\">lxml</a>,\n",
       " <a href=\"http://code.google.com/p/html5lib/\">html5lib</a>,\n",
       " <a href=\"bs4/doc/\">Read more.</a>,\n",
       " <a name=\"Download\"><h2>Download Beautiful Soup</h2></a>,\n",
       " <a href=\"bs4/download/\">Beautiful Soup\\n4.5.1</a>,\n",
       " <a href=\"http://www.crummy.com/software/BeautifulSoup/bs3/documentation.html\">Here's\\nthe Beautiful Soup 3 documentation.</a>,\n",
       " <a href=\"download/3.x/BeautifulSoup-3.2.1.tar.gz\">3.2.1</a>,\n",
       " <a name=\"HallOfFame\"><h2>Hall of Fame</h2></a>,\n",
       " <a href=\"http://www.nytimes.com/2007/10/25/arts/design/25vide.html\">\"Movable\\n Type\"</a>,\n",
       " <a href=\"https://github.com/reddit/reddit/blob/85f9cff3e2ab9bb8f19b96acd8da4ebacc079f04/r2/r2/lib/media.py\">parse\\na page that's been linked to and find a representative image</a>,\n",
       " <a href=\"http://www.harrowell.org.uk/viktormap.html\">track the business\\n activities</a>,\n",
       " <a href=\"http://svn.python.org/view/tracker/importer/\">migrate the Python\\nbug tracker from Sourceforge to Roundup</a>,\n",
       " <a href=\"http://www2.ljworld.com/\">Lawrence Journal-World</a>,\n",
       " <a href=\"http://www.b-list.org/weblog/2010/nov/02/news-done-broke/\">gather\\nstatewide election results</a>,\n",
       " <a href=\"http://esrl.noaa.gov/gsd/fab/\">NOAA's Forecast\\nApplications Branch</a>,\n",
       " <a href=\"http://laps.noaa.gov/topograbber/\">TopoGrabber</a>,\n",
       " <a href=\"http://groups.google.com/group/beautifulsoup/\">the discussion\\ngroup</a>,\n",
       " <a href=\"https://launchpad.net/beautifulsoup\">Launchpad</a>,\n",
       " <a href=\"https://code.launchpad.net/beautifulsoup/\">get the source\\ncode</a>,\n",
       " <a href=\"https://bugs.launchpad.net/beautifulsoup/\">file\\nbugs</a>,\n",
       " <a href=\"/source/software/BeautifulSoup/index.bhtml\">source</a>,\n",
       " <a href=\"/self/\">Leonard Richardson</a>,\n",
       " <a href=\"/self/contact.html\">contact information</a>,\n",
       " <a href=\"http://creativecommons.org/licenses/by-sa/2.0/\"><img border=\"0\" src=\"/nb//resources/img/somerights20.jpg\"/></a>,\n",
       " <a href=\"http://creativecommons.org/licenses/by-sa/2.0/\">Creative Commons License</a>,\n",
       " <a href=\"http://www.crummy.com/\">http://www.crummy.com/</a>,\n",
       " <a href=\"http://www.crummy.com/software/\">software/</a>,\n",
       " <a href=\"http://www.crummy.com/software/BeautifulSoup/\">BeautifulSoup/</a>]"
      ]
     },
     "execution_count": 219,
     "metadata": {},
     "output_type": "execute_result"
    }
   ],
   "source": [
    "## get bs4 object\n",
    "soup = bs4.BeautifulSoup(source)\n",
    "\n",
    " \n",
    "## compare the two print statements\n",
    "#print soup\n",
    "#print soup.prettify()\n",
    "\n",
    "## show how to find all a tags\n",
    "soup.findAll('a')\n",
    "\n",
    "## ***Why does this not work? ***\n",
    "#soup.findAll('Soup')"
   ]
  },
  {
   "cell_type": "markdown",
   "metadata": {
    "nbpresent": {
     "id": "b7ab3244-7596-4e0e-ac26-eacf002e5fc2"
    },
    "slideshow": {
     "slide_type": "slide"
    }
   },
   "source": [
    "Some examples\n",
    "============="
   ]
  },
  {
   "cell_type": "code",
   "execution_count": 220,
   "metadata": {
    "collapsed": false,
    "nbpresent": {
     "id": "03c19111-c9c7-412d-9c02-3df9c0fde635"
    },
    "scrolled": true
   },
   "outputs": [
    {
     "name": "stdout",
     "output_type": "stream",
     "text": [
      "<a href=\"bs4/download/\"><h1>Beautiful Soup</h1></a>\n"
     ]
    },
    {
     "data": {
      "text/plain": [
       "['bs4/download/',\n",
       " '#Download',\n",
       " 'bs4/doc/',\n",
       " '#HallOfFame',\n",
       " 'https://code.launchpad.net/beautifulsoup',\n",
       " 'https://groups.google.com/forum/?fromgroups#!forum/beautifulsoup',\n",
       " 'http://www.candlemarkandgleam.com/shop/constellation-games/',\n",
       " 'http://constellation.crummy.com/Constellation%20Games%20excerpt.html',\n",
       " 'https://groups.google.com/forum/?fromgroups#!forum/beautifulsoup',\n",
       " 'https://bugs.launchpad.net/beautifulsoup/',\n",
       " 'http://lxml.de/',\n",
       " 'http://code.google.com/p/html5lib/',\n",
       " 'bs4/doc/',\n",
       " None,\n",
       " 'bs4/download/',\n",
       " 'http://www.crummy.com/software/BeautifulSoup/bs3/documentation.html',\n",
       " 'download/3.x/BeautifulSoup-3.2.1.tar.gz',\n",
       " None,\n",
       " 'http://www.nytimes.com/2007/10/25/arts/design/25vide.html',\n",
       " 'https://github.com/reddit/reddit/blob/85f9cff3e2ab9bb8f19b96acd8da4ebacc079f04/r2/r2/lib/media.py',\n",
       " 'http://www.harrowell.org.uk/viktormap.html',\n",
       " 'http://svn.python.org/view/tracker/importer/',\n",
       " 'http://www2.ljworld.com/',\n",
       " 'http://www.b-list.org/weblog/2010/nov/02/news-done-broke/',\n",
       " 'http://esrl.noaa.gov/gsd/fab/',\n",
       " 'http://laps.noaa.gov/topograbber/',\n",
       " 'http://groups.google.com/group/beautifulsoup/',\n",
       " 'https://launchpad.net/beautifulsoup',\n",
       " 'https://code.launchpad.net/beautifulsoup/',\n",
       " 'https://bugs.launchpad.net/beautifulsoup/',\n",
       " '/source/software/BeautifulSoup/index.bhtml',\n",
       " '/self/',\n",
       " '/self/contact.html',\n",
       " 'http://creativecommons.org/licenses/by-sa/2.0/',\n",
       " 'http://creativecommons.org/licenses/by-sa/2.0/',\n",
       " 'http://www.crummy.com/',\n",
       " 'http://www.crummy.com/software/',\n",
       " 'http://www.crummy.com/software/BeautifulSoup/']"
      ]
     },
     "execution_count": 220,
     "metadata": {},
     "output_type": "execute_result"
    }
   ],
   "source": [
    "## get attribute value from an element:\n",
    "## find tag: this only returns the first occurrence, not all tags in the string\n",
    "first_tag = soup.find('a')\n",
    "\n",
    "## get attribute `href`\n",
    "first_tag.get('href')\n",
    "print first_tag\n",
    "## get all links in the page\n",
    "link_list = [l.get('href') for l in soup.findAll('a')]\n",
    "link_list"
   ]
  },
  {
   "cell_type": "code",
   "execution_count": 115,
   "metadata": {
    "collapsed": false,
    "nbpresent": {
     "id": "94089412-f15b-47e4-8729-6a7fffe78e3f"
    },
    "slideshow": {
     "slide_type": "slide"
    }
   },
   "outputs": [
    {
     "ename": "TypeError",
     "evalue": "'NoneType' object has no attribute '__getitem__'",
     "output_type": "error",
     "traceback": [
      "\u001b[0;31m---------------------------------------------------------------------------\u001b[0m",
      "\u001b[0;31mTypeError\u001b[0m                                 Traceback (most recent call last)",
      "\u001b[0;32m<ipython-input-115-db28b6c7151c>\u001b[0m in \u001b[0;36m<module>\u001b[0;34m()\u001b[0m\n\u001b[1;32m      6\u001b[0m \u001b[0;31m# if it starts with 'http' we are happy\u001b[0m\u001b[0;34m\u001b[0m\u001b[0;34m\u001b[0m\u001b[0m\n\u001b[1;32m      7\u001b[0m \u001b[0;32mfor\u001b[0m \u001b[0ml\u001b[0m \u001b[0;32min\u001b[0m \u001b[0mlink_list\u001b[0m\u001b[0;34m:\u001b[0m\u001b[0;34m\u001b[0m\u001b[0m\n\u001b[0;32m----> 8\u001b[0;31m     \u001b[0;32mif\u001b[0m \u001b[0ml\u001b[0m\u001b[0;34m[\u001b[0m\u001b[0;34m:\u001b[0m\u001b[0;36m4\u001b[0m\u001b[0;34m]\u001b[0m \u001b[0;34m==\u001b[0m \u001b[0;34m'http'\u001b[0m\u001b[0;34m:\u001b[0m\u001b[0;34m\u001b[0m\u001b[0m\n\u001b[0m\u001b[1;32m      9\u001b[0m         \u001b[0mexternal_links\u001b[0m\u001b[0;34m.\u001b[0m\u001b[0mappend\u001b[0m\u001b[0;34m(\u001b[0m\u001b[0ml\u001b[0m\u001b[0;34m)\u001b[0m\u001b[0;34m\u001b[0m\u001b[0m\n\u001b[1;32m     10\u001b[0m \u001b[0;34m\u001b[0m\u001b[0m\n",
      "\u001b[0;31mTypeError\u001b[0m: 'NoneType' object has no attribute '__getitem__'"
     ]
    }
   ],
   "source": [
    "## filter all external links\n",
    "# create an empty list to collect the valid links\n",
    "external_links = []\n",
    "\n",
    "# write a loop to filter the links\n",
    "# if it starts with 'http' we are happy\n",
    "for l in link_list:\n",
    "    if l[:4] == 'http':\n",
    "        external_links.append(l)\n",
    "\n",
    "# this throws an error! It says something about 'NoneType'"
   ]
  },
  {
   "cell_type": "code",
   "execution_count": null,
   "metadata": {
    "collapsed": false,
    "nbpresent": {
     "id": "52372495-05b7-4a3d-8544-3cee32a41757"
    },
    "slideshow": {
     "slide_type": "slide"
    }
   },
   "outputs": [],
   "source": [
    "# lets investigate. Have a close look at the link_list:\n",
    "link_list\n",
    "\n",
    "# Seems that there are None elements!\n",
    "# Let's verify\n",
    "#print sum([l is None for l in link_list])\n",
    "\n",
    "# So there are two elements in the list that are None!"
   ]
  },
  {
   "cell_type": "code",
   "execution_count": 116,
   "metadata": {
    "collapsed": false,
    "nbpresent": {
     "id": "0dab0b2a-5852-410f-b541-f75107750090"
    },
    "slideshow": {
     "slide_type": "slide"
    }
   },
   "outputs": [
    {
     "data": {
      "text/plain": [
       "['https://code.launchpad.net/beautifulsoup',\n",
       " 'https://groups.google.com/forum/?fromgroups#!forum/beautifulsoup',\n",
       " 'http://www.candlemarkandgleam.com/shop/constellation-games/',\n",
       " 'http://constellation.crummy.com/Constellation%20Games%20excerpt.html',\n",
       " 'https://groups.google.com/forum/?fromgroups#!forum/beautifulsoup',\n",
       " 'https://bugs.launchpad.net/beautifulsoup/',\n",
       " 'http://lxml.de/',\n",
       " 'http://code.google.com/p/html5lib/',\n",
       " 'http://www.crummy.com/software/BeautifulSoup/bs3/documentation.html',\n",
       " 'http://www.nytimes.com/2007/10/25/arts/design/25vide.html',\n",
       " 'https://github.com/reddit/reddit/blob/85f9cff3e2ab9bb8f19b96acd8da4ebacc079f04/r2/r2/lib/media.py',\n",
       " 'http://www.harrowell.org.uk/viktormap.html',\n",
       " 'http://svn.python.org/view/tracker/importer/',\n",
       " 'http://www2.ljworld.com/',\n",
       " 'http://www.b-list.org/weblog/2010/nov/02/news-done-broke/',\n",
       " 'http://esrl.noaa.gov/gsd/fab/',\n",
       " 'http://laps.noaa.gov/topograbber/',\n",
       " 'http://groups.google.com/group/beautifulsoup/',\n",
       " 'https://launchpad.net/beautifulsoup',\n",
       " 'https://code.launchpad.net/beautifulsoup/',\n",
       " 'https://bugs.launchpad.net/beautifulsoup/',\n",
       " 'http://creativecommons.org/licenses/by-sa/2.0/',\n",
       " 'http://creativecommons.org/licenses/by-sa/2.0/',\n",
       " 'http://www.crummy.com/',\n",
       " 'http://www.crummy.com/software/',\n",
       " 'http://www.crummy.com/software/BeautifulSoup/']"
      ]
     },
     "execution_count": 116,
     "metadata": {},
     "output_type": "execute_result"
    }
   ],
   "source": [
    "# Let's filter those objects out in the for loop\n",
    "external_links = []\n",
    "\n",
    "# write a loop to filter the links\n",
    "# if it is not None and starts with 'http' we are happy\n",
    "for l in link_list:\n",
    "    if l is not None and l[:4] == 'http':\n",
    "        external_links.append(l)\n",
    "        \n",
    "external_links"
   ]
  },
  {
   "cell_type": "markdown",
   "metadata": {
    "nbpresent": {
     "id": "7ae8b51c-ad83-4d5a-bf6d-a85a51f0d6c6"
    },
    "slideshow": {
     "slide_type": "skip"
    }
   },
   "source": [
    "Note: The above `if` condition works because of lazy evaluation in Python. The `and` statement becomes `False` if the first part is `False`, so there is no need to ever evaluate the second part. Thus a `None` entry in the list gets never asked about its first four characters. "
   ]
  },
  {
   "cell_type": "code",
   "execution_count": 117,
   "metadata": {
    "collapsed": false,
    "nbpresent": {
     "id": "5d87e62c-1de2-484b-a6cb-111449aefe94"
    },
    "slideshow": {
     "slide_type": "slide"
    }
   },
   "outputs": [
    {
     "data": {
      "text/plain": [
       "['https://code.launchpad.net/beautifulsoup',\n",
       " 'https://groups.google.com/forum/?fromgroups#!forum/beautifulsoup',\n",
       " 'http://www.candlemarkandgleam.com/shop/constellation-games/',\n",
       " 'http://constellation.crummy.com/Constellation%20Games%20excerpt.html',\n",
       " 'https://groups.google.com/forum/?fromgroups#!forum/beautifulsoup',\n",
       " 'https://bugs.launchpad.net/beautifulsoup/',\n",
       " 'http://lxml.de/',\n",
       " 'http://code.google.com/p/html5lib/',\n",
       " 'http://www.crummy.com/software/BeautifulSoup/bs3/documentation.html',\n",
       " 'http://www.nytimes.com/2007/10/25/arts/design/25vide.html',\n",
       " 'https://github.com/reddit/reddit/blob/85f9cff3e2ab9bb8f19b96acd8da4ebacc079f04/r2/r2/lib/media.py',\n",
       " 'http://www.harrowell.org.uk/viktormap.html',\n",
       " 'http://svn.python.org/view/tracker/importer/',\n",
       " 'http://www2.ljworld.com/',\n",
       " 'http://www.b-list.org/weblog/2010/nov/02/news-done-broke/',\n",
       " 'http://esrl.noaa.gov/gsd/fab/',\n",
       " 'http://laps.noaa.gov/topograbber/',\n",
       " 'http://groups.google.com/group/beautifulsoup/',\n",
       " 'https://launchpad.net/beautifulsoup',\n",
       " 'https://code.launchpad.net/beautifulsoup/',\n",
       " 'https://bugs.launchpad.net/beautifulsoup/',\n",
       " 'http://creativecommons.org/licenses/by-sa/2.0/',\n",
       " 'http://creativecommons.org/licenses/by-sa/2.0/',\n",
       " 'http://www.crummy.com/',\n",
       " 'http://www.crummy.com/software/',\n",
       " 'http://www.crummy.com/software/BeautifulSoup/']"
      ]
     },
     "execution_count": 117,
     "metadata": {},
     "output_type": "execute_result"
    }
   ],
   "source": [
    "# and we can put this in a list comprehension as well, it almost reads like \n",
    "# a sentence.\n",
    "\n",
    "[l for l in link_list if l is not None and l.startswith('http')]"
   ]
  },
  {
   "cell_type": "markdown",
   "metadata": {
    "nbpresent": {
     "id": "1926d6d8-baa0-4e4c-8981-0bb48696113d"
    },
    "slideshow": {
     "slide_type": "slide"
    }
   },
   "source": [
    "Parsing the Tree\n",
    "================\n",
    "\n"
   ]
  },
  {
   "cell_type": "code",
   "execution_count": 146,
   "metadata": {
    "collapsed": false,
    "nbpresent": {
     "id": "50595b80-9bda-4020-86d3-942276aef463"
    }
   },
   "outputs": [
    {
     "name": "stdout",
     "output_type": "stream",
     "text": [
      "<!DOCTYPE html>\n",
      "<html><head><title>This is a title</title></head><body><h3> Test </h3><p>Hello world!</p></body></html>\n",
      "<html><head><title>This is a title</title></head><body><h3> Test </h3><p>Hello world!</p></body></html>\n",
      "<head><title>This is a title</title></head>\n",
      "<body><h3> Test </h3><p>Hello world!</p></body>\n"
     ]
    },
    {
     "data": {
      "text/plain": [
       "<body><h3> Test </h3><p>Hello world!</p></body>"
      ]
     },
     "execution_count": 146,
     "metadata": {},
     "output_type": "execute_result"
    }
   ],
   "source": [
    "# redifining `s` without any line breaks\n",
    "s = \"\"\"<!DOCTYPE html><html><head><title>This is a title</title></head><body><h3> Test </h3><p>Hello world!</p></body></html>\"\"\"\n",
    "## get bs4 object\n",
    "tree = bs4.BeautifulSoup(s)\n",
    "print tree\n",
    "## get html root node\n",
    "root_node = tree.html\n",
    "print root_node\n",
    "## get head from root using contents \n",
    "head = root_node.contents[0]       # A tag’s children are available in a list called .contents\n",
    "print head\n",
    "\n",
    "## get body from root\n",
    "body = root_node.contents[1]\n",
    "print body\n",
    "## could directly access body\n",
    "tree.body\n",
    "\n"
   ]
  },
  {
   "cell_type": "markdown",
   "metadata": {
    "nbpresent": {
     "id": "0a2e6693-dba9-46f7-b7dc-5f9b018e517c"
    },
    "slideshow": {
     "slide_type": "slide"
    }
   },
   "source": [
    "Quiz:\n",
    "=====\n",
    "\n",
    "* Find the `h3` tag by parsing the tree starting at `body`\n",
    "* Create a list of all __Hall of Fame__ entries listed on the Beautiful Soup webpage\n",
    "    - hint: it is the only unordered list in the page (tag `ul`)\n"
   ]
  },
  {
   "cell_type": "code",
   "execution_count": 125,
   "metadata": {
    "collapsed": false,
    "nbpresent": {
     "id": "6ac64dc7-42a5-44c0-82ed-bd8512db86f7"
    },
    "slideshow": {
     "slide_type": "slide"
    }
   },
   "outputs": [
    {
     "data": {
      "text/plain": [
       "<h3> Test </h3>"
      ]
     },
     "execution_count": 125,
     "metadata": {},
     "output_type": "execute_result"
    }
   ],
   "source": [
    "## get h3 tag from body\n",
    "body.contents[0]\n"
   ]
  },
  {
   "cell_type": "code",
   "execution_count": 159,
   "metadata": {
    "collapsed": false,
    "nbpresent": {
     "id": "3a5f7839-0518-4da0-997c-995e8296f7b3"
    },
    "slideshow": {
     "slide_type": "slide"
    }
   },
   "outputs": [
    {
     "name": "stdout",
     "output_type": "stream",
     "text": [
      "[<li><a href=\"http://www.nytimes.com/2007/10/25/arts/design/25vide.html\">\"Movable\\n Type\"</a>, a work of digital art on display in the lobby of the New\\n York Times building, uses Beautiful Soup to scrape news feeds.\\n\\n</li>, <li>Reddit uses Beautiful Soup to <a href=\"https://github.com/reddit/reddit/blob/85f9cff3e2ab9bb8f19b96acd8da4ebacc079f04/r2/r2/lib/media.py\">parse\\na page that's been linked to and find a representative image</a>.\\n\\n</li>, <li>Alexander Harrowell uses Beautiful Soup to <a href=\"http://www.harrowell.org.uk/viktormap.html\">track the business\\n activities</a> of an arms merchant.\\n\\n</li>, <li>The developers of Python itself used Beautiful Soup to <a href=\"http://svn.python.org/view/tracker/importer/\">migrate the Python\\nbug tracker from Sourceforge to Roundup</a>.\\n\\n</li>, <li>The <a href=\"http://www2.ljworld.com/\">Lawrence Journal-World</a>\\nuses Beautiful Soup to <a href=\"http://www.b-list.org/weblog/2010/nov/02/news-done-broke/\">gather\\nstatewide election results</a>.\\n\\n</li>, <li>The <a href=\"http://esrl.noaa.gov/gsd/fab/\">NOAA's Forecast\\nApplications Branch</a> uses Beautiful Soup in <a href=\"http://laps.noaa.gov/topograbber/\">TopoGrabber</a>, a script for\\ndownloading \"high resolution USGS datasets.\"\\n\\n</li>]\n"
     ]
    },
    {
     "data": {
      "text/plain": [
       "[[<a href=\"http://www.nytimes.com/2007/10/25/arts/design/25vide.html\">\"Movable\\n Type\"</a>,\n",
       "  u', a work of digital art on display in the lobby of the New\\n York Times building, uses Beautiful Soup to scrape news feeds.\\n\\n'],\n",
       " [u'Reddit uses Beautiful Soup to ',\n",
       "  <a href=\"https://github.com/reddit/reddit/blob/85f9cff3e2ab9bb8f19b96acd8da4ebacc079f04/r2/r2/lib/media.py\">parse\\na page that's been linked to and find a representative image</a>,\n",
       "  u'.\\n\\n'],\n",
       " [u'Alexander Harrowell uses Beautiful Soup to ',\n",
       "  <a href=\"http://www.harrowell.org.uk/viktormap.html\">track the business\\n activities</a>,\n",
       "  u' of an arms merchant.\\n\\n'],\n",
       " [u'The developers of Python itself used Beautiful Soup to ',\n",
       "  <a href=\"http://svn.python.org/view/tracker/importer/\">migrate the Python\\nbug tracker from Sourceforge to Roundup</a>,\n",
       "  u'.\\n\\n'],\n",
       " [u'The ',\n",
       "  <a href=\"http://www2.ljworld.com/\">Lawrence Journal-World</a>,\n",
       "  u'\\nuses Beautiful Soup to ',\n",
       "  <a href=\"http://www.b-list.org/weblog/2010/nov/02/news-done-broke/\">gather\\nstatewide election results</a>,\n",
       "  u'.\\n\\n'],\n",
       " [u'The ',\n",
       "  <a href=\"http://esrl.noaa.gov/gsd/fab/\">NOAA's Forecast\\nApplications Branch</a>,\n",
       "  u' uses Beautiful Soup in ',\n",
       "  <a href=\"http://laps.noaa.gov/topograbber/\">TopoGrabber</a>,\n",
       "  u', a script for\\ndownloading \"high resolution USGS datasets.\"\\n\\n']]"
      ]
     },
     "execution_count": 159,
     "metadata": {},
     "output_type": "execute_result"
    }
   ],
   "source": [
    "## use ul as entry point\n",
    "entry_point = soup.find('ul')\n",
    "# or we can use entry_point = soup.ul\n",
    "\n",
    "## get hall of fame list from entry point\n",
    "## skip the first entry \n",
    "hall_of_fame_list = entry_point.contents[1:]  \n",
    "\n",
    "## reformat into a list containing strings\n",
    "tmp = []\n",
    "for li in hall_of_fame_list:\n",
    "    tmp.append(li.contents)\n",
    "tmp"
   ]
  },
  {
   "cell_type": "markdown",
   "metadata": {
    "nbpresent": {
     "id": "b8d181da-4782-457c-a307-010c8863fdc2"
    },
    "slideshow": {
     "slide_type": "slide"
    }
   },
   "source": [
    "`tmp` now is actually a list of lists containing the hall of fame entries. \n",
    "Here is some advanced Python on how to print really just one entry per list item.\n",
    "\n",
    "The cool things about this are: \n",
    "* The use of `\"\"` to just access the `join` function of strings.\n",
    "* The `join` function itself\n",
    "* that you can actually have two nested for loops in a list comprehension"
   ]
  },
  {
   "cell_type": "code",
   "execution_count": 154,
   "metadata": {
    "collapsed": false,
    "nbpresent": {
     "id": "ac0c2bb8-bfb6-4fc2-a775-13583041863a"
    },
    "slideshow": {
     "slide_type": "-"
    }
   },
   "outputs": [
    {
     "name": "stdout",
     "output_type": "stream",
     "text": [
      "[<a href=\"http://www.nytimes.com/2007/10/25/arts/design/25vide.html\">\"Movable\\n Type\"</a>, u', a work of digital art on display in the lobby of the New\\n York Times building, uses Beautiful Soup to scrape news feeds.\\n\\n']\n"
     ]
    }
   ],
   "source": [
    "test =  [\"\".join(str(a) for a in sublist) for sublist in tmp]\n",
    "#print '\\n'.join(test)\n",
    "\n",
    "print tmp[0]"
   ]
  },
  {
   "cell_type": "markdown",
   "metadata": {
    "nbpresent": {
     "id": "d78c5a01-f76e-4419-86da-5aef1d8eb648"
    },
    "slideshow": {
     "slide_type": "slide"
    }
   },
   "source": [
    "Advanced Example\n",
    "===============\n",
    "\n",
    "Idea by [Jesse Steinweg-Woods](https://jessesw.com/Data-Science-Skills/)\n",
    "--------------------------------------------------------------------------------"
   ]
  },
  {
   "cell_type": "markdown",
   "metadata": {
    "nbpresent": {
     "id": "f191c737-7a56-4e00-aaa7-2793c0655aae"
    },
    "slideshow": {
     "slide_type": "slide"
    }
   },
   "source": [
    "Scraping data science skills\n",
    "=============================\n",
    "\n",
    "- What skills are in demand for data scientists?\n",
    "- Should we have a lecture on Spark or only on MapReduce?\n",
    "\n",
    "We want to scrape the information from job advertisements for data scientists from indeed.com\n",
    "Let's scrape and find out!"
   ]
  },
  {
   "cell_type": "code",
   "execution_count": null,
   "metadata": {
    "collapsed": true,
    "nbpresent": {
     "id": "c9a082f0-4ebb-492d-bc3b-b36441e8e671"
    },
    "slideshow": {
     "slide_type": "slide"
    }
   },
   "outputs": [],
   "source": [
    "# Fixed url for job postings containing data scientist\n",
    "url = 'http://www.indeed.com/jobs?q=data+scientist&l='\n",
    "# read the website\n",
    "source = urllib2.urlopen(url).read()\n",
    "# parse html code\n",
    "bs_tree = bs4.BeautifulSoup(source)"
   ]
  },
  {
   "cell_type": "code",
   "execution_count": null,
   "metadata": {
    "collapsed": false,
    "nbpresent": {
     "id": "79e0e882-7b6a-4aa2-b476-8852ea0b4dfa"
    },
    "slideshow": {
     "slide_type": "slide"
    }
   },
   "outputs": [],
   "source": [
    "# see how many job postings we found\n",
    "job_count_string = bs_tree.find(id = 'searchCount').contents[0]\n",
    "job_count_string = job_count_string.split()[-1]\n",
    "print(\"Search yielded %s hits.\" % (job_count_string))\n",
    "\n",
    "# not that job_count so far is still a string, \n",
    "# not an integer, and the , separator prevents \n",
    "# us from just casting it to int\n",
    "\n",
    "job_count_digits = [int(d) for d in job_count_string if d.isdigit()]\n",
    "job_count = np.sum([digit*(10**exponent) for digit, exponent in \n",
    "                    zip(job_count_digits[::-1], range(len(job_count_digits)))])\n",
    "\n",
    "print job_count"
   ]
  },
  {
   "cell_type": "code",
   "execution_count": null,
   "metadata": {
    "collapsed": false,
    "nbpresent": {
     "id": "b39582c6-c3a7-4af4-8655-9dc53144396a"
    },
    "slideshow": {
     "slide_type": "slide"
    }
   },
   "outputs": [],
   "source": [
    "# The website is only listing 10 results per page, \n",
    "# so we need to scrape them page after page\n",
    "num_pages = int(np.ceil(job_count/10.0))\n",
    "\n",
    "base_url = 'http://www.indeed.com'\n",
    "job_links = []\n",
    "for i in range(1): #do range(num_pages) if you want them all\n",
    "    if i%10==0:\n",
    "        print num_pages-i\n",
    "    url = 'http://www.indeed.com/jobs?q=data+scientist&start=' + str(i*10)\n",
    "    html_page = urllib2.urlopen(url).read() \n",
    "    bs_tree = bs4.BeautifulSoup(html_page)\n",
    "    job_link_area = bs_tree.find(id = 'resultsCol')\n",
    "    job_postings = job_link_area.findAll(\"div\")\n",
    "    job_postings = [jp for jp in job_postings if not jp.get('class') is None \n",
    "                    and ''.join(jp.get('class')) ==\"rowresult\"]\n",
    "    job_ids = [jp.get('data-jk') for jp in job_postings]\n",
    "    \n",
    "    # go after each link\n",
    "    for id in job_ids:\n",
    "        job_links.append(base_url + '/rc/clk?jk=' + id)\n",
    "\n",
    "    time.sleep(1)\n",
    "\n",
    "print \"We found a lot of jobs: \", len(job_links)"
   ]
  },
  {
   "cell_type": "markdown",
   "metadata": {
    "nbpresent": {
     "id": "d6563331-0a1d-42c8-811a-70fa56a881be"
    },
    "slideshow": {
     "slide_type": "slide"
    }
   },
   "source": [
    "Some precautions to enable us to restart our search\n",
    "========================="
   ]
  },
  {
   "cell_type": "code",
   "execution_count": null,
   "metadata": {
    "collapsed": true,
    "nbpresent": {
     "id": "99c564ff-6fc5-445b-8873-2dd8683759fc"
    },
    "slideshow": {
     "slide_type": "-"
    }
   },
   "outputs": [],
   "source": [
    "# Save the scraped links\n",
    "#with open('data/scraped_links.pkl', 'wb') as f:\n",
    "#    cPickle.dump(job_links, f)\n",
    "    \n",
    "# Read canned scraped links\n",
    "with open('data/scraped_links.pkl', 'r') as f:\n",
    "    job_links = cPickle.load(f)    "
   ]
  },
  {
   "cell_type": "code",
   "execution_count": null,
   "metadata": {
    "collapsed": true,
    "nbpresent": {
     "id": "8fa4fd51-80fb-4466-9b32-702ed0107744"
    },
    "slideshow": {
     "slide_type": "slide"
    }
   },
   "outputs": [],
   "source": [
    "skill_set = {'mapreduce': 0, 'spark': 0}\n",
    "\n",
    "## write initialization into a file, so we can restart later\n",
    "#with open('scraped_links_restart.pkl', 'wb') as f:\n",
    "#    cPickle.dump((skill_set, 0),f)    "
   ]
  },
  {
   "cell_type": "markdown",
   "metadata": {
    "nbpresent": {
     "id": "fa8d0312-ac72-4459-b121-5c1781d0ff4e"
    },
    "slideshow": {
     "slide_type": "slide"
    }
   },
   "source": [
    "Python Dictonaries\n",
    "==================\n",
    "\n",
    "* build in data type\n",
    "* uses key: value pairs"
   ]
  },
  {
   "cell_type": "code",
   "execution_count": null,
   "metadata": {
    "collapsed": false,
    "nbpresent": {
     "id": "19ec028e-a9d3-4497-93c0-51a564c5c2d9"
    },
    "slideshow": {
     "slide_type": "slide"
    }
   },
   "outputs": [],
   "source": [
    "a = {'a': 1, 'b':2}\n",
    "print a\n",
    "\n",
    "#show keys\n",
    "print a.keys()\n",
    "\n",
    "#show values\n",
    "print a.values()\n",
    "\n",
    "#show for loop over all entries\n",
    "# option 1 using zip\n",
    "# this works also for iterating over any\n",
    "# other two lists\n",
    "for k,v in zip(a.keys(), a.values()):\n",
    "    print k,v\n",
    "\n",
    "# option 2 using the dictionary `iteritems()` function\n",
    "for k,v in a.iteritems():\n",
    "    print k,v"
   ]
  },
  {
   "cell_type": "code",
   "execution_count": null,
   "metadata": {
    "collapsed": false,
    "nbpresent": {
     "id": "4e691c4a-6e15-4a5d-8280-9e207a195508"
    },
    "slideshow": {
     "slide_type": "slide"
    }
   },
   "outputs": [],
   "source": [
    "# This code below does the trick, but could be optimized for speed if necessary\n",
    "# e.g. skills are typically listed at the end of the webpage\n",
    "# might not need to split/join the whole webpage, as we already know\n",
    "# which words we are looking for \n",
    "# and could stop after the first occurance of each word\n",
    "\n",
    "with open('data/scraped_links_restart.pkl', 'r') as f:\n",
    "    skill_set, index = cPickle.load(f)\n",
    "    print \"How many websites still to go? \", len(job_links) - index\n",
    "    \n",
    "    "
   ]
  },
  {
   "cell_type": "code",
   "execution_count": null,
   "metadata": {
    "collapsed": false,
    "nbpresent": {
     "id": "d5c03920-c99a-4b76-84ba-d101d3cbaa10"
    },
    "slideshow": {
     "slide_type": "slide"
    }
   },
   "outputs": [],
   "source": [
    "counter = 0\n",
    "\n",
    "for link in job_links[index:]:\n",
    "    counter +=1  \n",
    "    \n",
    "    try:\n",
    "        html_page = urllib2.urlopen(link).read()\n",
    "    except urllib2.HTTPError:\n",
    "        print \"HTTPError:\"\n",
    "        continue\n",
    "    except urllib2.URLError:\n",
    "        print \"URLError:\"\n",
    "        continue\n",
    "    except socket.error as error:\n",
    "        print \"Connection closed\"\n",
    "        continue\n",
    "\n",
    "    html_text = re.sub(\"[^a-z.+3]\",\" \", html_page.lower()) # replace all but the listed characters\n",
    "        \n",
    "    for key in skill_set.keys():\n",
    "        if key in html_text:  \n",
    "            skill_set[key] +=1\n",
    "            \n",
    "    if counter % 5 == 0:\n",
    "        print len(job_links) - counter - index\n",
    "        print skill_set\n",
    "        with open('scraped_links_restart.pkl','wb') as f:\n",
    "            cPickle.dump((skill_set, index+counter),f)"
   ]
  },
  {
   "cell_type": "code",
   "execution_count": null,
   "metadata": {
    "collapsed": false,
    "nbpresent": {
     "id": "172d2262-a1de-4da3-ae14-859b046b7ff3"
    },
    "slideshow": {
     "slide_type": "slide"
    }
   },
   "outputs": [],
   "source": [
    "print skill_set"
   ]
  },
  {
   "cell_type": "code",
   "execution_count": null,
   "metadata": {
    "collapsed": false,
    "nbpresent": {
     "id": "43ab80ff-7fa0-4974-bdb9-8d71e290eba6"
    },
    "slideshow": {
     "slide_type": "slide"
    }
   },
   "outputs": [],
   "source": [
    "pseries = pd.Series(skill_set)\n",
    "pseries.sort(ascending=False)\n",
    "\n",
    "pseries.plot(kind = 'bar')\n",
    "## set the title to Score Comparison\n",
    "plt.title('Data Science Skills')\n",
    "## set the x label\n",
    "plt.xlabel('Skills')\n",
    "## set the y label\n",
    "plt.ylabel('Count')\n",
    "## show the plot\n",
    "plt.show()"
   ]
  },
  {
   "cell_type": "markdown",
   "metadata": {
    "nbpresent": {
     "id": "5e880160-c3e7-4dd9-8b57-c094cc430e41"
    },
    "slideshow": {
     "slide_type": "slide"
    }
   },
   "source": [
    "Another Example\n",
    "================\n",
    "\n",
    "Designed by Katharine Jarmul\n",
    "----------------------------\n",
    "\n",
    "https://github.com/kjam/python-web-scraping-tutorial\n",
    "\n",
    "\n"
   ]
  },
  {
   "cell_type": "markdown",
   "metadata": {
    "nbpresent": {
     "id": "5cc031a1-c06d-49df-8a1a-68ee126b76f1"
    },
    "slideshow": {
     "slide_type": "slide"
    }
   },
   "source": [
    "Scraping Happy Hours\n",
    "====================\n",
    "\n",
    "Scrape the happy hour list of LA for personal preferences\n",
    "\n",
    "http://www.downtownla.com/3_10_happyHours.asp?action=ALL\n",
    "\n",
    "This example is part of her talk about data scraping at PyCon2014. She is a really good speaker and I enjoyed watching her talk. Check it out: http://www.youtube.com/watch?v=p1iX0uxM1w8"
   ]
  },
  {
   "cell_type": "code",
   "execution_count": null,
   "metadata": {
    "collapsed": false,
    "nbpresent": {
     "id": "ac2fd566-a57c-44ba-be76-260772000384"
    },
    "slideshow": {
     "slide_type": "slide"
    }
   },
   "outputs": [],
   "source": [
    "stuff_i_like = ['burger', 'sushi', 'sweet potato fries', 'BBQ','beer']\n",
    "found_happy_hours = []\n",
    "my_happy_hours = []\n",
    "# First, I'm going to identify the areas of the page I want to look at\n",
    "url = 'http://www.downtownla.com/3_10_happyHours.asp?action=ALL'\n",
    "source = urllib2.urlopen(url).read()\n",
    "tables = bs4.BeautifulSoup(source)"
   ]
  },
  {
   "cell_type": "code",
   "execution_count": null,
   "metadata": {
    "collapsed": false,
    "nbpresent": {
     "id": "9d8761ad-7531-4dd2-86b0-7ec87f64f749"
    },
    "slideshow": {
     "slide_type": "slide"
    }
   },
   "outputs": [],
   "source": [
    "# Then, I'm going to sort out the *exact* parts of the page\n",
    "# that match what I'm looking for...\n",
    "for t in tables.findAll('p', {'class': 'calendar_EventTitle'}):\n",
    "    text = t.text\n",
    "    for s in t.findNextSiblings():\n",
    "        text += '\\n' + s.text\n",
    "    found_happy_hours.append(text)\n",
    "\n",
    "print \"The scraper found %d happy hours!\" % len(found_happy_hours)"
   ]
  },
  {
   "cell_type": "code",
   "execution_count": null,
   "metadata": {
    "collapsed": false,
    "nbpresent": {
     "id": "e0b9042f-eaa6-4ff2-b751-86894f0409a1"
    },
    "slideshow": {
     "slide_type": "slide"
    }
   },
   "outputs": [],
   "source": [
    "# Now I'm going to loop through the food I like\n",
    "# and see if any of the happy hour descriptions match\n",
    "for food in stuff_i_like:\n",
    "    for hh in found_happy_hours:\n",
    "        # checking for text AND making sure I don't have duplicates\n",
    "        if food in hh and hh not in my_happy_hours:\n",
    "            print \"YAY! I found some %s!\" % food\n",
    "            my_happy_hours.append(hh)\n",
    "\n",
    "print \"I think you might like %d of them, yipeeeee!\" % len(my_happy_hours)"
   ]
  },
  {
   "cell_type": "code",
   "execution_count": null,
   "metadata": {
    "collapsed": false,
    "nbpresent": {
     "id": "891d6687-6db8-428e-8751-8d83f8a440ea"
    },
    "slideshow": {
     "slide_type": "slide"
    }
   },
   "outputs": [],
   "source": [
    "# Now, let's make a mail message we can read:\n",
    "message = 'Hey Katharine,\\n\\n\\n'\n",
    "message += 'OMG, I found some stuff for you in Downtown, take a look.\\n\\n'\n",
    "message += '==============================\\n'.join(my_happy_hours)\n",
    "message = message.encode('utf-8')\n",
    "# To read more about encoding:\n",
    "# http://diveintopython.org/xml_processing/unicode.html\n",
    "message = message.replace('\\t', '').replace('\\r', '')\n",
    "message += '\\n\\nXOXO,\\n Your Py Script'\n",
    "\n",
    "#print message"
   ]
  },
  {
   "cell_type": "markdown",
   "metadata": {
    "nbpresent": {
     "id": "054ab6a0-0921-4f3d-9b03-7a2bba8a9acc"
    },
    "slideshow": {
     "slide_type": "slide"
    }
   },
   "source": [
    "Getting Data with an API\n",
    "=========================\n",
    "\n",
    "* API: application programming interface\n",
    "* some sites try to make your life easier\n",
    "* Twitter, New York Times, ImDB, rotten Tomatoes, Yelp, ..."
   ]
  },
  {
   "cell_type": "markdown",
   "metadata": {
    "nbpresent": {
     "id": "358f4b17-1418-4e7a-af57-d0270c0e686a"
    },
    "slideshow": {
     "slide_type": "slide"
    }
   },
   "source": [
    "Rotten Tomatoes\n",
    "===============\n",
    "\n",
    "![The Wizard of Oz](images/wiz_oz.png \"The wizard of Oz\")\n",
    "\n",
    "http://www.rottentomatoes.com/top/\n"
   ]
  },
  {
   "cell_type": "markdown",
   "metadata": {
    "nbpresent": {
     "id": "16873526-997e-4ccb-8749-26b139fc913a"
    },
    "slideshow": {
     "slide_type": "slide"
    }
   },
   "source": [
    "API keys\n",
    "=========\n",
    "\n",
    "* required for data access\n",
    "* identifies application (you)\n",
    "* monitors usage\n",
    "* limits rates"
   ]
  },
  {
   "cell_type": "markdown",
   "metadata": {
    "nbpresent": {
     "id": "a1ff4b45-e4ba-476a-900a-c8be018e3385"
    },
    "slideshow": {
     "slide_type": "slide"
    }
   },
   "source": [
    "Rotten Tomatoes Key\n",
    "===================\n",
    "\n",
    "http://developer.rottentomatoes.com/member/register"
   ]
  },
  {
   "cell_type": "code",
   "execution_count": null,
   "metadata": {
    "collapsed": false,
    "nbpresent": {
     "id": "72325407-0626-4ce8-9e7d-b3abcb8abf06"
    }
   },
   "outputs": [],
   "source": [
    "import json\n",
    "import requests\n",
    "\n",
    "api_key = rottenTomatoes_key()\n",
    "\n",
    "url = 'http://api.rottentomatoes.com/api/public/v1.0/lists/dvds/top_rentals.json?apikey=' + api_key\n",
    "data = urllib2.urlopen(url).read()\n",
    "#print data"
   ]
  },
  {
   "cell_type": "markdown",
   "metadata": {
    "nbpresent": {
     "id": "7cff0399-09d7-4a54-a98f-7770624915a8"
    },
    "slideshow": {
     "slide_type": "slide"
    }
   },
   "source": [
    "JSON\n",
    "======\n",
    "\n",
    "* JavaScript Object Notation\n",
    "* human readable\n",
    "* transmit attribute-value pairs"
   ]
  },
  {
   "cell_type": "code",
   "execution_count": null,
   "metadata": {
    "collapsed": false,
    "nbpresent": {
     "id": "b82cea81-c854-4a06-81f3-f3c5b09ae31a"
    },
    "slideshow": {
     "slide_type": "slide"
    }
   },
   "outputs": [],
   "source": [
    "a = {'a': 1, 'b':2}\n",
    "s = json.dumps(a)\n",
    "a2 = json.loads(s)\n",
    "\n",
    "## a is a dictionary\n",
    "print a\n",
    "## vs s is a string containing a in JSON encoding\n",
    "print s\n",
    "## reading back the keys are now in unicode\n",
    "print a2"
   ]
  },
  {
   "cell_type": "code",
   "execution_count": null,
   "metadata": {
    "collapsed": false,
    "nbpresent": {
     "id": "ed8a2137-9506-4132-a0d9-b3d9c6406bfa"
    },
    "slideshow": {
     "slide_type": "slide"
    }
   },
   "outputs": [],
   "source": [
    "## create dictionary from JSON \n",
    "dataDict = json.loads(data)\n",
    "\n",
    "## expore dictionary\n",
    "print dataDict.keys()\n",
    "\n",
    "## there is a key named `movies` containing a list of movies as a value\n",
    "movies = dataDict['movies']\n",
    "\n",
    "## each element of the list `movies` is a dictionary\n",
    "print movies[0].keys()\n",
    "\n",
    "## one of the keys is called `ratings`\n",
    "## the value is yet another dictionary\n",
    "print movies[0]['ratings'].keys()\n",
    "\n",
    "## so we made it all the way to find the critics score\n",
    "print movies[0]['ratings']['critics_score']\n"
   ]
  },
  {
   "cell_type": "markdown",
   "metadata": {
    "nbpresent": {
     "id": "f2b6f976-7795-45fd-a0ab-c806da9decbd"
    },
    "slideshow": {
     "slide_type": "slide"
    }
   },
   "source": [
    "Quiz\n",
    "=====\n",
    "\n",
    "* build a list with critics scores\n",
    "* build a list with audience scores"
   ]
  },
  {
   "cell_type": "code",
   "execution_count": null,
   "metadata": {
    "collapsed": false,
    "nbpresent": {
     "id": "7bce7f28-9e81-420c-960b-301bbef720a8"
    },
    "slideshow": {
     "slide_type": "slide"
    }
   },
   "outputs": [],
   "source": [
    "# critics scores list\n",
    "\n",
    "\n",
    "# audience scores list\n"
   ]
  },
  {
   "cell_type": "markdown",
   "metadata": {
    "nbpresent": {
     "id": "8385f8c2-398b-489c-96cf-3cf246ce0fb5"
    },
    "slideshow": {
     "slide_type": "skip"
    }
   },
   "source": [
    "The following code shows how to create a pandas data frame with the data we gathered from the webpage.\n",
    "Beware of the `set_index()` function in pandas. Per default it does not change the actual data frame! You need to either reassign the output or set the `inplace` argument to `True`."
   ]
  },
  {
   "cell_type": "code",
   "execution_count": null,
   "metadata": {
    "collapsed": false,
    "nbpresent": {
     "id": "06ef8b23-8ce2-43ae-968e-219d03b25a73"
    },
    "slideshow": {
     "slide_type": "slide"
    }
   },
   "outputs": [],
   "source": [
    "## create pandas data frame with critics and audience score\n",
    "scores = pd.DataFrame(data=[critics_scores, audience_scores]).transpose()\n",
    "scores.columns = ['critics', 'audience']\n",
    "\n",
    "## also create a list with all movie titles\n",
    "movie_titles = [m['title'] for m in movies]\n",
    "\n",
    "## set index of dataFrame BEWARE of inplace!\n",
    "scores.set_index([movie_titles])\n",
    "\n",
    "## the line above does not changes scores!\n",
    "## You need to either reassign\n",
    "\n",
    "scores = scores.set_index([movie_titles])\n",
    "\n",
    "## or set the inplace argument to True\n",
    "scores.set_index([movie_titles], inplace=True)\n",
    "scores.head(3)"
   ]
  },
  {
   "cell_type": "code",
   "execution_count": null,
   "metadata": {
    "collapsed": false,
    "nbpresent": {
     "id": "f42b5e30-6a32-4daa-8ee9-0ae50d5d538d"
    },
    "slideshow": {
     "slide_type": "slide"
    }
   },
   "outputs": [],
   "source": [
    "## create a bar plot with the data\n",
    "## notice that we are using the data frame itself and call its plot function\n",
    "scores.plot(kind = 'bar')\n",
    "\n",
    "## set the title to Score Comparison\n",
    "plt.title('Score Comparison')\n",
    "\n",
    "## set the x label\n",
    "plt.xlabel('Movies')\n",
    "\n",
    "## set the y label\n",
    "plt.ylabel('Scores')"
   ]
  },
  {
   "cell_type": "code",
   "execution_count": null,
   "metadata": {
    "collapsed": false,
    "nbpresent": {
     "id": "7e275043-d391-47e2-8d35-1ebac83965e3"
    },
    "slideshow": {
     "slide_type": "slide"
    }
   },
   "outputs": [],
   "source": [
    "## show the plot\n",
    "plt.show()"
   ]
  },
  {
   "cell_type": "markdown",
   "metadata": {
    "nbpresent": {
     "id": "8738fc47-f043-45e7-ac30-512309175f13"
    },
    "slideshow": {
     "slide_type": "slide"
    }
   },
   "source": [
    "Twitter Example:\n",
    "================\n",
    "\n",
    "* API a bit more complicated\n",
    "* libraries make life easier\n",
    "* python-twitter\n",
    "\n",
    "https://github.com/bear/python-twitter\n",
    "\n",
    "What we are going to do is scrape Joe's twitter account, and then filter it for the interesting tweets. Defining interesting as tweets that have be re-tweeted at least 10 times. \n"
   ]
  },
  {
   "cell_type": "code",
   "execution_count": null,
   "metadata": {
    "collapsed": false,
    "nbpresent": {
     "id": "687248db-30f2-40bc-905d-2963bb53fd0a"
    },
    "slideshow": {
     "slide_type": "slide"
    }
   },
   "outputs": [],
   "source": [
    "import twitter\n",
    "\n",
    "## define the necessary keys\n",
    "cKey = twitterAPI_key()\n",
    "cSecret = twitterAPI_secret()\n",
    "aKey = twitterAPI_access_token_key()\n",
    "aSecret = twitterAPI_access_token_secret()\n",
    "\n",
    "## create the api object with the twitter-python library\n",
    "api = twitter.Api(consumer_key=cKey, consumer_secret=cSecret, access_token_key=aKey, access_token_secret=aSecret)\n"
   ]
  },
  {
   "cell_type": "code",
   "execution_count": null,
   "metadata": {
    "collapsed": false,
    "nbpresent": {
     "id": "9633af77-90ee-414d-ab24-7927c9fff236"
    },
    "slideshow": {
     "slide_type": "slide"
    }
   },
   "outputs": [],
   "source": [
    "## get the user timeline with screen_name = 'stat110'\n",
    "twitter_statuses = api.GetUserTimeline(screen_name = 'stat110')\n",
    "\n",
    "## create a data frame\n",
    "## first get a list of panda Series or dict\n",
    "pdSeriesList = [pd.Series(t.AsDict()) for t in twitter_statuses]\n",
    "\n",
    "## then create the data frame\n",
    "data = pd.DataFrame(pdSeriesList)\n",
    "\n",
    "data.head(2)"
   ]
  },
  {
   "cell_type": "code",
   "execution_count": null,
   "metadata": {
    "collapsed": false,
    "nbpresent": {
     "id": "ceadb507-0b36-4c19-aed3-811748289ca3"
    },
    "slideshow": {
     "slide_type": "slide"
    }
   },
   "outputs": [],
   "source": [
    "## filter tweets with enough retweet_count\n",
    "maybe_interesting = data[data.retweet_count>20]\n",
    "\n",
    "## get the text of these tweets\n",
    "tweet_text = maybe_interesting.text\n",
    "\n",
    "## print them out\n",
    "text = tweet_text.values\n",
    "\n",
    "for t in text:\n",
    "    print '######'\n",
    "    print t"
   ]
  },
  {
   "cell_type": "markdown",
   "metadata": {
    "nbpresent": {
     "id": "e371ccf4-d296-42a6-bb9b-89e9c9cb9e34"
    },
    "slideshow": {
     "slide_type": "skip"
    }
   },
   "source": [
    "Extracting columns:\n",
    "===================\n",
    "\n",
    "__Warning:__ The returned column `tweet_text` is a `view` on the data\n",
    "    \n",
    "* it is not a copy\n",
    "* you change the Series => you change the DataFrame\n",
    "\n",
    "Below is another example of such a view:"
   ]
  },
  {
   "cell_type": "code",
   "execution_count": null,
   "metadata": {
    "collapsed": false,
    "nbpresent": {
     "id": "cd46a610-732d-4a31-8850-3a446214ef64"
    },
    "slideshow": {
     "slide_type": "skip"
    }
   },
   "outputs": [],
   "source": [
    "## create a view for favorite_count on maybe_interesting\n",
    "view = maybe_interesting['favorite_count']\n",
    "print '-----------------'\n",
    "print \"This is view:\"\n",
    "print view\n",
    "## change a value\n",
    "view[8] = 9999\n",
    "\n",
    "## look at original frame\n",
    "print '-----------------'\n",
    "print \"This is view after changing view[8]\"\n",
    "print view\n",
    "\n",
    "print '-----------------'\n",
    "print \"This is maybe_interesting after changing view[8]\"\n",
    "print \"It changed too!\"\n",
    "print maybe_interesting['favorite_count']\n",
    "\n",
    "## to avoid this you can use copy\n",
    "independent_data = maybe_interesting['favorite_count'].copy()\n",
    "independent_data[10] = 999\n",
    "print '-----------------'\n",
    "print \"This is independent_data after changed at 10:\"\n",
    "print independent_data\n",
    "print '-----------------'\n",
    "print \"This is maybe_interesting after changing independent_data:\"\n",
    "print \"It did not change because we only changed a copy of it\"\n",
    "print maybe_interesting['favorite_count']"
   ]
  },
  {
   "cell_type": "markdown",
   "metadata": {
    "collapsed": true,
    "nbpresent": {
     "id": "d3683fd2-86d0-40b8-811c-9238e7b80557"
    },
    "slideshow": {
     "slide_type": "slide"
    }
   },
   "source": [
    "What we covered today:\n",
    "============\n",
    "\n",
    "* Pandas data frames\n",
    "* Guidelines for friendly scraping\n",
    "* Scraping html sites\n",
    "* Scraping with Api's\n",
    "* Basic data cleanup\n"
   ]
  },
  {
   "cell_type": "markdown",
   "metadata": {
    "nbpresent": {
     "id": "72ede394-3a59-4409-91fe-0375ba309f5c"
    },
    "slideshow": {
     "slide_type": "slide"
    }
   },
   "source": [
    "Further material\n",
    "================\n",
    "\n",
    "* I highly recommend Katharine Jarmul's scraping tutorials\n",
    "* For example [this one](https://www.youtube.com/watch?v=p1iX0uxM1w8)\n",
    "* Pandas has extensive [documentation](http://pandas.pydata.org/pandas-docs/stable/)\n",
    "* Especially the [tem minutes to pandas chapter](http://pandas.pydata.org/pandas-docs/stable/10min.html)\n",
    "\n",
    "* [Greg Reda](http://www.gregreda.com/2013/10/26/using-pandas-on-the-movielens-dataset/) did a lot more pandas examples for the movie lens data set"
   ]
  }
 ],
 "metadata": {
  "anaconda-cloud": {},
  "celltoolbar": "Slideshow",
  "kernelspec": {
   "display_name": "Python [default]",
   "language": "python",
   "name": "python2"
  },
  "language_info": {
   "codemirror_mode": {
    "name": "ipython",
    "version": 2
   },
   "file_extension": ".py",
   "mimetype": "text/x-python",
   "name": "python",
   "nbconvert_exporter": "python",
   "pygments_lexer": "ipython2",
   "version": "2.7.12"
  },
  "nbpresent": {
   "slides": {
    "00e95255-11d9-4ef0-8cb4-a5b3079edd76": {
     "id": "00e95255-11d9-4ef0-8cb4-a5b3079edd76",
     "prev": "134b56be-85fe-434a-b121-8769063adf44",
     "regions": {
      "fed93ebd-b62f-4dab-884c-a34dea4cc37a": {
       "attrs": {
        "height": 0.8,
        "width": 0.8,
        "x": 0.1,
        "y": 0.1
       },
       "content": {
        "cell": "996967ed-5b84-4745-a675-0b8619c6e49d",
        "part": "whole"
       },
       "id": "fed93ebd-b62f-4dab-884c-a34dea4cc37a"
      }
     }
    },
    "013bf89e-5f69-4f27-a72c-1406056d04c0": {
     "id": "013bf89e-5f69-4f27-a72c-1406056d04c0",
     "prev": "bee31ed9-2a4f-4308-bb3f-cfff64c414a9",
     "regions": {
      "86d93510-9fc1-4633-ba81-f0e9a37627b2": {
       "attrs": {
        "height": 0.8,
        "width": 0.8,
        "x": 0.1,
        "y": 0.1
       },
       "content": {
        "cell": "d3683fd2-86d0-40b8-811c-9238e7b80557",
        "part": "whole"
       },
       "id": "86d93510-9fc1-4633-ba81-f0e9a37627b2"
      }
     }
    },
    "017fb1e9-e6de-41cb-85f5-11fc8243b085": {
     "id": "017fb1e9-e6de-41cb-85f5-11fc8243b085",
     "prev": "12c4cf74-0a23-45c5-a3f8-95eefe8f4ffe",
     "regions": {
      "581295e8-6211-4acb-a3a4-51817e563736": {
       "attrs": {
        "height": 0.8,
        "width": 0.8,
        "x": 0.1,
        "y": 0.1
       },
       "content": {
        "cell": "6e2baaf9-f32f-4fa1-ab4d-9032aa0d4334",
        "part": "whole"
       },
       "id": "581295e8-6211-4acb-a3a4-51817e563736"
      }
     }
    },
    "02665b11-39a1-4d1d-8853-438fa118d80b": {
     "id": "02665b11-39a1-4d1d-8853-438fa118d80b",
     "prev": "a5e3a032-ab17-4a2e-b046-28337652bbc2",
     "regions": {
      "e5caa168-4a44-49f4-a733-a026c1b962d6": {
       "attrs": {
        "height": 0.8,
        "width": 0.8,
        "x": 0.1,
        "y": 0.1
       },
       "content": {
        "cell": "81b68273-4598-4187-825e-9ff0216f9262",
        "part": "whole"
       },
       "id": "e5caa168-4a44-49f4-a733-a026c1b962d6"
      }
     }
    },
    "0458b641-e266-44ad-981c-f25060f08155": {
     "id": "0458b641-e266-44ad-981c-f25060f08155",
     "prev": "124c8fdd-8652-4504-a404-efd114e68370",
     "regions": {
      "96b05ee9-9c73-4794-b248-a9f21638fd9b": {
       "attrs": {
        "height": 0.8,
        "width": 0.8,
        "x": 0.1,
        "y": 0.1
       },
       "content": {
        "cell": "b7ab3244-7596-4e0e-ac26-eacf002e5fc2",
        "part": "whole"
       },
       "id": "96b05ee9-9c73-4794-b248-a9f21638fd9b"
      }
     }
    },
    "05db4946-f1c2-48a2-bb91-7ff3301b682f": {
     "id": "05db4946-f1c2-48a2-bb91-7ff3301b682f",
     "prev": "214a1387-f9ac-4348-8966-09d53d116c44",
     "regions": {
      "d9ecc39c-8918-4169-8154-0bf6b44fe2fa": {
       "attrs": {
        "height": 0.8,
        "width": 0.8,
        "x": 0.1,
        "y": 0.1
       },
       "content": {
        "cell": "09e4d36f-c58f-471f-bd11-d328915f9154",
        "part": "whole"
       },
       "id": "d9ecc39c-8918-4169-8154-0bf6b44fe2fa"
      }
     }
    },
    "0a8a7de4-5206-4f96-81ce-60529e38b7fc": {
     "id": "0a8a7de4-5206-4f96-81ce-60529e38b7fc",
     "prev": "21647cf7-79a8-46ff-a675-22029a14489c",
     "regions": {
      "eab9004c-622f-49b1-8432-3f6c7a0f7762": {
       "attrs": {
        "height": 0.8,
        "width": 0.8,
        "x": 0.1,
        "y": 0.1
       },
       "content": {
        "cell": "6785c2d9-9efa-41ee-8d45-8607b8c6391b",
        "part": "whole"
       },
       "id": "eab9004c-622f-49b1-8432-3f6c7a0f7762"
      }
     }
    },
    "0b480b6b-925c-4720-b43a-1416f2848f57": {
     "id": "0b480b6b-925c-4720-b43a-1416f2848f57",
     "prev": "24e10e7a-b259-4703-a845-3b2f84b51c42",
     "regions": {
      "d6ff2a1b-4a0b-4e76-96ff-957c94fcf32c": {
       "attrs": {
        "height": 0.8,
        "width": 0.8,
        "x": 0.1,
        "y": 0.1
       },
       "content": {
        "cell": "2ae06179-55a6-4e67-b32b-7ff13141b701",
        "part": "whole"
       },
       "id": "d6ff2a1b-4a0b-4e76-96ff-957c94fcf32c"
      }
     }
    },
    "0d4ee1d3-b954-4582-b569-280ca8c327d4": {
     "id": "0d4ee1d3-b954-4582-b569-280ca8c327d4",
     "prev": "8780679b-7ea8-4240-9f77-93291fdc8da8",
     "regions": {
      "2445e2a7-d66c-4441-a581-fe47c2058843": {
       "attrs": {
        "height": 0.8,
        "width": 0.8,
        "x": 0.1,
        "y": 0.1
       },
       "content": {
        "cell": "a1ff4b45-e4ba-476a-900a-c8be018e3385",
        "part": "whole"
       },
       "id": "2445e2a7-d66c-4441-a581-fe47c2058843"
      }
     }
    },
    "0de5376d-1752-42da-a819-322823febb91": {
     "id": "0de5376d-1752-42da-a819-322823febb91",
     "prev": "6a0b949d-f21d-4a05-a651-50c157040648",
     "regions": {
      "01859f6e-2372-4a7c-ab60-943f55788b73": {
       "attrs": {
        "height": 0.8,
        "width": 0.8,
        "x": 0.1,
        "y": 0.1
       },
       "content": {
        "cell": "a83f541f-df42-42c7-b826-1576f043cab3",
        "part": "whole"
       },
       "id": "01859f6e-2372-4a7c-ab60-943f55788b73"
      }
     }
    },
    "0dfeccd9-d30d-4833-887a-b271afb34212": {
     "id": "0dfeccd9-d30d-4833-887a-b271afb34212",
     "prev": "952cbc7d-6fa7-4d87-be9f-88cd3a35d78f",
     "regions": {
      "9beaf4b7-c898-4afb-a893-7a791dc3b4f6": {
       "attrs": {
        "height": 0.8,
        "width": 0.8,
        "x": 0.1,
        "y": 0.1
       },
       "content": {
        "cell": "8fa4fd51-80fb-4466-9b32-702ed0107744",
        "part": "whole"
       },
       "id": "9beaf4b7-c898-4afb-a893-7a791dc3b4f6"
      }
     }
    },
    "0ebbe2e4-926b-471a-864c-06119a921f9c": {
     "id": "0ebbe2e4-926b-471a-864c-06119a921f9c",
     "prev": "3315b7c4-bd80-47d7-a5be-f7ec59e57117",
     "regions": {
      "f2a4e931-4250-472b-9111-b0bdef45cc67": {
       "attrs": {
        "height": 0.8,
        "width": 0.8,
        "x": 0.1,
        "y": 0.1
       },
       "content": {
        "cell": "c1ff07ff-c15c-47b4-b679-753f030d63ab",
        "part": "whole"
       },
       "id": "f2a4e931-4250-472b-9111-b0bdef45cc67"
      }
     }
    },
    "124c8fdd-8652-4504-a404-efd114e68370": {
     "id": "124c8fdd-8652-4504-a404-efd114e68370",
     "prev": "b353780f-4e2f-405f-bd93-27708179cbb9",
     "regions": {
      "ff9174e3-36f5-488b-8175-ccf263093e5c": {
       "attrs": {
        "height": 0.8,
        "width": 0.8,
        "x": 0.1,
        "y": 0.1
       },
       "content": {
        "cell": "ec5d1615-d793-4b7b-b034-877a0cc15f75",
        "part": "whole"
       },
       "id": "ff9174e3-36f5-488b-8175-ccf263093e5c"
      }
     }
    },
    "1276a19e-889f-4141-8557-9d1fcc5e004f": {
     "id": "1276a19e-889f-4141-8557-9d1fcc5e004f",
     "prev": "5365d6a2-5fa0-416c-a098-eb35bb7a723e",
     "regions": {
      "2ffa04db-35e5-4608-b875-3eba7220f33e": {
       "attrs": {
        "height": 0.8,
        "width": 0.8,
        "x": 0.1,
        "y": 0.1
       },
       "content": {
        "cell": "d36d385a-b1d9-4d74-b4ce-550c756565eb",
        "part": "whole"
       },
       "id": "2ffa04db-35e5-4608-b875-3eba7220f33e"
      }
     }
    },
    "12c4cf74-0a23-45c5-a3f8-95eefe8f4ffe": {
     "id": "12c4cf74-0a23-45c5-a3f8-95eefe8f4ffe",
     "prev": "05db4946-f1c2-48a2-bb91-7ff3301b682f",
     "regions": {
      "13457303-ee3b-4c40-bd4d-502f00bdc857": {
       "attrs": {
        "height": 0.8,
        "width": 0.8,
        "x": 0.1,
        "y": 0.1
       },
       "content": {
        "cell": "37fa9ccf-2a15-4cd3-ac6d-ffb9f4040ce8",
        "part": "whole"
       },
       "id": "13457303-ee3b-4c40-bd4d-502f00bdc857"
      }
     }
    },
    "134b56be-85fe-434a-b121-8769063adf44": {
     "id": "134b56be-85fe-434a-b121-8769063adf44",
     "prev": "22e957fe-71bc-4e7c-9bab-d1c62fd733d1",
     "regions": {
      "9066a198-82bb-495c-96e4-314153f8b794": {
       "attrs": {
        "height": 0.8,
        "width": 0.8,
        "x": 0.1,
        "y": 0.1
       },
       "content": {
        "cell": "a7e04495-5d7a-4505-a4b8-a1eceb005efe",
        "part": "whole"
       },
       "id": "9066a198-82bb-495c-96e4-314153f8b794"
      }
     }
    },
    "155f9d29-1a89-404c-9995-506fc7c9aec0": {
     "id": "155f9d29-1a89-404c-9995-506fc7c9aec0",
     "prev": "40aea6c8-7721-488f-b166-b6831866bce4",
     "regions": {
      "e30f0a15-f803-41a5-b5d2-a0daf74c6d9d": {
       "attrs": {
        "height": 0.8,
        "width": 0.8,
        "x": 0.1,
        "y": 0.1
       },
       "content": {
        "cell": "cf363f83-dd67-4af8-93d7-4daf4822fd6d",
        "part": "whole"
       },
       "id": "e30f0a15-f803-41a5-b5d2-a0daf74c6d9d"
      }
     }
    },
    "1a104600-6121-4f63-93f7-318eb1e31635": {
     "id": "1a104600-6121-4f63-93f7-318eb1e31635",
     "prev": "429d3518-f894-4e79-a2ac-9a4023329c28",
     "regions": {
      "ced696a5-e869-47e8-983c-c2f920af6736": {
       "attrs": {
        "height": 0.8,
        "width": 0.8,
        "x": 0.1,
        "y": 0.1
       },
       "content": {
        "cell": "2ef962dc-1a8c-4e64-8bbe-e466c8c6fc78",
        "part": "whole"
       },
       "id": "ced696a5-e869-47e8-983c-c2f920af6736"
      }
     }
    },
    "1dc7395e-6051-4029-af05-faf5c276472e": {
     "id": "1dc7395e-6051-4029-af05-faf5c276472e",
     "prev": "ad9869d5-04ba-4006-b7cf-767b396b3e8a",
     "regions": {
      "f278503d-0744-488b-84c2-bdee79a07351": {
       "attrs": {
        "height": 0.8,
        "width": 0.8,
        "x": 0.1,
        "y": 0.1
       },
       "content": {
        "cell": "f42b5e30-6a32-4daa-8ee9-0ae50d5d538d",
        "part": "whole"
       },
       "id": "f278503d-0744-488b-84c2-bdee79a07351"
      }
     }
    },
    "214a1387-f9ac-4348-8966-09d53d116c44": {
     "id": "214a1387-f9ac-4348-8966-09d53d116c44",
     "prev": "1276a19e-889f-4141-8557-9d1fcc5e004f",
     "regions": {
      "8a968282-95fb-4b15-963c-ce79c782c0eb": {
       "attrs": {
        "height": 0.8,
        "width": 0.8,
        "x": 0.1,
        "y": 0.1
       },
       "content": {
        "cell": "d0383a40-9d68-446a-8333-52e1d1be42eb",
        "part": "whole"
       },
       "id": "8a968282-95fb-4b15-963c-ce79c782c0eb"
      }
     }
    },
    "21647cf7-79a8-46ff-a675-22029a14489c": {
     "id": "21647cf7-79a8-46ff-a675-22029a14489c",
     "prev": "27b17536-8dbe-4144-8e0f-c6a0b97fe1a5",
     "regions": {
      "93913eb8-8668-44c6-bc96-9894f8bcb471": {
       "attrs": {
        "height": 0.8,
        "width": 0.8,
        "x": 0.1,
        "y": 0.1
       },
       "content": {
        "cell": "4b055d4f-a3cd-40a9-963d-9397520976f7",
        "part": "whole"
       },
       "id": "93913eb8-8668-44c6-bc96-9894f8bcb471"
      }
     }
    },
    "22e957fe-71bc-4e7c-9bab-d1c62fd733d1": {
     "id": "22e957fe-71bc-4e7c-9bab-d1c62fd733d1",
     "prev": "017fb1e9-e6de-41cb-85f5-11fc8243b085",
     "regions": {
      "2220d7e1-f06e-459c-bbc7-85565438c9a8": {
       "attrs": {
        "height": 0.8,
        "width": 0.8,
        "x": 0.1,
        "y": 0.1
       },
       "content": {
        "cell": "dce5f60a-46ac-44e7-8390-d4664800a6b6",
        "part": "whole"
       },
       "id": "2220d7e1-f06e-459c-bbc7-85565438c9a8"
      }
     }
    },
    "23f56be6-4144-4cf1-8a83-2b3e3d50034b": {
     "id": "23f56be6-4144-4cf1-8a83-2b3e3d50034b",
     "prev": "9553a2c2-b6e2-424f-b229-15effe57c6f4",
     "regions": {
      "bd7b6be1-c798-479e-ac80-c82ffad21723": {
       "attrs": {
        "height": 0.8,
        "width": 0.8,
        "x": 0.1,
        "y": 0.1
       },
       "content": {
        "cell": "e17fd250-b1e9-469a-87ea-b2dd198d0997",
        "part": "whole"
       },
       "id": "bd7b6be1-c798-479e-ac80-c82ffad21723"
      }
     }
    },
    "248f67c5-67ff-4391-b427-4af02f2fe498": {
     "id": "248f67c5-67ff-4391-b427-4af02f2fe498",
     "prev": "0b480b6b-925c-4720-b43a-1416f2848f57",
     "regions": {
      "e81002f5-92fc-4486-8624-545e20ce91f3": {
       "attrs": {
        "height": 0.8,
        "width": 0.8,
        "x": 0.1,
        "y": 0.1
       },
       "content": {
        "cell": "744b5a18-1813-4268-abc4-07badc5d087f",
        "part": "whole"
       },
       "id": "e81002f5-92fc-4486-8624-545e20ce91f3"
      }
     }
    },
    "24e10e7a-b259-4703-a845-3b2f84b51c42": {
     "id": "24e10e7a-b259-4703-a845-3b2f84b51c42",
     "prev": "d0c98f5b-ae10-4775-9571-a8692b099ef1",
     "regions": {
      "307a56ca-b0e3-4b0f-ae1b-5136b711fe26": {
       "attrs": {
        "height": 0.8,
        "width": 0.8,
        "x": 0.1,
        "y": 0.1
       },
       "content": {
        "cell": "d64f1bd1-7bcb-4ef0-948c-2c6738698b8d",
        "part": "whole"
       },
       "id": "307a56ca-b0e3-4b0f-ae1b-5136b711fe26"
      }
     }
    },
    "27b17536-8dbe-4144-8e0f-c6a0b97fe1a5": {
     "id": "27b17536-8dbe-4144-8e0f-c6a0b97fe1a5",
     "prev": "0de5376d-1752-42da-a819-322823febb91",
     "regions": {
      "6fab907a-88e0-4801-a7e5-47f5d46a76b2": {
       "attrs": {
        "height": 0.8,
        "width": 0.8,
        "x": 0.1,
        "y": 0.1
       },
       "content": {
        "cell": "1886c405-2a3b-4280-9fac-7284883ef2b3",
        "part": "whole"
       },
       "id": "6fab907a-88e0-4801-a7e5-47f5d46a76b2"
      }
     }
    },
    "288ea8e8-4b39-4818-bb1a-937ad59580e8": {
     "id": "288ea8e8-4b39-4818-bb1a-937ad59580e8",
     "prev": "013bf89e-5f69-4f27-a72c-1406056d04c0",
     "regions": {
      "f52ed1ed-a2a4-404b-8144-dc285601a65e": {
       "attrs": {
        "height": 0.8,
        "width": 0.8,
        "x": 0.1,
        "y": 0.1
       },
       "content": {
        "cell": "72ede394-3a59-4409-91fe-0375ba309f5c",
        "part": "whole"
       },
       "id": "f52ed1ed-a2a4-404b-8144-dc285601a65e"
      }
     }
    },
    "294ecd0c-2cd1-4af0-9fb4-89ccf886af5d": {
     "id": "294ecd0c-2cd1-4af0-9fb4-89ccf886af5d",
     "prev": "78208e42-0896-4858-95a9-0d0e6d289a47",
     "regions": {
      "503c8c56-c239-404a-9caf-a22b04e8eeb2": {
       "attrs": {
        "height": 0.8,
        "width": 0.8,
        "x": 0.1,
        "y": 0.1
       },
       "content": {
        "cell": "d6563331-0a1d-42c8-811a-70fa56a881be",
        "part": "whole"
       },
       "id": "503c8c56-c239-404a-9caf-a22b04e8eeb2"
      }
     }
    },
    "2bef322f-06ee-4412-9bf1-5c7b88f73a26": {
     "id": "2bef322f-06ee-4412-9bf1-5c7b88f73a26",
     "prev": "32757bcb-cb62-41a4-a0eb-5def0abd1f54",
     "regions": {
      "c8331b97-57f8-4659-9d21-6f951d868697": {
       "attrs": {
        "height": 0.8,
        "width": 0.8,
        "x": 0.1,
        "y": 0.1
       },
       "content": {
        "cell": "c83405a8-3a0d-4311-9cbb-a6736dee1d2f",
        "part": "whole"
       },
       "id": "c8331b97-57f8-4659-9d21-6f951d868697"
      }
     }
    },
    "3004486e-75e5-45c4-be92-02dd730a77c2": {
     "id": "3004486e-75e5-45c4-be92-02dd730a77c2",
     "prev": "68c0b557-7df5-4c67-8dad-e80ac24beda4",
     "regions": {
      "37fb0c80-d202-4117-ae7e-903e6db72614": {
       "attrs": {
        "height": 0.8,
        "width": 0.8,
        "x": 0.1,
        "y": 0.1
       },
       "content": {
        "cell": "9d8761ad-7531-4dd2-86b0-7ec87f64f749",
        "part": "whole"
       },
       "id": "37fb0c80-d202-4117-ae7e-903e6db72614"
      }
     }
    },
    "306ba3cd-34fa-49d4-9b84-6e00919e99cf": {
     "id": "306ba3cd-34fa-49d4-9b84-6e00919e99cf",
     "prev": "a5f43980-43e1-4e60-9812-8760cb7b99e9",
     "regions": {
      "8543e6b1-272c-4c7e-b50a-d7cdd50b092d": {
       "attrs": {
        "height": 0.8,
        "width": 0.8,
        "x": 0.1,
        "y": 0.1
       },
       "content": {
        "cell": "54bb23c7-8411-458e-9283-e08e90dd2b36",
        "part": "whole"
       },
       "id": "8543e6b1-272c-4c7e-b50a-d7cdd50b092d"
      }
     }
    },
    "3273278d-5414-4ad0-9f04-24fbe47adeaf": {
     "id": "3273278d-5414-4ad0-9f04-24fbe47adeaf",
     "prev": "570f5af4-5d7f-4829-83f6-077d607c382e",
     "regions": {
      "e8e33bbb-c033-4bba-a159-4e4bfcf8e106": {
       "attrs": {
        "height": 0.8,
        "width": 0.8,
        "x": 0.1,
        "y": 0.1
       },
       "content": {
        "cell": "813620a7-4628-4b85-a1b5-410cce58872f",
        "part": "whole"
       },
       "id": "e8e33bbb-c033-4bba-a159-4e4bfcf8e106"
      }
     }
    },
    "32757bcb-cb62-41a4-a0eb-5def0abd1f54": {
     "id": "32757bcb-cb62-41a4-a0eb-5def0abd1f54",
     "prev": "96bab5a8-4c58-40dd-be88-d698c64be929",
     "regions": {
      "ef7e0e3a-6d29-4cd9-a427-54a59b96255a": {
       "attrs": {
        "height": 0.8,
        "width": 0.8,
        "x": 0.1,
        "y": 0.1
       },
       "content": {
        "cell": "43c00fea-8baf-42bc-8093-a12528fd87ca",
        "part": "whole"
       },
       "id": "ef7e0e3a-6d29-4cd9-a427-54a59b96255a"
      }
     }
    },
    "3315b7c4-bd80-47d7-a5be-f7ec59e57117": {
     "id": "3315b7c4-bd80-47d7-a5be-f7ec59e57117",
     "prev": "a71adc2b-ca6f-4649-ae63-c196197eae97",
     "regions": {
      "8e59c58c-7e97-428a-9fa4-1a8a51b01aa8": {
       "attrs": {
        "height": 0.8,
        "width": 0.8,
        "x": 0.1,
        "y": 0.1
       },
       "content": {
        "cell": "39d2c9b9-fa61-4d52-a723-46682e32d34b",
        "part": "whole"
       },
       "id": "8e59c58c-7e97-428a-9fa4-1a8a51b01aa8"
      }
     }
    },
    "33e38349-b066-4e3e-b3ea-08bdb8d6d30b": {
     "id": "33e38349-b066-4e3e-b3ea-08bdb8d6d30b",
     "prev": "8206b0ab-7432-47e5-9300-f2456ef887f6",
     "regions": {
      "5913eaba-e8bb-4cca-bed2-0b0e16885a7f": {
       "attrs": {
        "height": 0.8,
        "width": 0.8,
        "x": 0.1,
        "y": 0.1
       },
       "content": {
        "cell": "9633af77-90ee-414d-ab24-7927c9fff236",
        "part": "whole"
       },
       "id": "5913eaba-e8bb-4cca-bed2-0b0e16885a7f"
      }
     }
    },
    "3a49f8b8-848c-4aa0-bee5-62b756728cd8": {
     "id": "3a49f8b8-848c-4aa0-bee5-62b756728cd8",
     "prev": "0dfeccd9-d30d-4833-887a-b271afb34212",
     "regions": {
      "2ba1a721-d94d-4522-92a5-f5845119233b": {
       "attrs": {
        "height": 0.8,
        "width": 0.8,
        "x": 0.1,
        "y": 0.1
       },
       "content": {
        "cell": "fa8d0312-ac72-4459-b121-5c1781d0ff4e",
        "part": "whole"
       },
       "id": "2ba1a721-d94d-4522-92a5-f5845119233b"
      }
     }
    },
    "3eec3f2d-afbc-4014-849a-4938b2cb7e24": {
     "id": "3eec3f2d-afbc-4014-849a-4938b2cb7e24",
     "prev": "a6a26e6e-c02b-4929-9dbf-6a99f5189648",
     "regions": {
      "ce6c2ec5-596f-48c1-979f-efef7e82c015": {
       "attrs": {
        "height": 0.8,
        "width": 0.8,
        "x": 0.1,
        "y": 0.1
       },
       "content": {
        "cell": "655c4f07-e00e-464a-b183-2c7302944d8a",
        "part": "whole"
       },
       "id": "ce6c2ec5-596f-48c1-979f-efef7e82c015"
      }
     }
    },
    "40aea6c8-7721-488f-b166-b6831866bce4": {
     "id": "40aea6c8-7721-488f-b166-b6831866bce4",
     "prev": "5b3aa06f-8672-4ac2-a0b3-7dec30d0bc23",
     "regions": {
      "aab3f39d-eaaf-4166-87b0-dee0c16312c9": {
       "attrs": {
        "height": 0.8,
        "width": 0.8,
        "x": 0.1,
        "y": 0.1
       },
       "content": {
        "cell": "7717cdd7-d09a-47d8-8145-36c225dc49a5",
        "part": "whole"
       },
       "id": "aab3f39d-eaaf-4166-87b0-dee0c16312c9"
      }
     }
    },
    "429d3518-f894-4e79-a2ac-9a4023329c28": {
     "id": "429d3518-f894-4e79-a2ac-9a4023329c28",
     "prev": "6c40c0a2-4c03-4c66-b876-1ada845ec527",
     "regions": {
      "4c20e8ee-376d-471f-bcaf-c3b5d048ca1a": {
       "attrs": {
        "height": 0.8,
        "width": 0.8,
        "x": 0.1,
        "y": 0.1
       },
       "content": {
        "cell": "f3fb012f-eae0-4e31-a72b-02015b5f716b",
        "part": "whole"
       },
       "id": "4c20e8ee-376d-471f-bcaf-c3b5d048ca1a"
      }
     }
    },
    "467d4642-d795-43a4-88b6-8fd68f3fc609": {
     "id": "467d4642-d795-43a4-88b6-8fd68f3fc609",
     "prev": "3273278d-5414-4ad0-9f04-24fbe47adeaf",
     "regions": {
      "dfa00e06-90f2-43ab-9ea6-1d16c036354d": {
       "attrs": {
        "height": 0.8,
        "width": 0.8,
        "x": 0.1,
        "y": 0.1
       },
       "content": {
        "cell": "0b8098f3-4e3b-4495-b5d0-6f89d80889e8",
        "part": "whole"
       },
       "id": "dfa00e06-90f2-43ab-9ea6-1d16c036354d"
      }
     }
    },
    "46adb90c-9f81-48cb-aa55-d812eb3935f7": {
     "id": "46adb90c-9f81-48cb-aa55-d812eb3935f7",
     "prev": "e4482ee4-b401-4434-827f-17f83ae9bac8",
     "regions": {
      "3df68a2b-1acf-4694-8995-80f41595ad35": {
       "attrs": {
        "height": 0.8,
        "width": 0.8,
        "x": 0.1,
        "y": 0.1
       },
       "content": {
        "cell": "4e691c4a-6e15-4a5d-8280-9e207a195508",
        "part": "whole"
       },
       "id": "3df68a2b-1acf-4694-8995-80f41595ad35"
      }
     }
    },
    "4a3d84d0-8b9b-42e8-afac-93c73167f295": {
     "id": "4a3d84d0-8b9b-42e8-afac-93c73167f295",
     "prev": "ebbebe6e-2e9c-400a-97e6-149c4ada8b14",
     "regions": {
      "ad33d385-38ad-4860-ae21-753b0fed30c2": {
       "attrs": {
        "height": 0.8,
        "width": 0.8,
        "x": 0.1,
        "y": 0.1
       },
       "content": {
        "cell": "43ab80ff-7fa0-4974-bdb9-8d71e290eba6",
        "part": "whole"
       },
       "id": "ad33d385-38ad-4860-ae21-753b0fed30c2"
      }
     }
    },
    "4cb14d24-d111-4311-baab-f673a71a141e": {
     "id": "4cb14d24-d111-4311-baab-f673a71a141e",
     "prev": "60aabe1b-9463-4804-bdb1-94861c57e953",
     "regions": {
      "cc62543a-0e49-4a22-92b7-b1be63066ca6": {
       "attrs": {
        "height": 0.8,
        "width": 0.8,
        "x": 0.1,
        "y": 0.1
       },
       "content": {
        "cell": "ac0c2bb8-bfb6-4fc2-a775-13583041863a",
        "part": "whole"
       },
       "id": "cc62543a-0e49-4a22-92b7-b1be63066ca6"
      }
     }
    },
    "5259f538-1b15-414c-94d1-51e997122cc8": {
     "id": "5259f538-1b15-414c-94d1-51e997122cc8",
     "prev": "879b83fb-0a00-4671-8450-dee0fa4b0391",
     "regions": {
      "de856647-75ce-43a0-b1c1-2f5cedfc91fd": {
       "attrs": {
        "height": 0.8,
        "width": 0.8,
        "x": 0.1,
        "y": 0.1
       },
       "content": {
        "cell": "5d87e62c-1de2-484b-a6cb-111449aefe94",
        "part": "whole"
       },
       "id": "de856647-75ce-43a0-b1c1-2f5cedfc91fd"
      }
     }
    },
    "5365d6a2-5fa0-416c-a098-eb35bb7a723e": {
     "id": "5365d6a2-5fa0-416c-a098-eb35bb7a723e",
     "prev": "c2c3e925-da08-4318-9f1e-e0b004f942e2",
     "regions": {
      "706ccc6c-5feb-4393-b21f-90127f8dc9b7": {
       "attrs": {
        "height": 0.8,
        "width": 0.8,
        "x": 0.1,
        "y": 0.1
       },
       "content": {
        "cell": "fd40182a-4c96-4edf-ae78-41128f40ccfc",
        "part": "whole"
       },
       "id": "706ccc6c-5feb-4393-b21f-90127f8dc9b7"
      }
     }
    },
    "543cc01c-c1ca-4825-a971-a0e431318189": {
     "id": "543cc01c-c1ca-4825-a971-a0e431318189",
     "prev": "46adb90c-9f81-48cb-aa55-d812eb3935f7",
     "regions": {
      "3f79dc96-5aea-48ae-85a9-cecd718da47b": {
       "attrs": {
        "height": 0.8,
        "width": 0.8,
        "x": 0.1,
        "y": 0.1
       },
       "content": {
        "cell": "d5c03920-c99a-4b76-84ba-d101d3cbaa10",
        "part": "whole"
       },
       "id": "3f79dc96-5aea-48ae-85a9-cecd718da47b"
      }
     }
    },
    "570f5af4-5d7f-4829-83f6-077d607c382e": {
     "id": "570f5af4-5d7f-4829-83f6-077d607c382e",
     "prev": "306ba3cd-34fa-49d4-9b84-6e00919e99cf",
     "regions": {
      "ef61fc81-4cff-4899-9554-b1d8d71b8176": {
       "attrs": {
        "height": 0.8,
        "width": 0.8,
        "x": 0.1,
        "y": 0.1
       },
       "content": {
        "cell": "d678fe46-1a92-4b2a-aa2c-57c45d2958cd",
        "part": "whole"
       },
       "id": "ef61fc81-4cff-4899-9554-b1d8d71b8176"
      }
     }
    },
    "5ae59f04-e2a2-4f7e-961f-5c2823121a91": {
     "id": "5ae59f04-e2a2-4f7e-961f-5c2823121a91",
     "prev": "bef25bf7-d4fe-4a68-a266-4656af00888a",
     "regions": {
      "230415c2-d295-4769-9516-0f8e34d97e09": {
       "attrs": {
        "height": 0.8,
        "width": 0.8,
        "x": 0.1,
        "y": 0.1
       },
       "content": {
        "cell": "6ac64dc7-42a5-44c0-82ed-bd8512db86f7",
        "part": "whole"
       },
       "id": "230415c2-d295-4769-9516-0f8e34d97e09"
      }
     }
    },
    "5b3aa06f-8672-4ac2-a0b3-7dec30d0bc23": {
     "id": "5b3aa06f-8672-4ac2-a0b3-7dec30d0bc23",
     "prev": "7e1f527e-7c03-4f34-81c2-918dcee2daf7",
     "regions": {
      "296d40d3-1dbf-4113-911f-f618b6236342": {
       "attrs": {
        "height": 0.8,
        "width": 0.8,
        "x": 0.1,
        "y": 0.1
       },
       "content": {
        "cell": "02b79660-0738-4b61-a330-ae233ef28c32",
        "part": "whole"
       },
       "id": "296d40d3-1dbf-4113-911f-f618b6236342"
      }
     }
    },
    "5eb9c57e-c07a-4980-a013-c03ebdfbbbaf": {
     "id": "5eb9c57e-c07a-4980-a013-c03ebdfbbbaf",
     "prev": "1dc7395e-6051-4029-af05-faf5c276472e",
     "regions": {
      "53021ee9-7fde-4a97-80ea-0aafacd6a827": {
       "attrs": {
        "height": 0.8,
        "width": 0.8,
        "x": 0.1,
        "y": 0.1
       },
       "content": {
        "cell": "7e275043-d391-47e2-8d35-1ebac83965e3",
        "part": "whole"
       },
       "id": "53021ee9-7fde-4a97-80ea-0aafacd6a827"
      }
     }
    },
    "60a62407-48a6-4277-8455-c30a665f369e": {
     "id": "60a62407-48a6-4277-8455-c30a665f369e",
     "prev": "0d4ee1d3-b954-4582-b569-280ca8c327d4",
     "regions": {
      "8f9f3cbb-e317-4767-b67e-fa4288ce665c": {
       "attrs": {
        "height": 0.8,
        "width": 0.8,
        "x": 0.1,
        "y": 0.1
       },
       "content": {
        "cell": "72325407-0626-4ce8-9e7d-b3abcb8abf06",
        "part": "whole"
       },
       "id": "8f9f3cbb-e317-4767-b67e-fa4288ce665c"
      }
     }
    },
    "60aabe1b-9463-4804-bdb1-94861c57e953": {
     "id": "60aabe1b-9463-4804-bdb1-94861c57e953",
     "prev": "63d9df69-e2eb-4f96-99d6-aad92cb81a74",
     "regions": {
      "8e46e2e0-b899-4430-8786-da3dc08bd713": {
       "attrs": {
        "height": 0.8,
        "width": 0.8,
        "x": 0.1,
        "y": 0.1
       },
       "content": {
        "cell": "b8d181da-4782-457c-a307-010c8863fdc2",
        "part": "whole"
       },
       "id": "8e46e2e0-b899-4430-8786-da3dc08bd713"
      }
     }
    },
    "63d9df69-e2eb-4f96-99d6-aad92cb81a74": {
     "id": "63d9df69-e2eb-4f96-99d6-aad92cb81a74",
     "prev": "5ae59f04-e2a2-4f7e-961f-5c2823121a91",
     "regions": {
      "d9ff9922-2d0d-44dc-bd3e-a4b14ac456a0": {
       "attrs": {
        "height": 0.8,
        "width": 0.8,
        "x": 0.1,
        "y": 0.1
       },
       "content": {
        "cell": "3a5f7839-0518-4da0-997c-995e8296f7b3",
        "part": "whole"
       },
       "id": "d9ff9922-2d0d-44dc-bd3e-a4b14ac456a0"
      }
     }
    },
    "64f2a1bf-bce4-4831-ac5d-ce88df0d50bf": {
     "id": "64f2a1bf-bce4-4831-ac5d-ce88df0d50bf",
     "prev": "d57be7c5-c063-41dd-8a32-9ea5c9db1567",
     "regions": {
      "62944da7-a0b1-4c74-8240-e176806d42d5": {
       "attrs": {
        "height": 0.8,
        "width": 0.8,
        "x": 0.1,
        "y": 0.1
       },
       "content": {
        "cell": "50595b80-9bda-4020-86d3-942276aef463",
        "part": "whole"
       },
       "id": "62944da7-a0b1-4c74-8240-e176806d42d5"
      }
     }
    },
    "672cd35e-64b9-420c-801e-ef8da43313b6": {
     "id": "672cd35e-64b9-420c-801e-ef8da43313b6",
     "prev": "a2360c20-2cdf-4a11-950d-4bd6e7cc8008",
     "regions": {
      "42b71d33-3041-48f5-9dc1-95f2c081d62b": {
       "attrs": {
        "height": 0.8,
        "width": 0.8,
        "x": 0.1,
        "y": 0.1
       },
       "content": {
        "cell": "358f4b17-1418-4e7a-af57-d0270c0e686a",
        "part": "whole"
       },
       "id": "42b71d33-3041-48f5-9dc1-95f2c081d62b"
      }
     }
    },
    "68c0b557-7df5-4c67-8dad-e80ac24beda4": {
     "id": "68c0b557-7df5-4c67-8dad-e80ac24beda4",
     "prev": "82376704-2009-4621-a881-907cf44566ee",
     "regions": {
      "d625607a-0106-46da-80fa-c630804a9b70": {
       "attrs": {
        "height": 0.8,
        "width": 0.8,
        "x": 0.1,
        "y": 0.1
       },
       "content": {
        "cell": "ac2fd566-a57c-44ba-be76-260772000384",
        "part": "whole"
       },
       "id": "d625607a-0106-46da-80fa-c630804a9b70"
      }
     }
    },
    "69466917-f8bf-4d37-b422-fa2a90f0d2a7": {
     "id": "69466917-f8bf-4d37-b422-fa2a90f0d2a7",
     "prev": "155f9d29-1a89-404c-9995-506fc7c9aec0",
     "regions": {
      "fd55122c-6d72-4bbd-b84c-da6b7934a614": {
       "attrs": {
        "height": 0.8,
        "width": 0.8,
        "x": 0.1,
        "y": 0.1
       },
       "content": {
        "cell": "10a0ccd5-6ce9-4be6-ad1a-0fc434457afa",
        "part": "whole"
       },
       "id": "fd55122c-6d72-4bbd-b84c-da6b7934a614"
      }
     }
    },
    "69619bb0-e845-481f-9d21-d760b3077e2b": {
     "id": "69619bb0-e845-481f-9d21-d760b3077e2b",
     "prev": "a6cab3e5-c334-469b-bf4a-303195afa97e",
     "regions": {
      "b68df461-2497-4032-bf3b-733f6a962e48": {
       "attrs": {
        "height": 0.8,
        "width": 0.8,
        "x": 0.1,
        "y": 0.1
       },
       "content": {
        "cell": "e8d6a81a-33af-496a-b142-0045371d379f",
        "part": "whole"
       },
       "id": "b68df461-2497-4032-bf3b-733f6a962e48"
      }
     }
    },
    "6a0b949d-f21d-4a05-a651-50c157040648": {
     "id": "6a0b949d-f21d-4a05-a651-50c157040648",
     "prev": "248f67c5-67ff-4391-b427-4af02f2fe498",
     "regions": {
      "1626885f-2ebe-488a-a554-f13f191aea16": {
       "attrs": {
        "height": 0.8,
        "width": 0.8,
        "x": 0.1,
        "y": 0.1
       },
       "content": {
        "cell": "a1aae705-9fde-4797-8add-3f9d3016853c",
        "part": "whole"
       },
       "id": "1626885f-2ebe-488a-a554-f13f191aea16"
      }
     }
    },
    "6bb7c921-6050-4f27-87c2-40f47f3bd9ed": {
     "id": "6bb7c921-6050-4f27-87c2-40f47f3bd9ed",
     "prev": "c29aa4e4-544e-453a-b924-c747ecf736c7",
     "regions": {
      "65938dea-3bbd-4c0c-add3-467d267e7826": {
       "attrs": {
        "height": 0.8,
        "width": 0.8,
        "x": 0.1,
        "y": 0.1
       },
       "content": {
        "cell": "90481e48-c238-4c00-8b65-0713611ecc0b",
        "part": "whole"
       },
       "id": "65938dea-3bbd-4c0c-add3-467d267e7826"
      }
     }
    },
    "6c40c0a2-4c03-4c66-b876-1ada845ec527": {
     "id": "6c40c0a2-4c03-4c66-b876-1ada845ec527",
     "prev": "b227b9f7-bc40-4ae9-8bfd-a8317aa680e9",
     "regions": {
      "1adb6379-2215-4f46-a5c0-df4687d61515": {
       "attrs": {
        "height": 0.8,
        "width": 0.8,
        "x": 0.1,
        "y": 0.1
       },
       "content": {
        "cell": "3c0119d0-4313-46c0-9291-ab5d88dd232c",
        "part": "whole"
       },
       "id": "1adb6379-2215-4f46-a5c0-df4687d61515"
      }
     }
    },
    "731cb780-fca5-4edd-9153-6ec8140fd99a": {
     "id": "731cb780-fca5-4edd-9153-6ec8140fd99a",
     "prev": "6bb7c921-6050-4f27-87c2-40f47f3bd9ed",
     "regions": {
      "4463f888-4724-4a1c-ab43-06056531f316": {
       "attrs": {
        "height": 0.8,
        "width": 0.8,
        "x": 0.1,
        "y": 0.1
       },
       "content": {
        "cell": "5b807702-364d-4464-a17e-b2edc4c1da42",
        "part": "whole"
       },
       "id": "4463f888-4724-4a1c-ab43-06056531f316"
      }
     }
    },
    "78208e42-0896-4858-95a9-0d0e6d289a47": {
     "id": "78208e42-0896-4858-95a9-0d0e6d289a47",
     "prev": "c1d4a1e0-40bb-4481-b5c0-c9e3b77cade3",
     "regions": {
      "60b171f9-9829-4a5c-97df-47660eaa8e39": {
       "attrs": {
        "height": 0.8,
        "width": 0.8,
        "x": 0.1,
        "y": 0.1
       },
       "content": {
        "cell": "b39582c6-c3a7-4af4-8655-9dc53144396a",
        "part": "whole"
       },
       "id": "60b171f9-9829-4a5c-97df-47660eaa8e39"
      }
     }
    },
    "7b81e88a-1202-4623-b2ef-04d30b054ad5": {
     "id": "7b81e88a-1202-4623-b2ef-04d30b054ad5",
     "prev": "33e38349-b066-4e3e-b3ea-08bdb8d6d30b",
     "regions": {
      "0fb365a4-f93d-4ade-a1ac-5a4b0f623528": {
       "attrs": {
        "height": 0.8,
        "width": 0.8,
        "x": 0.1,
        "y": 0.1
       },
       "content": {
        "cell": "ceadb507-0b36-4c19-aed3-811748289ca3",
        "part": "whole"
       },
       "id": "0fb365a4-f93d-4ade-a1ac-5a4b0f623528"
      }
     }
    },
    "7e1f527e-7c03-4f34-81c2-918dcee2daf7": {
     "id": "7e1f527e-7c03-4f34-81c2-918dcee2daf7",
     "prev": "0ebbe2e4-926b-471a-864c-06119a921f9c",
     "regions": {
      "230abf18-ff96-45fc-92a4-0c4c9718d6f8": {
       "attrs": {
        "height": 0.8,
        "width": 0.8,
        "x": 0.1,
        "y": 0.1
       },
       "content": {
        "cell": "b612ac29-30e2-4e57-b3cc-3c6b87071dbd",
        "part": "whole"
       },
       "id": "230abf18-ff96-45fc-92a4-0c4c9718d6f8"
      }
     }
    },
    "8206b0ab-7432-47e5-9300-f2456ef887f6": {
     "id": "8206b0ab-7432-47e5-9300-f2456ef887f6",
     "prev": "d7f280b5-6076-4bb6-affb-fbccdb84303d",
     "regions": {
      "41386227-aba2-4e33-ac81-13eefa54df2a": {
       "attrs": {
        "height": 0.8,
        "width": 0.8,
        "x": 0.1,
        "y": 0.1
       },
       "content": {
        "cell": "687248db-30f2-40bc-905d-2963bb53fd0a",
        "part": "whole"
       },
       "id": "41386227-aba2-4e33-ac81-13eefa54df2a"
      }
     }
    },
    "82376704-2009-4621-a881-907cf44566ee": {
     "id": "82376704-2009-4621-a881-907cf44566ee",
     "prev": "f860c00b-e69d-43f5-b01e-bf5f602c81b5",
     "regions": {
      "41636ca4-33e8-4902-9053-c554502cc5c9": {
       "attrs": {
        "height": 0.8,
        "width": 0.8,
        "x": 0.1,
        "y": 0.1
       },
       "content": {
        "cell": "5cc031a1-c06d-49df-8a1a-68ee126b76f1",
        "part": "whole"
       },
       "id": "41636ca4-33e8-4902-9053-c554502cc5c9"
      }
     }
    },
    "8509bac4-32fc-4d07-93b1-9d1faba6640e": {
     "id": "8509bac4-32fc-4d07-93b1-9d1faba6640e",
     "prev": "922c0ab5-caea-4727-bf06-cb56bcb42971",
     "regions": {
      "d1db7d8a-e25f-472b-b033-fe585411a775": {
       "attrs": {
        "height": 0.8,
        "width": 0.8,
        "x": 0.1,
        "y": 0.1
       },
       "content": {
        "cell": "f2b6f976-7795-45fd-a0ab-c806da9decbd",
        "part": "whole"
       },
       "id": "d1db7d8a-e25f-472b-b033-fe585411a775"
      }
     }
    },
    "866923b5-f245-4f58-906d-7b690f4822d8": {
     "id": "866923b5-f245-4f58-906d-7b690f4822d8",
     "prev": "1a104600-6121-4f63-93f7-318eb1e31635",
     "regions": {
      "c3646df7-c8c4-4857-80dd-e301b5aafb97": {
       "attrs": {
        "height": 0.8,
        "width": 0.8,
        "x": 0.1,
        "y": 0.1
       },
       "content": {
        "cell": "5d14846f-d5c9-421c-a3d0-6a15a049d57f",
        "part": "whole"
       },
       "id": "c3646df7-c8c4-4857-80dd-e301b5aafb97"
      }
     }
    },
    "870d6af6-96c7-4a07-a78c-4e86f6247011": {
     "id": "870d6af6-96c7-4a07-a78c-4e86f6247011",
     "prev": "0a8a7de4-5206-4f96-81ce-60529e38b7fc",
     "regions": {
      "7e6c9c66-c9d2-4f75-95b4-698e27b51930": {
       "attrs": {
        "height": 0.8,
        "width": 0.8,
        "x": 0.1,
        "y": 0.1
       },
       "content": {
        "cell": "fa239863-03c1-4a82-b8be-c1c5ec6152a8",
        "part": "whole"
       },
       "id": "7e6c9c66-c9d2-4f75-95b4-698e27b51930"
      }
     }
    },
    "8780679b-7ea8-4240-9f77-93291fdc8da8": {
     "id": "8780679b-7ea8-4240-9f77-93291fdc8da8",
     "prev": "672cd35e-64b9-420c-801e-ef8da43313b6",
     "regions": {
      "1167b257-3a16-470c-a049-8a1e86cd52be": {
       "attrs": {
        "height": 0.8,
        "width": 0.8,
        "x": 0.1,
        "y": 0.1
       },
       "content": {
        "cell": "16873526-997e-4ccb-8749-26b139fc913a",
        "part": "whole"
       },
       "id": "1167b257-3a16-470c-a049-8a1e86cd52be"
      }
     }
    },
    "879b83fb-0a00-4671-8450-dee0fa4b0391": {
     "id": "879b83fb-0a00-4671-8450-dee0fa4b0391",
     "prev": "bb3aaea0-920c-4451-b2af-91307bfbd52a",
     "regions": {
      "73545340-b22c-40fd-a608-d94756f8ab8d": {
       "attrs": {
        "height": 0.8,
        "width": 0.8,
        "x": 0.1,
        "y": 0.1
       },
       "content": {
        "cell": "7ae8b51c-ad83-4d5a-bf6d-a85a51f0d6c6",
        "part": "whole"
       },
       "id": "73545340-b22c-40fd-a608-d94756f8ab8d"
      }
     }
    },
    "895a8983-ce96-43c7-98fd-c2ea740c2d7d": {
     "id": "895a8983-ce96-43c7-98fd-c2ea740c2d7d",
     "prev": "a71ccb70-ddb9-422e-88a5-19adb6d2cd64",
     "regions": {
      "4ef68107-5829-4099-a444-ce0aef98e4e4": {
       "attrs": {
        "height": 0.8,
        "width": 0.8,
        "x": 0.1,
        "y": 0.1
       },
       "content": {
        "cell": "891d6687-6db8-428e-8751-8d83f8a440ea",
        "part": "whole"
       },
       "id": "4ef68107-5829-4099-a444-ce0aef98e4e4"
      }
     }
    },
    "8ac2535b-3436-43ff-857a-a98b1ddaf866": {
     "id": "8ac2535b-3436-43ff-857a-a98b1ddaf866",
     "prev": "02665b11-39a1-4d1d-8853-438fa118d80b",
     "regions": {
      "a2826cde-a9bd-4a4c-90da-9bc7cd426807": {
       "attrs": {
        "height": 0.8,
        "width": 0.8,
        "x": 0.1,
        "y": 0.1
       },
       "content": {
        "cell": "6ebde135-e189-49c1-b38d-831996dd3970",
        "part": "whole"
       },
       "id": "a2826cde-a9bd-4a4c-90da-9bc7cd426807"
      }
     }
    },
    "922c0ab5-caea-4727-bf06-cb56bcb42971": {
     "id": "922c0ab5-caea-4727-bf06-cb56bcb42971",
     "prev": "bb4a930e-46c8-4027-a70a-031e99ad9744",
     "regions": {
      "8ff20f89-b0ba-4e19-b8e2-0ff71c000963": {
       "attrs": {
        "height": 0.8,
        "width": 0.8,
        "x": 0.1,
        "y": 0.1
       },
       "content": {
        "cell": "ed8a2137-9506-4132-a0d9-b3d9c6406bfa",
        "part": "whole"
       },
       "id": "8ff20f89-b0ba-4e19-b8e2-0ff71c000963"
      }
     }
    },
    "937c8b9b-b506-4bfe-8c8b-a1a93463dfda": {
     "id": "937c8b9b-b506-4bfe-8c8b-a1a93463dfda",
     "prev": "8ac2535b-3436-43ff-857a-a98b1ddaf866",
     "regions": {
      "6a095860-da07-490e-ba5a-80de7ebc3bb7": {
       "attrs": {
        "height": 0.8,
        "width": 0.8,
        "x": 0.1,
        "y": 0.1
       },
       "content": {
        "cell": "36c77e6e-0907-4380-90db-cf92172af25b",
        "part": "whole"
       },
       "id": "6a095860-da07-490e-ba5a-80de7ebc3bb7"
      }
     }
    },
    "952cbc7d-6fa7-4d87-be9f-88cd3a35d78f": {
     "id": "952cbc7d-6fa7-4d87-be9f-88cd3a35d78f",
     "prev": "294ecd0c-2cd1-4af0-9fb4-89ccf886af5d",
     "regions": {
      "d96d2c00-0c2f-4b0c-809b-451069f6d610": {
       "attrs": {
        "height": 0.8,
        "width": 0.8,
        "x": 0.1,
        "y": 0.1
       },
       "content": {
        "cell": "99c564ff-6fc5-445b-8873-2dd8683759fc",
        "part": "whole"
       },
       "id": "d96d2c00-0c2f-4b0c-809b-451069f6d610"
      }
     }
    },
    "9553a2c2-b6e2-424f-b229-15effe57c6f4": {
     "id": "9553a2c2-b6e2-424f-b229-15effe57c6f4",
     "prev": "ee1b8fa5-5708-4d8b-9be0-9a3888f09d4e",
     "regions": {
      "98154ff8-fed8-4e1b-9dcc-3b5d84d26034": {
       "attrs": {
        "height": 0.8,
        "width": 0.8,
        "x": 0.1,
        "y": 0.1
       },
       "content": {
        "cell": "5c3e6d72-fc93-45ad-9e54-635c1554992b",
        "part": "whole"
       },
       "id": "98154ff8-fed8-4e1b-9dcc-3b5d84d26034"
      }
     }
    },
    "95e9be5c-f537-4641-9281-fb133c570446": {
     "id": "95e9be5c-f537-4641-9281-fb133c570446",
     "prev": "d00d6344-d733-4c13-896d-cd43f963fe1a",
     "regions": {
      "7a139c5c-a3a3-4da3-877d-d70405f01e85": {
       "attrs": {
        "height": 0.8,
        "width": 0.8,
        "x": 0.1,
        "y": 0.1
       },
       "content": {
        "cell": "d7937375-4d2f-427e-937b-50aaaf08e036",
        "part": "whole"
       },
       "id": "7a139c5c-a3a3-4da3-877d-d70405f01e85"
      }
     }
    },
    "96bab5a8-4c58-40dd-be88-d698c64be929": {
     "id": "96bab5a8-4c58-40dd-be88-d698c64be929",
     "prev": "866923b5-f245-4f58-906d-7b690f4822d8",
     "regions": {
      "98e31081-1a1e-448e-9a99-65a6aa1b296d": {
       "attrs": {
        "height": 0.8,
        "width": 0.8,
        "x": 0.1,
        "y": 0.1
       },
       "content": {
        "cell": "b66046e7-4780-435a-979b-8a838c8b1d1b",
        "part": "whole"
       },
       "id": "98e31081-1a1e-448e-9a99-65a6aa1b296d"
      }
     }
    },
    "9825fafd-199b-4fcd-be73-2fdabbb8e56d": {
     "id": "9825fafd-199b-4fcd-be73-2fdabbb8e56d",
     "prev": "8509bac4-32fc-4d07-93b1-9d1faba6640e",
     "regions": {
      "b3219324-7855-4b9e-8b3a-509648cfaa34": {
       "attrs": {
        "height": 0.8,
        "width": 0.8,
        "x": 0.1,
        "y": 0.1
       },
       "content": {
        "cell": "7bce7f28-9e81-420c-960b-301bbef720a8",
        "part": "whole"
       },
       "id": "b3219324-7855-4b9e-8b3a-509648cfaa34"
      }
     }
    },
    "9df94dcd-fa3d-4da7-85ba-1e289f79a878": {
     "id": "9df94dcd-fa3d-4da7-85ba-1e289f79a878",
     "prev": "0458b641-e266-44ad-981c-f25060f08155",
     "regions": {
      "167332c9-1719-48b1-9403-b3ee3ceacc8d": {
       "attrs": {
        "height": 0.8,
        "width": 0.8,
        "x": 0.1,
        "y": 0.1
       },
       "content": {
        "cell": "03c19111-c9c7-412d-9c02-3df9c0fde635",
        "part": "whole"
       },
       "id": "167332c9-1719-48b1-9403-b3ee3ceacc8d"
      }
     }
    },
    "a2360c20-2cdf-4a11-950d-4bd6e7cc8008": {
     "id": "a2360c20-2cdf-4a11-950d-4bd6e7cc8008",
     "prev": "895a8983-ce96-43c7-98fd-c2ea740c2d7d",
     "regions": {
      "b5f50f91-d48b-4a89-a099-e879c6c97b88": {
       "attrs": {
        "height": 0.8,
        "width": 0.8,
        "x": 0.1,
        "y": 0.1
       },
       "content": {
        "cell": "054ab6a0-0921-4f3d-9b03-7a2bba8a9acc",
        "part": "whole"
       },
       "id": "b5f50f91-d48b-4a89-a099-e879c6c97b88"
      }
     }
    },
    "a58cd781-502e-4f56-a372-054cc8bf4d61": {
     "id": "a58cd781-502e-4f56-a372-054cc8bf4d61",
     "prev": "467d4642-d795-43a4-88b6-8fd68f3fc609",
     "regions": {
      "6088ea7b-b65e-4765-911f-b6770bbdf543": {
       "attrs": {
        "height": 0.8,
        "width": 0.8,
        "x": 0.1,
        "y": 0.1
       },
       "content": {
        "cell": "4c084f85-459c-4b01-857e-d144cc98ace2",
        "part": "whole"
       },
       "id": "6088ea7b-b65e-4765-911f-b6770bbdf543"
      }
     }
    },
    "a5d74c17-5cf9-4e13-b631-9e21682813f8": {
     "id": "a5d74c17-5cf9-4e13-b631-9e21682813f8",
     "prev": "7b81e88a-1202-4623-b2ef-04d30b054ad5",
     "regions": {
      "930d4b96-1b6f-4756-8065-4950fd939d34": {
       "attrs": {
        "height": 0.8,
        "width": 0.8,
        "x": 0.1,
        "y": 0.1
       },
       "content": {
        "cell": "e371ccf4-d296-42a6-bb9b-89e9c9cb9e34",
        "part": "whole"
       },
       "id": "930d4b96-1b6f-4756-8065-4950fd939d34"
      }
     }
    },
    "a5e3a032-ab17-4a2e-b046-28337652bbc2": {
     "id": "a5e3a032-ab17-4a2e-b046-28337652bbc2",
     "prev": "95e9be5c-f537-4641-9281-fb133c570446",
     "regions": {
      "ebe68d96-2880-44ba-bb3e-fcf96aa2f4e1": {
       "attrs": {
        "height": 0.8,
        "width": 0.8,
        "x": 0.1,
        "y": 0.1
       },
       "content": {
        "cell": "5221da9d-0795-4ec3-9aca-1fbc8046bd55",
        "part": "whole"
       },
       "id": "ebe68d96-2880-44ba-bb3e-fcf96aa2f4e1"
      }
     }
    },
    "a5f43980-43e1-4e60-9812-8760cb7b99e9": {
     "id": "a5f43980-43e1-4e60-9812-8760cb7b99e9",
     "prev": "23f56be6-4144-4cf1-8a83-2b3e3d50034b",
     "regions": {
      "aa2fa589-5707-4753-a0e2-9003cb6f9828": {
       "attrs": {
        "height": 0.8,
        "width": 0.8,
        "x": 0.1,
        "y": 0.1
       },
       "content": {
        "cell": "d17ff504-9779-442a-83df-b824f904756b",
        "part": "whole"
       },
       "id": "aa2fa589-5707-4753-a0e2-9003cb6f9828"
      }
     }
    },
    "a6a26e6e-c02b-4929-9dbf-6a99f5189648": {
     "id": "a6a26e6e-c02b-4929-9dbf-6a99f5189648",
     "prev": "b7123539-8964-4a30-a1e0-364ee8826208",
     "regions": {
      "1df7db70-5d4c-41df-9a22-6164f5948875": {
       "attrs": {
        "height": 0.8,
        "width": 0.8,
        "x": 0.1,
        "y": 0.1
       },
       "content": {
        "cell": "24087ce4-b366-47ba-9c8d-e9d8135a61a6",
        "part": "whole"
       },
       "id": "1df7db70-5d4c-41df-9a22-6164f5948875"
      }
     }
    },
    "a6cab3e5-c334-469b-bf4a-303195afa97e": {
     "id": "a6cab3e5-c334-469b-bf4a-303195afa97e",
     "prev": "e2dd561f-d967-4fe6-92b2-f5d9b226ca30",
     "regions": {
      "fbc136ea-20ff-4934-af0a-24d159c8a755": {
       "attrs": {
        "height": 0.8,
        "width": 0.8,
        "x": 0.1,
        "y": 0.1
       },
       "content": {
        "cell": "f634b684-d9c4-4590-ba7c-970ed43ff4fe",
        "part": "whole"
       },
       "id": "fbc136ea-20ff-4934-af0a-24d159c8a755"
      }
     }
    },
    "a71adc2b-ca6f-4649-ae63-c196197eae97": {
     "id": "a71adc2b-ca6f-4649-ae63-c196197eae97",
     "prev": "937c8b9b-b506-4bfe-8c8b-a1a93463dfda",
     "regions": {
      "10994d37-ce96-4ccf-867d-8ad880353a63": {
       "attrs": {
        "height": 0.8,
        "width": 0.8,
        "x": 0.1,
        "y": 0.1
       },
       "content": {
        "cell": "3f1f8257-e9d5-4b15-8202-604c0bc56f34",
        "part": "whole"
       },
       "id": "10994d37-ce96-4ccf-867d-8ad880353a63"
      }
     }
    },
    "a71ccb70-ddb9-422e-88a5-19adb6d2cd64": {
     "id": "a71ccb70-ddb9-422e-88a5-19adb6d2cd64",
     "prev": "3004486e-75e5-45c4-be92-02dd730a77c2",
     "regions": {
      "8215c3d2-b0f2-4bca-981e-f1f01e9284e9": {
       "attrs": {
        "height": 0.8,
        "width": 0.8,
        "x": 0.1,
        "y": 0.1
       },
       "content": {
        "cell": "e0b9042f-eaa6-4ff2-b751-86894f0409a1",
        "part": "whole"
       },
       "id": "8215c3d2-b0f2-4bca-981e-f1f01e9284e9"
      }
     }
    },
    "ad9869d5-04ba-4006-b7cf-767b396b3e8a": {
     "id": "ad9869d5-04ba-4006-b7cf-767b396b3e8a",
     "prev": "c5b318da-c162-4b21-9c98-f384fd5086c4",
     "regions": {
      "4fcaba98-32cf-489a-9c42-9c8ff909a024": {
       "attrs": {
        "height": 0.8,
        "width": 0.8,
        "x": 0.1,
        "y": 0.1
       },
       "content": {
        "cell": "06ef8b23-8ce2-43ae-968e-219d03b25a73",
        "part": "whole"
       },
       "id": "4fcaba98-32cf-489a-9c42-9c8ff909a024"
      }
     }
    },
    "b227b9f7-bc40-4ae9-8bfd-a8317aa680e9": {
     "id": "b227b9f7-bc40-4ae9-8bfd-a8317aa680e9",
     "prev": "c620c9f7-0ea2-484f-9722-661775f0a372",
     "regions": {
      "f51a6526-0f0d-4514-a390-e5d6e35a3663": {
       "attrs": {
        "height": 0.8,
        "width": 0.8,
        "x": 0.1,
        "y": 0.1
       },
       "content": {
        "cell": "eaea7346-ac12-4e01-ba8d-5da64b3bd134",
        "part": "whole"
       },
       "id": "f51a6526-0f0d-4514-a390-e5d6e35a3663"
      }
     }
    },
    "b353780f-4e2f-405f-bd93-27708179cbb9": {
     "id": "b353780f-4e2f-405f-bd93-27708179cbb9",
     "prev": "c9b2a303-30db-4235-ad7e-5dddb9f69ec4",
     "regions": {
      "335a4f1d-a933-4997-925e-e1ee38a89d18": {
       "attrs": {
        "height": 0.8,
        "width": 0.8,
        "x": 0.1,
        "y": 0.1
       },
       "content": {
        "cell": "9ee3c904-e596-4fd8-8a57-6b3e7327b657",
        "part": "whole"
       },
       "id": "335a4f1d-a933-4997-925e-e1ee38a89d18"
      }
     }
    },
    "b7123539-8964-4a30-a1e0-364ee8826208": {
     "id": "b7123539-8964-4a30-a1e0-364ee8826208",
     "prev": "870d6af6-96c7-4a07-a78c-4e86f6247011",
     "regions": {
      "51c5e3bb-125f-4102-93eb-af72d38cd55a": {
       "attrs": {
        "height": 0.8,
        "width": 0.8,
        "x": 0.1,
        "y": 0.1
       },
       "content": {
        "cell": "490d6a7c-7421-4311-87c3-5048e265775b",
        "part": "whole"
       },
       "id": "51c5e3bb-125f-4102-93eb-af72d38cd55a"
      }
     }
    },
    "bb3aaea0-920c-4451-b2af-91307bfbd52a": {
     "id": "bb3aaea0-920c-4451-b2af-91307bfbd52a",
     "prev": "d5a8b7a1-a31f-4f39-9473-2ff86d9ab45b",
     "regions": {
      "08597046-626f-49b0-bf53-9bb721ee9c0a": {
       "attrs": {
        "height": 0.8,
        "width": 0.8,
        "x": 0.1,
        "y": 0.1
       },
       "content": {
        "cell": "0dab0b2a-5852-410f-b541-f75107750090",
        "part": "whole"
       },
       "id": "08597046-626f-49b0-bf53-9bb721ee9c0a"
      }
     }
    },
    "bb4a930e-46c8-4027-a70a-031e99ad9744": {
     "id": "bb4a930e-46c8-4027-a70a-031e99ad9744",
     "prev": "e8a72305-912e-449c-b7cf-018b01bb8acf",
     "regions": {
      "dcace8b2-3c4d-4f48-80f7-b0e2dba93241": {
       "attrs": {
        "height": 0.8,
        "width": 0.8,
        "x": 0.1,
        "y": 0.1
       },
       "content": {
        "cell": "b82cea81-c854-4a06-81f3-f3c5b09ae31a",
        "part": "whole"
       },
       "id": "dcace8b2-3c4d-4f48-80f7-b0e2dba93241"
      }
     }
    },
    "bca6d3a8-d62e-4ecd-a0a0-3e04dcbc71c5": {
     "id": "bca6d3a8-d62e-4ecd-a0a0-3e04dcbc71c5",
     "prev": "00e95255-11d9-4ef0-8cb4-a5b3079edd76",
     "regions": {
      "792b8033-b6aa-470b-a1f6-2f7ce182ed79": {
       "attrs": {
        "height": 0.8,
        "width": 0.8,
        "x": 0.1,
        "y": 0.1
       },
       "content": {
        "cell": "fc0cfe68-baad-407a-bc1e-d144d74da4a8",
        "part": "whole"
       },
       "id": "792b8033-b6aa-470b-a1f6-2f7ce182ed79"
      }
     }
    },
    "bee31ed9-2a4f-4308-bb3f-cfff64c414a9": {
     "id": "bee31ed9-2a4f-4308-bb3f-cfff64c414a9",
     "prev": "a5d74c17-5cf9-4e13-b631-9e21682813f8",
     "regions": {
      "6d70758e-e4ba-420e-bfec-49c23dca03c0": {
       "attrs": {
        "height": 0.8,
        "width": 0.8,
        "x": 0.1,
        "y": 0.1
       },
       "content": {
        "cell": "cd46a610-732d-4a31-8850-3a446214ef64",
        "part": "whole"
       },
       "id": "6d70758e-e4ba-420e-bfec-49c23dca03c0"
      }
     }
    },
    "bef25bf7-d4fe-4a68-a266-4656af00888a": {
     "id": "bef25bf7-d4fe-4a68-a266-4656af00888a",
     "prev": "64f2a1bf-bce4-4831-ac5d-ce88df0d50bf",
     "regions": {
      "880d107f-d3b5-433e-ad71-d4b9eb5585fd": {
       "attrs": {
        "height": 0.8,
        "width": 0.8,
        "x": 0.1,
        "y": 0.1
       },
       "content": {
        "cell": "0a2e6693-dba9-46f7-b7dc-5f9b018e517c",
        "part": "whole"
       },
       "id": "880d107f-d3b5-433e-ad71-d4b9eb5585fd"
      }
     }
    },
    "bfaea8b8-f36d-43fa-863a-a84c5a7cf9d1": {
     "id": "bfaea8b8-f36d-43fa-863a-a84c5a7cf9d1",
     "prev": "69466917-f8bf-4d37-b422-fa2a90f0d2a7",
     "regions": {
      "9ec2c129-7dfc-4c32-84e3-626a60714210": {
       "attrs": {
        "height": 0.8,
        "width": 0.8,
        "x": 0.1,
        "y": 0.1
       },
       "content": {
        "cell": "e656554d-5d33-419d-abc5-0f55fc28db99",
        "part": "whole"
       },
       "id": "9ec2c129-7dfc-4c32-84e3-626a60714210"
      }
     }
    },
    "bfc0f7a1-43ca-4539-ac23-dce04311b3ef": {
     "id": "bfc0f7a1-43ca-4539-ac23-dce04311b3ef",
     "prev": "bfaea8b8-f36d-43fa-863a-a84c5a7cf9d1",
     "regions": {
      "874624b4-1fad-4365-b0de-9f45d55e4a75": {
       "attrs": {
        "height": 0.8,
        "width": 0.8,
        "x": 0.1,
        "y": 0.1
       },
       "content": {
        "cell": "341cd2c4-bacb-4ce9-a045-b227e28610a1",
        "part": "whole"
       },
       "id": "874624b4-1fad-4365-b0de-9f45d55e4a75"
      }
     }
    },
    "c1d4a1e0-40bb-4481-b5c0-c9e3b77cade3": {
     "id": "c1d4a1e0-40bb-4481-b5c0-c9e3b77cade3",
     "prev": "ea323137-371d-49b3-81d6-73166b77eca0",
     "regions": {
      "20202bc2-bea5-41f4-91d1-2e06cdc1df9b": {
       "attrs": {
        "height": 0.8,
        "width": 0.8,
        "x": 0.1,
        "y": 0.1
       },
       "content": {
        "cell": "79e0e882-7b6a-4aa2-b476-8852ea0b4dfa",
        "part": "whole"
       },
       "id": "20202bc2-bea5-41f4-91d1-2e06cdc1df9b"
      }
     }
    },
    "c29aa4e4-544e-453a-b924-c747ecf736c7": {
     "id": "c29aa4e4-544e-453a-b924-c747ecf736c7",
     "prev": "fc4cbf2b-e8f1-4898-94c6-09fd89042452",
     "regions": {
      "db1728ef-2271-4735-a6ce-8a8ff94d5447": {
       "attrs": {
        "height": 0.8,
        "width": 0.8,
        "x": 0.1,
        "y": 0.1
       },
       "content": {
        "cell": "182990c2-dbc6-4a99-89be-ae7320c92ccf",
        "part": "whole"
       },
       "id": "db1728ef-2271-4735-a6ce-8a8ff94d5447"
      }
     }
    },
    "c2c3e925-da08-4318-9f1e-e0b004f942e2": {
     "id": "c2c3e925-da08-4318-9f1e-e0b004f942e2",
     "prev": "3eec3f2d-afbc-4014-849a-4938b2cb7e24",
     "regions": {
      "285276f6-7773-423f-aff1-6a01245c5d98": {
       "attrs": {
        "height": 0.8,
        "width": 0.8,
        "x": 0.1,
        "y": 0.1
       },
       "content": {
        "cell": "fd44afe4-6ec5-460b-b8ec-86eac0f3236b",
        "part": "whole"
       },
       "id": "285276f6-7773-423f-aff1-6a01245c5d98"
      }
     }
    },
    "c5b318da-c162-4b21-9c98-f384fd5086c4": {
     "id": "c5b318da-c162-4b21-9c98-f384fd5086c4",
     "prev": "9825fafd-199b-4fcd-be73-2fdabbb8e56d",
     "regions": {
      "205874ff-f45b-4aa2-96e8-398fdbc1ef97": {
       "attrs": {
        "height": 0.8,
        "width": 0.8,
        "x": 0.1,
        "y": 0.1
       },
       "content": {
        "cell": "8385f8c2-398b-489c-96cf-3cf246ce0fb5",
        "part": "whole"
       },
       "id": "205874ff-f45b-4aa2-96e8-398fdbc1ef97"
      }
     }
    },
    "c620c9f7-0ea2-484f-9722-661775f0a372": {
     "id": "c620c9f7-0ea2-484f-9722-661775f0a372",
     "prev": null,
     "regions": {
      "db59c277-3862-423f-9f68-0c7b4eed463c": {
       "attrs": {
        "height": 0.8,
        "width": 0.8,
        "x": 0.1,
        "y": 0.1
       },
       "content": {
        "cell": "6412dc74-81e7-478a-9f75-c2f27b57d44c",
        "part": "whole"
       },
       "id": "db59c277-3862-423f-9f68-0c7b4eed463c"
      }
     }
    },
    "c9b2a303-30db-4235-ad7e-5dddb9f69ec4": {
     "id": "c9b2a303-30db-4235-ad7e-5dddb9f69ec4",
     "prev": "731cb780-fca5-4edd-9153-6ec8140fd99a",
     "regions": {
      "cd9d946e-2dbb-407f-ad77-45566a871787": {
       "attrs": {
        "height": 0.8,
        "width": 0.8,
        "x": 0.1,
        "y": 0.1
       },
       "content": {
        "cell": "41f28ae0-a937-4d87-a93d-6f041f694565",
        "part": "whole"
       },
       "id": "cd9d946e-2dbb-407f-ad77-45566a871787"
      }
     }
    },
    "d00d6344-d733-4c13-896d-cd43f963fe1a": {
     "id": "d00d6344-d733-4c13-896d-cd43f963fe1a",
     "prev": "a58cd781-502e-4f56-a372-054cc8bf4d61",
     "regions": {
      "8452cccc-d145-41f3-adfe-22ed04664e8f": {
       "attrs": {
        "height": 0.8,
        "width": 0.8,
        "x": 0.1,
        "y": 0.1
       },
       "content": {
        "cell": "b547d2cf-da9b-4c99-980f-ae8bc92a4a08",
        "part": "whole"
       },
       "id": "8452cccc-d145-41f3-adfe-22ed04664e8f"
      }
     }
    },
    "d0c98f5b-ae10-4775-9571-a8692b099ef1": {
     "id": "d0c98f5b-ae10-4775-9571-a8692b099ef1",
     "prev": "69619bb0-e845-481f-9d21-d760b3077e2b",
     "regions": {
      "f47c0da8-5896-4518-afc8-c505342965d5": {
       "attrs": {
        "height": 0.8,
        "width": 0.8,
        "x": 0.1,
        "y": 0.1
       },
       "content": {
        "cell": "638631ce-743f-4b1e-a437-fd02fed5cca1",
        "part": "whole"
       },
       "id": "f47c0da8-5896-4518-afc8-c505342965d5"
      }
     }
    },
    "d494b013-658c-4213-a807-13a012a73fdf": {
     "id": "d494b013-658c-4213-a807-13a012a73fdf",
     "prev": "9df94dcd-fa3d-4da7-85ba-1e289f79a878",
     "regions": {
      "319f05f0-c8e8-485b-a057-28f160c9e345": {
       "attrs": {
        "height": 0.8,
        "width": 0.8,
        "x": 0.1,
        "y": 0.1
       },
       "content": {
        "cell": "94089412-f15b-47e4-8729-6a7fffe78e3f",
        "part": "whole"
       },
       "id": "319f05f0-c8e8-485b-a057-28f160c9e345"
      }
     }
    },
    "d57be7c5-c063-41dd-8a32-9ea5c9db1567": {
     "id": "d57be7c5-c063-41dd-8a32-9ea5c9db1567",
     "prev": "5259f538-1b15-414c-94d1-51e997122cc8",
     "regions": {
      "cd7f5239-6bcb-4379-8069-6698a9b4c1bd": {
       "attrs": {
        "height": 0.8,
        "width": 0.8,
        "x": 0.1,
        "y": 0.1
       },
       "content": {
        "cell": "1926d6d8-baa0-4e4c-8981-0bb48696113d",
        "part": "whole"
       },
       "id": "cd7f5239-6bcb-4379-8069-6698a9b4c1bd"
      }
     }
    },
    "d5a8b7a1-a31f-4f39-9473-2ff86d9ab45b": {
     "id": "d5a8b7a1-a31f-4f39-9473-2ff86d9ab45b",
     "prev": "d494b013-658c-4213-a807-13a012a73fdf",
     "regions": {
      "aa09acb3-ed70-45b0-a22b-6f7015664fb6": {
       "attrs": {
        "height": 0.8,
        "width": 0.8,
        "x": 0.1,
        "y": 0.1
       },
       "content": {
        "cell": "52372495-05b7-4a3d-8544-3cee32a41757",
        "part": "whole"
       },
       "id": "aa09acb3-ed70-45b0-a22b-6f7015664fb6"
      }
     }
    },
    "d7f280b5-6076-4bb6-affb-fbccdb84303d": {
     "id": "d7f280b5-6076-4bb6-affb-fbccdb84303d",
     "prev": "5eb9c57e-c07a-4980-a013-c03ebdfbbbaf",
     "regions": {
      "66be4404-c3ff-453f-af8c-6250b5d9f3f4": {
       "attrs": {
        "height": 0.8,
        "width": 0.8,
        "x": 0.1,
        "y": 0.1
       },
       "content": {
        "cell": "8738fc47-f043-45e7-ac30-512309175f13",
        "part": "whole"
       },
       "id": "66be4404-c3ff-453f-af8c-6250b5d9f3f4"
      }
     }
    },
    "e1d79783-7fe2-4891-806a-d1f676510699": {
     "id": "e1d79783-7fe2-4891-806a-d1f676510699",
     "prev": "f7a1b8e3-602e-4394-8c50-c51114693bd2",
     "regions": {
      "b4f9512a-1172-4543-88ee-32da32b11303": {
       "attrs": {
        "height": 0.8,
        "width": 0.8,
        "x": 0.1,
        "y": 0.1
       },
       "content": {
        "cell": "f191c737-7a56-4e00-aaa7-2793c0655aae",
        "part": "whole"
       },
       "id": "b4f9512a-1172-4543-88ee-32da32b11303"
      }
     }
    },
    "e2dd561f-d967-4fe6-92b2-f5d9b226ca30": {
     "id": "e2dd561f-d967-4fe6-92b2-f5d9b226ca30",
     "prev": "bfc0f7a1-43ca-4539-ac23-dce04311b3ef",
     "regions": {
      "dd82b46b-98ff-472f-86bd-09acf91039a4": {
       "attrs": {
        "height": 0.8,
        "width": 0.8,
        "x": 0.1,
        "y": 0.1
       },
       "content": {
        "cell": "4840952e-ba20-4d85-982f-6612dee63bd2",
        "part": "whole"
       },
       "id": "dd82b46b-98ff-472f-86bd-09acf91039a4"
      }
     }
    },
    "e4482ee4-b401-4434-827f-17f83ae9bac8": {
     "id": "e4482ee4-b401-4434-827f-17f83ae9bac8",
     "prev": "3a49f8b8-848c-4aa0-bee5-62b756728cd8",
     "regions": {
      "abb3e82c-ec31-4eb0-a6eb-5f1a2559cfbb": {
       "attrs": {
        "height": 0.8,
        "width": 0.8,
        "x": 0.1,
        "y": 0.1
       },
       "content": {
        "cell": "19ec028e-a9d3-4497-93c0-51a564c5c2d9",
        "part": "whole"
       },
       "id": "abb3e82c-ec31-4eb0-a6eb-5f1a2559cfbb"
      }
     }
    },
    "e8a72305-912e-449c-b7cf-018b01bb8acf": {
     "id": "e8a72305-912e-449c-b7cf-018b01bb8acf",
     "prev": "60a62407-48a6-4277-8455-c30a665f369e",
     "regions": {
      "0642125f-ed0e-4488-ab2a-0d379bcebdf3": {
       "attrs": {
        "height": 0.8,
        "width": 0.8,
        "x": 0.1,
        "y": 0.1
       },
       "content": {
        "cell": "7cff0399-09d7-4a54-a98f-7770624915a8",
        "part": "whole"
       },
       "id": "0642125f-ed0e-4488-ab2a-0d379bcebdf3"
      }
     }
    },
    "ea323137-371d-49b3-81d6-73166b77eca0": {
     "id": "ea323137-371d-49b3-81d6-73166b77eca0",
     "prev": "e1d79783-7fe2-4891-806a-d1f676510699",
     "regions": {
      "f8405e19-787d-4d1c-b323-1238b0817a20": {
       "attrs": {
        "height": 0.8,
        "width": 0.8,
        "x": 0.1,
        "y": 0.1
       },
       "content": {
        "cell": "c9a082f0-4ebb-492d-bc3b-b36441e8e671",
        "part": "whole"
       },
       "id": "f8405e19-787d-4d1c-b323-1238b0817a20"
      }
     }
    },
    "ebbebe6e-2e9c-400a-97e6-149c4ada8b14": {
     "id": "ebbebe6e-2e9c-400a-97e6-149c4ada8b14",
     "prev": "543cc01c-c1ca-4825-a971-a0e431318189",
     "regions": {
      "001ab165-6b6b-4902-b219-985adc02cbe8": {
       "attrs": {
        "height": 0.8,
        "width": 0.8,
        "x": 0.1,
        "y": 0.1
       },
       "content": {
        "cell": "172d2262-a1de-4da3-ae14-859b046b7ff3",
        "part": "whole"
       },
       "id": "001ab165-6b6b-4902-b219-985adc02cbe8"
      }
     }
    },
    "ee1b8fa5-5708-4d8b-9be0-9a3888f09d4e": {
     "id": "ee1b8fa5-5708-4d8b-9be0-9a3888f09d4e",
     "prev": "2bef322f-06ee-4412-9bf1-5c7b88f73a26",
     "regions": {
      "e7015e56-0948-43e4-a4b9-15bea4d93a2c": {
       "attrs": {
        "height": 0.8,
        "width": 0.8,
        "x": 0.1,
        "y": 0.1
       },
       "content": {
        "cell": "68836d7a-ea3f-45c6-9ef6-9f0b349d7ecc",
        "part": "whole"
       },
       "id": "e7015e56-0948-43e4-a4b9-15bea4d93a2c"
      }
     }
    },
    "f7a1b8e3-602e-4394-8c50-c51114693bd2": {
     "id": "f7a1b8e3-602e-4394-8c50-c51114693bd2",
     "prev": "4cb14d24-d111-4311-baab-f673a71a141e",
     "regions": {
      "514c389c-5a47-433a-bf64-a013dc1f1c9e": {
       "attrs": {
        "height": 0.8,
        "width": 0.8,
        "x": 0.1,
        "y": 0.1
       },
       "content": {
        "cell": "d78c5a01-f76e-4419-86da-5aef1d8eb648",
        "part": "whole"
       },
       "id": "514c389c-5a47-433a-bf64-a013dc1f1c9e"
      }
     }
    },
    "f860c00b-e69d-43f5-b01e-bf5f602c81b5": {
     "id": "f860c00b-e69d-43f5-b01e-bf5f602c81b5",
     "prev": "4a3d84d0-8b9b-42e8-afac-93c73167f295",
     "regions": {
      "f0ca9bdd-e722-4aff-9754-8d75a8094dd9": {
       "attrs": {
        "height": 0.8,
        "width": 0.8,
        "x": 0.1,
        "y": 0.1
       },
       "content": {
        "cell": "5e880160-c3e7-4dd9-8b57-c094cc430e41",
        "part": "whole"
       },
       "id": "f0ca9bdd-e722-4aff-9754-8d75a8094dd9"
      }
     }
    },
    "fc4cbf2b-e8f1-4898-94c6-09fd89042452": {
     "id": "fc4cbf2b-e8f1-4898-94c6-09fd89042452",
     "prev": "bca6d3a8-d62e-4ecd-a0a0-3e04dcbc71c5",
     "regions": {
      "8bd05299-cc44-4cf1-a648-6fc76ba64f72": {
       "attrs": {
        "height": 0.8,
        "width": 0.8,
        "x": 0.1,
        "y": 0.1
       },
       "content": {
        "cell": "97d6ae3f-71e9-4202-bb64-c3e442009a56",
        "part": "whole"
       },
       "id": "8bd05299-cc44-4cf1-a648-6fc76ba64f72"
      }
     }
    }
   },
   "themes": {}
  }
 },
 "nbformat": 4,
 "nbformat_minor": 0
}
